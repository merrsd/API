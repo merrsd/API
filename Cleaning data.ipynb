{
  "nbformat": 4,
  "nbformat_minor": 0,
  "metadata": {
    "colab": {
      "provenance": [],
      "collapsed_sections": [
        "ubl8S6m-Okfm",
        "7IBFpyn7zwLA",
        "Cooox5Ire8xm",
        "zSKGhqRhOHRD",
        "gzdPIMocO2Wu",
        "8lneWgoLQjaF",
        "_1ZV0dzKpNTm",
        "hHHOc6ZSHB0p",
        "at2orDfXzmQ3",
        "riNd8AQ37e8h",
        "YC8CIUKNM7cG",
        "y4xR1zPMS9Zr",
        "kXZRaduDTCD_",
        "dvwQGSR1Vywj",
        "UDSPV9cxXV96",
        "vr6-h0jNkll2",
        "BBdCToL6m2vN",
        "t6yBH9GzZmjy",
        "y_B1Dq7DV1P7",
        "SC8a7xaHZ7fi",
        "Sl8o2IeU5xHz",
        "YAKroqA76HBA",
        "Zk1aN9FUgMRZ",
        "3FJQHXfPgTzK",
        "__D5jyp5kCSa"
      ],
      "toc_visible": true
    },
    "kernelspec": {
      "name": "python3",
      "display_name": "Python 3"
    },
    "language_info": {
      "name": "python"
    }
  },
  "cells": [
    {
      "cell_type": "markdown",
      "source": [
        "Здравствуйте, уважаемые слушатели!\n",
        "Ко всем темам раздела «Чистка и предобработка данных» один ноутбук Colab. Забирайте себе этот блокнот."
      ],
      "metadata": {
        "id": "PawD5aGWA_qG"
      }
    },
    {
      "cell_type": "markdown",
      "source": [
        "# **Описание кейса**"
      ],
      "metadata": {
        "id": "ubl8S6m-Okfm"
      }
    },
    {
      "cell_type": "markdown",
      "source": [
        "![](https://img.freepik.com/free-vector/gamers-using-different-devices-and-playing-on-mobile-phone-tablet-laptop-console-cartoon-illustration_74855-14380.jpg?size=626&ext=jpg&ga=GA1.2.1798082654.1667295738&semt=sph)\n",
        "<font color=\"grey\" size=\"1\"><a href=\"https://ru.freepik.com/free-vector/gamers-using-different-devices-and-playing-on-mobile-phone-tablet-laptop-console-cartoon-illustration_12699087.htm#query=gamers-using-different-devices&position=0&from_view=search&track=sph\">Изображение от pch.vector</a> на Freepik</font>\n",
        "\n",
        "> Маркетинговый отдел компании, занимающейся развитием киберспорта, планирует запустить таргетированную рекламу среди пользователей Вконтакте. В связи с этим им необходимо изучить целевую аудиторию и составить портреты пользователей, увлекающихся киберспортом, в том числе в разрезе онлайн-игр. Нашему коллеге-маркетологу необходимо построить дашборд с анализом выборки пользователей из онлайн-магазина, расположенного на платформе Вконтакте. Специалист по сбору данных представил датасет с выгруженной информацией по профилям в формате csv. Однако данные в нем в том виде, в котором они есть, не подходят для построения дашборда."
      ],
      "metadata": {
        "id": "6hAbs2qGneSg"
      }
    },
    {
      "cell_type": "markdown",
      "source": [
        "**Наша задача** — очистить данные и привести их в нужный формат."
      ],
      "metadata": {
        "id": "XHjMGVfaW58J"
      }
    },
    {
      "cell_type": "markdown",
      "source": [
        "Какая **информация важна** для нашего коллеги-маркетолога:\n",
        "1. id пользователя\n",
        "2. возраст (кол-во лет)\n",
        "3. пол (1: женский, 2: мужской, 0: не указан)\n",
        "3. город проживания (если указан)\n",
        "4. страна проживания (если указана)\n",
        "5. количество подписчиков (если указано)\n",
        "6. дата последнего входа в магазин\n",
        "7. сумма трат в магазине (значение обязательно должно быть указано, пользователей с неуказанным значением необходимо исключить; значения должны быть соизмеримы, т.е. указаны в единой валюте)\n",
        "8. наименования игр, которыми интересуется пользователь (значение обязательно должно быть указано, пользователей с неуказанным значением необходимо исключить)"
      ],
      "metadata": {
        "id": "3C-DbzL3XHuu"
      }
    },
    {
      "cell_type": "markdown",
      "source": [
        "**Формат файла** с результатами: *xlsx* или *csv*"
      ],
      "metadata": {
        "id": "TOpmRX4Vvqme"
      }
    },
    {
      "cell_type": "markdown",
      "source": [
        "# **Тема 3**"
      ],
      "metadata": {
        "id": "7IBFpyn7zwLA"
      }
    },
    {
      "cell_type": "markdown",
      "source": [
        "## Библиотека pandas (тема 3)"
      ],
      "metadata": {
        "id": "Cooox5Ire8xm"
      }
    },
    {
      "cell_type": "markdown",
      "source": [
        "[Официальная документация библиотеки pandas](https://pandas.pydata.org/pandas-docs/stable/index.html)"
      ],
      "metadata": {
        "id": "kil32EyNjGRa"
      }
    },
    {
      "cell_type": "markdown",
      "source": [
        "\n",
        "Объект DataFrame состоит из так называемых объектов Series. Обязательно наличие индексного столбца (index)\n",
        "![](https://miro.medium.com/max/1400/0*YwPNRwWwTfra-IzR)"
      ],
      "metadata": {
        "id": "Dwjso4NZiPWd"
      }
    },
    {
      "cell_type": "markdown",
      "source": [
        "DataFrame представляет собой прямоугольную таблицу значений:\n",
        "*   каждая строка - **пример**, или же **sample**,\n",
        "*   каждая колонка - **признак**, или же **feature**."
      ],
      "metadata": {
        "id": "wqqg_eCtlxcL"
      }
    },
    {
      "cell_type": "markdown",
      "source": [
        "Индекс примера   | Признак_1 | Признак_2 | Признак_3 | Признак_4 | Признак_5\n",
        "-----------------|-----------|-----------|-----------|-----------|-----------\n",
        " 1               | 10        | 20        | \"строка 1\"| True      | 3.1415926    \n",
        " 2               | 15        | 10        | \"строка 2\"| False     | 2.71      \n",
        " 3               | 12        | 40        | \"строка 3\"| False     | -1.12345  \n"
      ],
      "metadata": {
        "id": "4j1EHjJ7niMV"
      }
    },
    {
      "cell_type": "markdown",
      "source": [
        "Также, таблицы часто называют датасетами, а строки - наблюдениями или записями."
      ],
      "metadata": {
        "id": "aMODSiXvoNlB"
      }
    },
    {
      "cell_type": "markdown",
      "source": [
        "**Типы данных**, используемые в pandas:\n",
        "![image.png](data:image/png;base64,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)"
      ],
      "metadata": {
        "id": "PrBHNRIY6mUt"
      }
    },
    {
      "cell_type": "markdown",
      "source": [
        "## Импорт библиотек (тема 3)"
      ],
      "metadata": {
        "id": "zSKGhqRhOHRD"
      }
    },
    {
      "cell_type": "code",
      "source": [
        "# из библиотеки google.colab импортируем класс files при необходимости подгрузки файла с персонального компьютера\n",
        "from google.colab import files\n",
        "# импортируем pandas - основную библиотеку аналитика данных\n",
        "import pandas as pd\n",
        "# импортируем библиотеку numpy для возможных расчетов\n",
        "import numpy as np\n",
        "# импортируем модуль json для распаковки структур данных формата json\n",
        "import json"
      ],
      "metadata": {
        "id": "RQZaVC4VPueE"
      },
      "execution_count": 1,
      "outputs": []
    },
    {
      "cell_type": "markdown",
      "source": [
        "## Подгрузка файла (тема 3)"
      ],
      "metadata": {
        "id": "gzdPIMocO2Wu"
      }
    },
    {
      "cell_type": "markdown",
      "source": [
        "**1 способ:** подгрузка файла в среду выполнения кода с google диска"
      ],
      "metadata": {
        "id": "BMFgHbKPPzoz"
      }
    },
    {
      "cell_type": "markdown",
      "source": [
        "https://drive.google.com/file/d/1hAKgiAlDGzH8njfKRKs-mj_XQLHfYb-c/view?usp=share_link"
      ],
      "metadata": {
        "id": "IqkUG-GBU3T0"
      }
    },
    {
      "cell_type": "code",
      "execution_count": 2,
      "metadata": {
        "colab": {
          "base_uri": "https://localhost:8080/"
        },
        "id": "IGAt3yRYN9rb",
        "outputId": "8116c7ee-3d0a-487b-c82c-fa17d69f3774"
      },
      "outputs": [
        {
          "output_type": "stream",
          "name": "stdout",
          "text": [
            "/usr/local/lib/python3.10/dist-packages/gdown/cli.py:121: FutureWarning: Option `--id` was deprecated in version 4.3.1 and will be removed in 5.0. You don't need to pass it anymore to use a file ID.\n",
            "  warnings.warn(\n",
            "Downloading...\n",
            "From: https://drive.google.com/uc?id=1hAKgiAlDGzH8njfKRKs-mj_XQLHfYb-c\n",
            "To: /content/shop_users.csv\n",
            "100% 750k/750k [00:00<00:00, 105MB/s]\n"
          ]
        }
      ],
      "source": [
        "!gdown --id 1hAKgiAlDGzH8njfKRKs-mj_XQLHfYb-c"
      ]
    },
    {
      "cell_type": "markdown",
      "source": [
        "**2 способ:** подгрузка файла в среду выполнения кода с персонального компьютера"
      ],
      "metadata": {
        "id": "3TNU7Fj3QBsq"
      }
    },
    {
      "cell_type": "code",
      "source": [
        "uploaded = files.upload()"
      ],
      "metadata": {
        "colab": {
          "base_uri": "https://localhost:8080/",
          "height": 73
        },
        "id": "F4PGim6PPxrO",
        "outputId": "8b4b987d-49c2-4c48-e28c-d2a095d093e8"
      },
      "execution_count": null,
      "outputs": [
        {
          "output_type": "display_data",
          "data": {
            "text/plain": [
              "<IPython.core.display.HTML object>"
            ],
            "text/html": [
              "\n",
              "     <input type=\"file\" id=\"files-352aa4a9-beb4-4721-92b9-f5f0f9194a55\" name=\"files[]\" multiple disabled\n",
              "        style=\"border:none\" />\n",
              "     <output id=\"result-352aa4a9-beb4-4721-92b9-f5f0f9194a55\">\n",
              "      Upload widget is only available when the cell has been executed in the\n",
              "      current browser session. Please rerun this cell to enable.\n",
              "      </output>\n",
              "      <script>// Copyright 2017 Google LLC\n",
              "//\n",
              "// Licensed under the Apache License, Version 2.0 (the \"License\");\n",
              "// you may not use this file except in compliance with the License.\n",
              "// You may obtain a copy of the License at\n",
              "//\n",
              "//      http://www.apache.org/licenses/LICENSE-2.0\n",
              "//\n",
              "// Unless required by applicable law or agreed to in writing, software\n",
              "// distributed under the License is distributed on an \"AS IS\" BASIS,\n",
              "// WITHOUT WARRANTIES OR CONDITIONS OF ANY KIND, either express or implied.\n",
              "// See the License for the specific language governing permissions and\n",
              "// limitations under the License.\n",
              "\n",
              "/**\n",
              " * @fileoverview Helpers for google.colab Python module.\n",
              " */\n",
              "(function(scope) {\n",
              "function span(text, styleAttributes = {}) {\n",
              "  const element = document.createElement('span');\n",
              "  element.textContent = text;\n",
              "  for (const key of Object.keys(styleAttributes)) {\n",
              "    element.style[key] = styleAttributes[key];\n",
              "  }\n",
              "  return element;\n",
              "}\n",
              "\n",
              "// Max number of bytes which will be uploaded at a time.\n",
              "const MAX_PAYLOAD_SIZE = 100 * 1024;\n",
              "\n",
              "function _uploadFiles(inputId, outputId) {\n",
              "  const steps = uploadFilesStep(inputId, outputId);\n",
              "  const outputElement = document.getElementById(outputId);\n",
              "  // Cache steps on the outputElement to make it available for the next call\n",
              "  // to uploadFilesContinue from Python.\n",
              "  outputElement.steps = steps;\n",
              "\n",
              "  return _uploadFilesContinue(outputId);\n",
              "}\n",
              "\n",
              "// This is roughly an async generator (not supported in the browser yet),\n",
              "// where there are multiple asynchronous steps and the Python side is going\n",
              "// to poll for completion of each step.\n",
              "// This uses a Promise to block the python side on completion of each step,\n",
              "// then passes the result of the previous step as the input to the next step.\n",
              "function _uploadFilesContinue(outputId) {\n",
              "  const outputElement = document.getElementById(outputId);\n",
              "  const steps = outputElement.steps;\n",
              "\n",
              "  const next = steps.next(outputElement.lastPromiseValue);\n",
              "  return Promise.resolve(next.value.promise).then((value) => {\n",
              "    // Cache the last promise value to make it available to the next\n",
              "    // step of the generator.\n",
              "    outputElement.lastPromiseValue = value;\n",
              "    return next.value.response;\n",
              "  });\n",
              "}\n",
              "\n",
              "/**\n",
              " * Generator function which is called between each async step of the upload\n",
              " * process.\n",
              " * @param {string} inputId Element ID of the input file picker element.\n",
              " * @param {string} outputId Element ID of the output display.\n",
              " * @return {!Iterable<!Object>} Iterable of next steps.\n",
              " */\n",
              "function* uploadFilesStep(inputId, outputId) {\n",
              "  const inputElement = document.getElementById(inputId);\n",
              "  inputElement.disabled = false;\n",
              "\n",
              "  const outputElement = document.getElementById(outputId);\n",
              "  outputElement.innerHTML = '';\n",
              "\n",
              "  const pickedPromise = new Promise((resolve) => {\n",
              "    inputElement.addEventListener('change', (e) => {\n",
              "      resolve(e.target.files);\n",
              "    });\n",
              "  });\n",
              "\n",
              "  const cancel = document.createElement('button');\n",
              "  inputElement.parentElement.appendChild(cancel);\n",
              "  cancel.textContent = 'Cancel upload';\n",
              "  const cancelPromise = new Promise((resolve) => {\n",
              "    cancel.onclick = () => {\n",
              "      resolve(null);\n",
              "    };\n",
              "  });\n",
              "\n",
              "  // Wait for the user to pick the files.\n",
              "  const files = yield {\n",
              "    promise: Promise.race([pickedPromise, cancelPromise]),\n",
              "    response: {\n",
              "      action: 'starting',\n",
              "    }\n",
              "  };\n",
              "\n",
              "  cancel.remove();\n",
              "\n",
              "  // Disable the input element since further picks are not allowed.\n",
              "  inputElement.disabled = true;\n",
              "\n",
              "  if (!files) {\n",
              "    return {\n",
              "      response: {\n",
              "        action: 'complete',\n",
              "      }\n",
              "    };\n",
              "  }\n",
              "\n",
              "  for (const file of files) {\n",
              "    const li = document.createElement('li');\n",
              "    li.append(span(file.name, {fontWeight: 'bold'}));\n",
              "    li.append(span(\n",
              "        `(${file.type || 'n/a'}) - ${file.size} bytes, ` +\n",
              "        `last modified: ${\n",
              "            file.lastModifiedDate ? file.lastModifiedDate.toLocaleDateString() :\n",
              "                                    'n/a'} - `));\n",
              "    const percent = span('0% done');\n",
              "    li.appendChild(percent);\n",
              "\n",
              "    outputElement.appendChild(li);\n",
              "\n",
              "    const fileDataPromise = new Promise((resolve) => {\n",
              "      const reader = new FileReader();\n",
              "      reader.onload = (e) => {\n",
              "        resolve(e.target.result);\n",
              "      };\n",
              "      reader.readAsArrayBuffer(file);\n",
              "    });\n",
              "    // Wait for the data to be ready.\n",
              "    let fileData = yield {\n",
              "      promise: fileDataPromise,\n",
              "      response: {\n",
              "        action: 'continue',\n",
              "      }\n",
              "    };\n",
              "\n",
              "    // Use a chunked sending to avoid message size limits. See b/62115660.\n",
              "    let position = 0;\n",
              "    do {\n",
              "      const length = Math.min(fileData.byteLength - position, MAX_PAYLOAD_SIZE);\n",
              "      const chunk = new Uint8Array(fileData, position, length);\n",
              "      position += length;\n",
              "\n",
              "      const base64 = btoa(String.fromCharCode.apply(null, chunk));\n",
              "      yield {\n",
              "        response: {\n",
              "          action: 'append',\n",
              "          file: file.name,\n",
              "          data: base64,\n",
              "        },\n",
              "      };\n",
              "\n",
              "      let percentDone = fileData.byteLength === 0 ?\n",
              "          100 :\n",
              "          Math.round((position / fileData.byteLength) * 100);\n",
              "      percent.textContent = `${percentDone}% done`;\n",
              "\n",
              "    } while (position < fileData.byteLength);\n",
              "  }\n",
              "\n",
              "  // All done.\n",
              "  yield {\n",
              "    response: {\n",
              "      action: 'complete',\n",
              "    }\n",
              "  };\n",
              "}\n",
              "\n",
              "scope.google = scope.google || {};\n",
              "scope.google.colab = scope.google.colab || {};\n",
              "scope.google.colab._files = {\n",
              "  _uploadFiles,\n",
              "  _uploadFilesContinue,\n",
              "};\n",
              "})(self);\n",
              "</script> "
            ]
          },
          "metadata": {}
        },
        {
          "output_type": "stream",
          "name": "stdout",
          "text": [
            "Saving shop_users.csv to shop_users (1).csv\n"
          ]
        }
      ]
    },
    {
      "cell_type": "markdown",
      "source": [
        "## Чтение файла (тема 3)"
      ],
      "metadata": {
        "id": "8lneWgoLQjaF"
      }
    },
    {
      "cell_type": "markdown",
      "source": [
        "1. Файлы формата csv, tsv"
      ],
      "metadata": {
        "id": "_PqzkGJdecP9"
      }
    },
    {
      "cell_type": "code",
      "source": [
        "df = pd.read_csv('shop_users.csv')"
      ],
      "metadata": {
        "id": "ysJdcKI2UUyp"
      },
      "execution_count": null,
      "outputs": []
    },
    {
      "cell_type": "markdown",
      "source": [
        "Параметр *sep* не указываем, т.к. по умолчанию sep=',' (что соответствует используемому разделителю в нашем файле)"
      ],
      "metadata": {
        "id": "hh2RJylEfcmN"
      }
    },
    {
      "cell_type": "markdown",
      "source": [
        "2. Файлы формата xls, xlsx"
      ],
      "metadata": {
        "id": "5Ys9bmbOetyh"
      }
    },
    {
      "cell_type": "code",
      "source": [
        "# df = pd.read_excel('shop_users.xlsx')"
      ],
      "metadata": {
        "id": "kl5xMeYjeo4N"
      },
      "execution_count": null,
      "outputs": []
    },
    {
      "cell_type": "code",
      "source": [
        "df"
      ],
      "metadata": {
        "colab": {
          "base_uri": "https://localhost:8080/",
          "height": 1000
        },
        "id": "_CGIfOpDg_Xa",
        "outputId": "24899a4f-be91-45bb-b138-b27d57704286"
      },
      "execution_count": null,
      "outputs": [
        {
          "output_type": "execute_result",
          "data": {
            "text/plain": [
              "      Unnamed: 0         id       bdate  \\\n",
              "0              0         19    1.1.2005   \n",
              "1              1        510    1.1.1985   \n",
              "2              2        674    1.1.1979   \n",
              "3              3       1018    1.1.2002   \n",
              "4              4       1586    1.1.1989   \n",
              "...          ...        ...         ...   \n",
              "3520        3520  741237782   22.2.2000   \n",
              "3521        3521  741237783    4.8.2005   \n",
              "3522        3522  741237784  30.11.2002   \n",
              "3523        3523  741237785    5.6.2008   \n",
              "3524        3524  741237786   24.7.1990   \n",
              "\n",
              "                                        city  \\\n",
              "0     {'id': 2, 'title': 'Saint-Petersburg'}   \n",
              "1                                        NaN   \n",
              "2         {'id': 99, 'title': 'Новосибирск'}   \n",
              "3     {'id': 2, 'title': 'Saint-Petersburg'}   \n",
              "4                                        NaN   \n",
              "...                                      ...   \n",
              "3520                                     NaN   \n",
              "3521            {'id': 1, 'title': 'Россия'}   \n",
              "3522            {'id': 1, 'title': 'Россия'}   \n",
              "3523            {'id': 1, 'title': 'Россия'}   \n",
              "3524            {'id': 1, 'title': 'Россия'}   \n",
              "\n",
              "                                  country  \\\n",
              "0            {'id': 1, 'title': 'Россия'}   \n",
              "1            {'id': 1, 'title': 'Россия'}   \n",
              "2            {'id': 1, 'title': 'Россия'}   \n",
              "3            {'id': 1, 'title': 'Россия'}   \n",
              "4            {'id': 1, 'title': 'Россия'}   \n",
              "...                                   ...   \n",
              "3520         {'id': 1, 'title': 'Россия'}   \n",
              "3521  {'platform': 4, 'time': 1658820057}   \n",
              "3522  {'platform': 2, 'time': 1662237422}   \n",
              "3523  {'platform': 4, 'time': 1662232523}   \n",
              "3524  {'platform': 4, 'time': 1661793146}   \n",
              "\n",
              "                                last_seen  followers_count  common_count  sex  \\\n",
              "0     {'platform': 2, 'time': 1662237362}          39326.0             0    1   \n",
              "1     {'platform': 7, 'time': 1661321803}          19698.0             0    2   \n",
              "2     {'platform': 7, 'time': 1662202619}              NaN             0    2   \n",
              "3     {'platform': 1, 'time': 1613708136}              NaN             0    2   \n",
              "4     {'platform': 7, 'time': 1619550770}          31433.0             0    2   \n",
              "...                                   ...              ...           ...  ...   \n",
              "3520  {'platform': 4, 'time': 1661793146}              NaN             0    2   \n",
              "3521                                  NaN              0.0             2    1   \n",
              "3522                                    0              0.0             2    0   \n",
              "3523                                    1              0.0             2    0   \n",
              "3524                                  NaN              0.0             2    1   \n",
              "\n",
              "      is_closed home_town                             relation  \\\n",
              "0           0.0       NaN                                  NaN   \n",
              "1           0.0       NaN                                  NaN   \n",
              "2           1.0       NaN                                  NaN   \n",
              "3           1.0       NaN                                  NaN   \n",
              "4           0.0       NaN                                  NaN   \n",
              "...         ...       ...                                  ...   \n",
              "3520        1.0       NaN                                  NaN   \n",
              "3521        NaN       NaN  {'costs': 50000, 'currency': 'RUR'}   \n",
              "3522        NaN         0  {'costs': 50000, 'currency': 'RUR'}   \n",
              "3523        NaN       NaN  {'costs': 25000, 'currency': 'RUR'}   \n",
              "3524        NaN       NaN  {'costs': 25000, 'currency': 'RUR'}   \n",
              "\n",
              "                                                  costs  \\\n",
              "0                   {'costs': 25000, 'currency': 'RUR'}   \n",
              "1                   {'costs': 50000, 'currency': 'RUR'}   \n",
              "2                   {'costs': 75000, 'currency': 'RUR'}   \n",
              "3                  {'costs': 100000, 'currency': 'RUR'}   \n",
              "4                  {'costs': 100000, 'currency': 'RUR'}   \n",
              "...                                                 ...   \n",
              "3520                {'costs': 25000, 'currency': 'RUR'}   \n",
              "3521                             [{'name': 'Fortnite'}]   \n",
              "3522  [{'name': 'PUBG'}, {'name': 'Hearthstone'}, {'...   \n",
              "3523                                 [{'name': 'FIFA'}]   \n",
              "3524  [{'name': 'StarCraft 2'}, {'name': 'Warface'},...   \n",
              "\n",
              "                                                  games  \n",
              "0     [{'name': 'Dota 2'}, {'name': 'CS:GO'}, {'name...  \n",
              "1     [{'name': 'League of Legends'}, {'name': 'Valo...  \n",
              "2                                [{'name': 'Fortnite'}]  \n",
              "3     [{'name': 'PUBG'}, {'name': 'Hearthstone'}, {'...  \n",
              "4                                    [{'name': 'FIFA'}]  \n",
              "...                                                 ...  \n",
              "3520                                [{'name': 'CS:GO'}]  \n",
              "3521                                                 no  \n",
              "3522                                                 no  \n",
              "3523                                                 no  \n",
              "3524                                                 no  \n",
              "\n",
              "[3525 rows x 14 columns]"
            ],
            "text/html": [
              "\n",
              "  <div id=\"df-d7842b47-de02-41a7-aad4-82fa5b664ae6\">\n",
              "    <div class=\"colab-df-container\">\n",
              "      <div>\n",
              "<style scoped>\n",
              "    .dataframe tbody tr th:only-of-type {\n",
              "        vertical-align: middle;\n",
              "    }\n",
              "\n",
              "    .dataframe tbody tr th {\n",
              "        vertical-align: top;\n",
              "    }\n",
              "\n",
              "    .dataframe thead th {\n",
              "        text-align: right;\n",
              "    }\n",
              "</style>\n",
              "<table border=\"1\" class=\"dataframe\">\n",
              "  <thead>\n",
              "    <tr style=\"text-align: right;\">\n",
              "      <th></th>\n",
              "      <th>Unnamed: 0</th>\n",
              "      <th>id</th>\n",
              "      <th>bdate</th>\n",
              "      <th>city</th>\n",
              "      <th>country</th>\n",
              "      <th>last_seen</th>\n",
              "      <th>followers_count</th>\n",
              "      <th>common_count</th>\n",
              "      <th>sex</th>\n",
              "      <th>is_closed</th>\n",
              "      <th>home_town</th>\n",
              "      <th>relation</th>\n",
              "      <th>costs</th>\n",
              "      <th>games</th>\n",
              "    </tr>\n",
              "  </thead>\n",
              "  <tbody>\n",
              "    <tr>\n",
              "      <th>0</th>\n",
              "      <td>0</td>\n",
              "      <td>19</td>\n",
              "      <td>1.1.2005</td>\n",
              "      <td>{'id': 2, 'title': 'Saint-Petersburg'}</td>\n",
              "      <td>{'id': 1, 'title': 'Россия'}</td>\n",
              "      <td>{'platform': 2, 'time': 1662237362}</td>\n",
              "      <td>39326.0</td>\n",
              "      <td>0</td>\n",
              "      <td>1</td>\n",
              "      <td>0.0</td>\n",
              "      <td>NaN</td>\n",
              "      <td>NaN</td>\n",
              "      <td>{'costs': 25000, 'currency': 'RUR'}</td>\n",
              "      <td>[{'name': 'Dota 2'}, {'name': 'CS:GO'}, {'name...</td>\n",
              "    </tr>\n",
              "    <tr>\n",
              "      <th>1</th>\n",
              "      <td>1</td>\n",
              "      <td>510</td>\n",
              "      <td>1.1.1985</td>\n",
              "      <td>NaN</td>\n",
              "      <td>{'id': 1, 'title': 'Россия'}</td>\n",
              "      <td>{'platform': 7, 'time': 1661321803}</td>\n",
              "      <td>19698.0</td>\n",
              "      <td>0</td>\n",
              "      <td>2</td>\n",
              "      <td>0.0</td>\n",
              "      <td>NaN</td>\n",
              "      <td>NaN</td>\n",
              "      <td>{'costs': 50000, 'currency': 'RUR'}</td>\n",
              "      <td>[{'name': 'League of Legends'}, {'name': 'Valo...</td>\n",
              "    </tr>\n",
              "    <tr>\n",
              "      <th>2</th>\n",
              "      <td>2</td>\n",
              "      <td>674</td>\n",
              "      <td>1.1.1979</td>\n",
              "      <td>{'id': 99, 'title': 'Новосибирск'}</td>\n",
              "      <td>{'id': 1, 'title': 'Россия'}</td>\n",
              "      <td>{'platform': 7, 'time': 1662202619}</td>\n",
              "      <td>NaN</td>\n",
              "      <td>0</td>\n",
              "      <td>2</td>\n",
              "      <td>1.0</td>\n",
              "      <td>NaN</td>\n",
              "      <td>NaN</td>\n",
              "      <td>{'costs': 75000, 'currency': 'RUR'}</td>\n",
              "      <td>[{'name': 'Fortnite'}]</td>\n",
              "    </tr>\n",
              "    <tr>\n",
              "      <th>3</th>\n",
              "      <td>3</td>\n",
              "      <td>1018</td>\n",
              "      <td>1.1.2002</td>\n",
              "      <td>{'id': 2, 'title': 'Saint-Petersburg'}</td>\n",
              "      <td>{'id': 1, 'title': 'Россия'}</td>\n",
              "      <td>{'platform': 1, 'time': 1613708136}</td>\n",
              "      <td>NaN</td>\n",
              "      <td>0</td>\n",
              "      <td>2</td>\n",
              "      <td>1.0</td>\n",
              "      <td>NaN</td>\n",
              "      <td>NaN</td>\n",
              "      <td>{'costs': 100000, 'currency': 'RUR'}</td>\n",
              "      <td>[{'name': 'PUBG'}, {'name': 'Hearthstone'}, {'...</td>\n",
              "    </tr>\n",
              "    <tr>\n",
              "      <th>4</th>\n",
              "      <td>4</td>\n",
              "      <td>1586</td>\n",
              "      <td>1.1.1989</td>\n",
              "      <td>NaN</td>\n",
              "      <td>{'id': 1, 'title': 'Россия'}</td>\n",
              "      <td>{'platform': 7, 'time': 1619550770}</td>\n",
              "      <td>31433.0</td>\n",
              "      <td>0</td>\n",
              "      <td>2</td>\n",
              "      <td>0.0</td>\n",
              "      <td>NaN</td>\n",
              "      <td>NaN</td>\n",
              "      <td>{'costs': 100000, 'currency': 'RUR'}</td>\n",
              "      <td>[{'name': 'FIFA'}]</td>\n",
              "    </tr>\n",
              "    <tr>\n",
              "      <th>...</th>\n",
              "      <td>...</td>\n",
              "      <td>...</td>\n",
              "      <td>...</td>\n",
              "      <td>...</td>\n",
              "      <td>...</td>\n",
              "      <td>...</td>\n",
              "      <td>...</td>\n",
              "      <td>...</td>\n",
              "      <td>...</td>\n",
              "      <td>...</td>\n",
              "      <td>...</td>\n",
              "      <td>...</td>\n",
              "      <td>...</td>\n",
              "      <td>...</td>\n",
              "    </tr>\n",
              "    <tr>\n",
              "      <th>3520</th>\n",
              "      <td>3520</td>\n",
              "      <td>741237782</td>\n",
              "      <td>22.2.2000</td>\n",
              "      <td>NaN</td>\n",
              "      <td>{'id': 1, 'title': 'Россия'}</td>\n",
              "      <td>{'platform': 4, 'time': 1661793146}</td>\n",
              "      <td>NaN</td>\n",
              "      <td>0</td>\n",
              "      <td>2</td>\n",
              "      <td>1.0</td>\n",
              "      <td>NaN</td>\n",
              "      <td>NaN</td>\n",
              "      <td>{'costs': 25000, 'currency': 'RUR'}</td>\n",
              "      <td>[{'name': 'CS:GO'}]</td>\n",
              "    </tr>\n",
              "    <tr>\n",
              "      <th>3521</th>\n",
              "      <td>3521</td>\n",
              "      <td>741237783</td>\n",
              "      <td>4.8.2005</td>\n",
              "      <td>{'id': 1, 'title': 'Россия'}</td>\n",
              "      <td>{'platform': 4, 'time': 1658820057}</td>\n",
              "      <td>NaN</td>\n",
              "      <td>0.0</td>\n",
              "      <td>2</td>\n",
              "      <td>1</td>\n",
              "      <td>NaN</td>\n",
              "      <td>NaN</td>\n",
              "      <td>{'costs': 50000, 'currency': 'RUR'}</td>\n",
              "      <td>[{'name': 'Fortnite'}]</td>\n",
              "      <td>no</td>\n",
              "    </tr>\n",
              "    <tr>\n",
              "      <th>3522</th>\n",
              "      <td>3522</td>\n",
              "      <td>741237784</td>\n",
              "      <td>30.11.2002</td>\n",
              "      <td>{'id': 1, 'title': 'Россия'}</td>\n",
              "      <td>{'platform': 2, 'time': 1662237422}</td>\n",
              "      <td>0</td>\n",
              "      <td>0.0</td>\n",
              "      <td>2</td>\n",
              "      <td>0</td>\n",
              "      <td>NaN</td>\n",
              "      <td>0</td>\n",
              "      <td>{'costs': 50000, 'currency': 'RUR'}</td>\n",
              "      <td>[{'name': 'PUBG'}, {'name': 'Hearthstone'}, {'...</td>\n",
              "      <td>no</td>\n",
              "    </tr>\n",
              "    <tr>\n",
              "      <th>3523</th>\n",
              "      <td>3523</td>\n",
              "      <td>741237785</td>\n",
              "      <td>5.6.2008</td>\n",
              "      <td>{'id': 1, 'title': 'Россия'}</td>\n",
              "      <td>{'platform': 4, 'time': 1662232523}</td>\n",
              "      <td>1</td>\n",
              "      <td>0.0</td>\n",
              "      <td>2</td>\n",
              "      <td>0</td>\n",
              "      <td>NaN</td>\n",
              "      <td>NaN</td>\n",
              "      <td>{'costs': 25000, 'currency': 'RUR'}</td>\n",
              "      <td>[{'name': 'FIFA'}]</td>\n",
              "      <td>no</td>\n",
              "    </tr>\n",
              "    <tr>\n",
              "      <th>3524</th>\n",
              "      <td>3524</td>\n",
              "      <td>741237786</td>\n",
              "      <td>24.7.1990</td>\n",
              "      <td>{'id': 1, 'title': 'Россия'}</td>\n",
              "      <td>{'platform': 4, 'time': 1661793146}</td>\n",
              "      <td>NaN</td>\n",
              "      <td>0.0</td>\n",
              "      <td>2</td>\n",
              "      <td>1</td>\n",
              "      <td>NaN</td>\n",
              "      <td>NaN</td>\n",
              "      <td>{'costs': 25000, 'currency': 'RUR'}</td>\n",
              "      <td>[{'name': 'StarCraft 2'}, {'name': 'Warface'},...</td>\n",
              "      <td>no</td>\n",
              "    </tr>\n",
              "  </tbody>\n",
              "</table>\n",
              "<p>3525 rows × 14 columns</p>\n",
              "</div>\n",
              "      <button class=\"colab-df-convert\" onclick=\"convertToInteractive('df-d7842b47-de02-41a7-aad4-82fa5b664ae6')\"\n",
              "              title=\"Convert this dataframe to an interactive table.\"\n",
              "              style=\"display:none;\">\n",
              "        \n",
              "  <svg xmlns=\"http://www.w3.org/2000/svg\" height=\"24px\"viewBox=\"0 0 24 24\"\n",
              "       width=\"24px\">\n",
              "    <path d=\"M0 0h24v24H0V0z\" fill=\"none\"/>\n",
              "    <path d=\"M18.56 5.44l.94 2.06.94-2.06 2.06-.94-2.06-.94-.94-2.06-.94 2.06-2.06.94zm-11 1L8.5 8.5l.94-2.06 2.06-.94-2.06-.94L8.5 2.5l-.94 2.06-2.06.94zm10 10l.94 2.06.94-2.06 2.06-.94-2.06-.94-.94-2.06-.94 2.06-2.06.94z\"/><path d=\"M17.41 7.96l-1.37-1.37c-.4-.4-.92-.59-1.43-.59-.52 0-1.04.2-1.43.59L10.3 9.45l-7.72 7.72c-.78.78-.78 2.05 0 2.83L4 21.41c.39.39.9.59 1.41.59.51 0 1.02-.2 1.41-.59l7.78-7.78 2.81-2.81c.8-.78.8-2.07 0-2.86zM5.41 20L4 18.59l7.72-7.72 1.47 1.35L5.41 20z\"/>\n",
              "  </svg>\n",
              "      </button>\n",
              "      \n",
              "  <style>\n",
              "    .colab-df-container {\n",
              "      display:flex;\n",
              "      flex-wrap:wrap;\n",
              "      gap: 12px;\n",
              "    }\n",
              "\n",
              "    .colab-df-convert {\n",
              "      background-color: #E8F0FE;\n",
              "      border: none;\n",
              "      border-radius: 50%;\n",
              "      cursor: pointer;\n",
              "      display: none;\n",
              "      fill: #1967D2;\n",
              "      height: 32px;\n",
              "      padding: 0 0 0 0;\n",
              "      width: 32px;\n",
              "    }\n",
              "\n",
              "    .colab-df-convert:hover {\n",
              "      background-color: #E2EBFA;\n",
              "      box-shadow: 0px 1px 2px rgba(60, 64, 67, 0.3), 0px 1px 3px 1px rgba(60, 64, 67, 0.15);\n",
              "      fill: #174EA6;\n",
              "    }\n",
              "\n",
              "    [theme=dark] .colab-df-convert {\n",
              "      background-color: #3B4455;\n",
              "      fill: #D2E3FC;\n",
              "    }\n",
              "\n",
              "    [theme=dark] .colab-df-convert:hover {\n",
              "      background-color: #434B5C;\n",
              "      box-shadow: 0px 1px 3px 1px rgba(0, 0, 0, 0.15);\n",
              "      filter: drop-shadow(0px 1px 2px rgba(0, 0, 0, 0.3));\n",
              "      fill: #FFFFFF;\n",
              "    }\n",
              "  </style>\n",
              "\n",
              "      <script>\n",
              "        const buttonEl =\n",
              "          document.querySelector('#df-d7842b47-de02-41a7-aad4-82fa5b664ae6 button.colab-df-convert');\n",
              "        buttonEl.style.display =\n",
              "          google.colab.kernel.accessAllowed ? 'block' : 'none';\n",
              "\n",
              "        async function convertToInteractive(key) {\n",
              "          const element = document.querySelector('#df-d7842b47-de02-41a7-aad4-82fa5b664ae6');\n",
              "          const dataTable =\n",
              "            await google.colab.kernel.invokeFunction('convertToInteractive',\n",
              "                                                     [key], {});\n",
              "          if (!dataTable) return;\n",
              "\n",
              "          const docLinkHtml = 'Like what you see? Visit the ' +\n",
              "            '<a target=\"_blank\" href=https://colab.research.google.com/notebooks/data_table.ipynb>data table notebook</a>'\n",
              "            + ' to learn more about interactive tables.';\n",
              "          element.innerHTML = '';\n",
              "          dataTable['output_type'] = 'display_data';\n",
              "          await google.colab.output.renderOutput(dataTable, element);\n",
              "          const docLink = document.createElement('div');\n",
              "          docLink.innerHTML = docLinkHtml;\n",
              "          element.appendChild(docLink);\n",
              "        }\n",
              "      </script>\n",
              "    </div>\n",
              "  </div>\n",
              "  "
            ]
          },
          "metadata": {},
          "execution_count": 5
        }
      ]
    },
    {
      "cell_type": "markdown",
      "source": [
        "## Обзор датасета (тема 3)"
      ],
      "metadata": {
        "id": "_1ZV0dzKpNTm"
      }
    },
    {
      "cell_type": "code",
      "source": [
        "# показывает наблюдения с начала датасета (по умолчанию - 5 наблюдений)\n",
        "df.head()"
      ],
      "metadata": {
        "colab": {
          "base_uri": "https://localhost:8080/",
          "height": 583
        },
        "id": "xQUGYS-EkdiS",
        "outputId": "0a6624e5-6313-42fb-fde4-71911eb9cbfc"
      },
      "execution_count": null,
      "outputs": [
        {
          "output_type": "execute_result",
          "data": {
            "text/plain": [
              "   Unnamed: 0    id     bdate                                    city  \\\n",
              "0           0    19  1.1.2005  {'id': 2, 'title': 'Saint-Petersburg'}   \n",
              "1           1   510  1.1.1985                                     NaN   \n",
              "2           2   674  1.1.1979      {'id': 99, 'title': 'Новосибирск'}   \n",
              "3           3  1018  1.1.2002  {'id': 2, 'title': 'Saint-Petersburg'}   \n",
              "4           4  1586  1.1.1989                                     NaN   \n",
              "\n",
              "                        country                            last_seen  \\\n",
              "0  {'id': 1, 'title': 'Россия'}  {'platform': 2, 'time': 1662237362}   \n",
              "1  {'id': 1, 'title': 'Россия'}  {'platform': 7, 'time': 1661321803}   \n",
              "2  {'id': 1, 'title': 'Россия'}  {'platform': 7, 'time': 1662202619}   \n",
              "3  {'id': 1, 'title': 'Россия'}  {'platform': 1, 'time': 1613708136}   \n",
              "4  {'id': 1, 'title': 'Россия'}  {'platform': 7, 'time': 1619550770}   \n",
              "\n",
              "   followers_count  common_count  sex  is_closed home_town relation  \\\n",
              "0          39326.0             0    1        0.0       NaN      NaN   \n",
              "1          19698.0             0    2        0.0       NaN      NaN   \n",
              "2              NaN             0    2        1.0       NaN      NaN   \n",
              "3              NaN             0    2        1.0       NaN      NaN   \n",
              "4          31433.0             0    2        0.0       NaN      NaN   \n",
              "\n",
              "                                  costs  \\\n",
              "0   {'costs': 25000, 'currency': 'RUR'}   \n",
              "1   {'costs': 50000, 'currency': 'RUR'}   \n",
              "2   {'costs': 75000, 'currency': 'RUR'}   \n",
              "3  {'costs': 100000, 'currency': 'RUR'}   \n",
              "4  {'costs': 100000, 'currency': 'RUR'}   \n",
              "\n",
              "                                               games  \n",
              "0  [{'name': 'Dota 2'}, {'name': 'CS:GO'}, {'name...  \n",
              "1  [{'name': 'League of Legends'}, {'name': 'Valo...  \n",
              "2                             [{'name': 'Fortnite'}]  \n",
              "3  [{'name': 'PUBG'}, {'name': 'Hearthstone'}, {'...  \n",
              "4                                 [{'name': 'FIFA'}]  "
            ],
            "text/html": [
              "\n",
              "  <div id=\"df-93bcd623-81f4-47fb-ae42-d15272a6914d\">\n",
              "    <div class=\"colab-df-container\">\n",
              "      <div>\n",
              "<style scoped>\n",
              "    .dataframe tbody tr th:only-of-type {\n",
              "        vertical-align: middle;\n",
              "    }\n",
              "\n",
              "    .dataframe tbody tr th {\n",
              "        vertical-align: top;\n",
              "    }\n",
              "\n",
              "    .dataframe thead th {\n",
              "        text-align: right;\n",
              "    }\n",
              "</style>\n",
              "<table border=\"1\" class=\"dataframe\">\n",
              "  <thead>\n",
              "    <tr style=\"text-align: right;\">\n",
              "      <th></th>\n",
              "      <th>Unnamed: 0</th>\n",
              "      <th>id</th>\n",
              "      <th>bdate</th>\n",
              "      <th>city</th>\n",
              "      <th>country</th>\n",
              "      <th>last_seen</th>\n",
              "      <th>followers_count</th>\n",
              "      <th>common_count</th>\n",
              "      <th>sex</th>\n",
              "      <th>is_closed</th>\n",
              "      <th>home_town</th>\n",
              "      <th>relation</th>\n",
              "      <th>costs</th>\n",
              "      <th>games</th>\n",
              "    </tr>\n",
              "  </thead>\n",
              "  <tbody>\n",
              "    <tr>\n",
              "      <th>0</th>\n",
              "      <td>0</td>\n",
              "      <td>19</td>\n",
              "      <td>1.1.2005</td>\n",
              "      <td>{'id': 2, 'title': 'Saint-Petersburg'}</td>\n",
              "      <td>{'id': 1, 'title': 'Россия'}</td>\n",
              "      <td>{'platform': 2, 'time': 1662237362}</td>\n",
              "      <td>39326.0</td>\n",
              "      <td>0</td>\n",
              "      <td>1</td>\n",
              "      <td>0.0</td>\n",
              "      <td>NaN</td>\n",
              "      <td>NaN</td>\n",
              "      <td>{'costs': 25000, 'currency': 'RUR'}</td>\n",
              "      <td>[{'name': 'Dota 2'}, {'name': 'CS:GO'}, {'name...</td>\n",
              "    </tr>\n",
              "    <tr>\n",
              "      <th>1</th>\n",
              "      <td>1</td>\n",
              "      <td>510</td>\n",
              "      <td>1.1.1985</td>\n",
              "      <td>NaN</td>\n",
              "      <td>{'id': 1, 'title': 'Россия'}</td>\n",
              "      <td>{'platform': 7, 'time': 1661321803}</td>\n",
              "      <td>19698.0</td>\n",
              "      <td>0</td>\n",
              "      <td>2</td>\n",
              "      <td>0.0</td>\n",
              "      <td>NaN</td>\n",
              "      <td>NaN</td>\n",
              "      <td>{'costs': 50000, 'currency': 'RUR'}</td>\n",
              "      <td>[{'name': 'League of Legends'}, {'name': 'Valo...</td>\n",
              "    </tr>\n",
              "    <tr>\n",
              "      <th>2</th>\n",
              "      <td>2</td>\n",
              "      <td>674</td>\n",
              "      <td>1.1.1979</td>\n",
              "      <td>{'id': 99, 'title': 'Новосибирск'}</td>\n",
              "      <td>{'id': 1, 'title': 'Россия'}</td>\n",
              "      <td>{'platform': 7, 'time': 1662202619}</td>\n",
              "      <td>NaN</td>\n",
              "      <td>0</td>\n",
              "      <td>2</td>\n",
              "      <td>1.0</td>\n",
              "      <td>NaN</td>\n",
              "      <td>NaN</td>\n",
              "      <td>{'costs': 75000, 'currency': 'RUR'}</td>\n",
              "      <td>[{'name': 'Fortnite'}]</td>\n",
              "    </tr>\n",
              "    <tr>\n",
              "      <th>3</th>\n",
              "      <td>3</td>\n",
              "      <td>1018</td>\n",
              "      <td>1.1.2002</td>\n",
              "      <td>{'id': 2, 'title': 'Saint-Petersburg'}</td>\n",
              "      <td>{'id': 1, 'title': 'Россия'}</td>\n",
              "      <td>{'platform': 1, 'time': 1613708136}</td>\n",
              "      <td>NaN</td>\n",
              "      <td>0</td>\n",
              "      <td>2</td>\n",
              "      <td>1.0</td>\n",
              "      <td>NaN</td>\n",
              "      <td>NaN</td>\n",
              "      <td>{'costs': 100000, 'currency': 'RUR'}</td>\n",
              "      <td>[{'name': 'PUBG'}, {'name': 'Hearthstone'}, {'...</td>\n",
              "    </tr>\n",
              "    <tr>\n",
              "      <th>4</th>\n",
              "      <td>4</td>\n",
              "      <td>1586</td>\n",
              "      <td>1.1.1989</td>\n",
              "      <td>NaN</td>\n",
              "      <td>{'id': 1, 'title': 'Россия'}</td>\n",
              "      <td>{'platform': 7, 'time': 1619550770}</td>\n",
              "      <td>31433.0</td>\n",
              "      <td>0</td>\n",
              "      <td>2</td>\n",
              "      <td>0.0</td>\n",
              "      <td>NaN</td>\n",
              "      <td>NaN</td>\n",
              "      <td>{'costs': 100000, 'currency': 'RUR'}</td>\n",
              "      <td>[{'name': 'FIFA'}]</td>\n",
              "    </tr>\n",
              "  </tbody>\n",
              "</table>\n",
              "</div>\n",
              "      <button class=\"colab-df-convert\" onclick=\"convertToInteractive('df-93bcd623-81f4-47fb-ae42-d15272a6914d')\"\n",
              "              title=\"Convert this dataframe to an interactive table.\"\n",
              "              style=\"display:none;\">\n",
              "        \n",
              "  <svg xmlns=\"http://www.w3.org/2000/svg\" height=\"24px\"viewBox=\"0 0 24 24\"\n",
              "       width=\"24px\">\n",
              "    <path d=\"M0 0h24v24H0V0z\" fill=\"none\"/>\n",
              "    <path d=\"M18.56 5.44l.94 2.06.94-2.06 2.06-.94-2.06-.94-.94-2.06-.94 2.06-2.06.94zm-11 1L8.5 8.5l.94-2.06 2.06-.94-2.06-.94L8.5 2.5l-.94 2.06-2.06.94zm10 10l.94 2.06.94-2.06 2.06-.94-2.06-.94-.94-2.06-.94 2.06-2.06.94z\"/><path d=\"M17.41 7.96l-1.37-1.37c-.4-.4-.92-.59-1.43-.59-.52 0-1.04.2-1.43.59L10.3 9.45l-7.72 7.72c-.78.78-.78 2.05 0 2.83L4 21.41c.39.39.9.59 1.41.59.51 0 1.02-.2 1.41-.59l7.78-7.78 2.81-2.81c.8-.78.8-2.07 0-2.86zM5.41 20L4 18.59l7.72-7.72 1.47 1.35L5.41 20z\"/>\n",
              "  </svg>\n",
              "      </button>\n",
              "      \n",
              "  <style>\n",
              "    .colab-df-container {\n",
              "      display:flex;\n",
              "      flex-wrap:wrap;\n",
              "      gap: 12px;\n",
              "    }\n",
              "\n",
              "    .colab-df-convert {\n",
              "      background-color: #E8F0FE;\n",
              "      border: none;\n",
              "      border-radius: 50%;\n",
              "      cursor: pointer;\n",
              "      display: none;\n",
              "      fill: #1967D2;\n",
              "      height: 32px;\n",
              "      padding: 0 0 0 0;\n",
              "      width: 32px;\n",
              "    }\n",
              "\n",
              "    .colab-df-convert:hover {\n",
              "      background-color: #E2EBFA;\n",
              "      box-shadow: 0px 1px 2px rgba(60, 64, 67, 0.3), 0px 1px 3px 1px rgba(60, 64, 67, 0.15);\n",
              "      fill: #174EA6;\n",
              "    }\n",
              "\n",
              "    [theme=dark] .colab-df-convert {\n",
              "      background-color: #3B4455;\n",
              "      fill: #D2E3FC;\n",
              "    }\n",
              "\n",
              "    [theme=dark] .colab-df-convert:hover {\n",
              "      background-color: #434B5C;\n",
              "      box-shadow: 0px 1px 3px 1px rgba(0, 0, 0, 0.15);\n",
              "      filter: drop-shadow(0px 1px 2px rgba(0, 0, 0, 0.3));\n",
              "      fill: #FFFFFF;\n",
              "    }\n",
              "  </style>\n",
              "\n",
              "      <script>\n",
              "        const buttonEl =\n",
              "          document.querySelector('#df-93bcd623-81f4-47fb-ae42-d15272a6914d button.colab-df-convert');\n",
              "        buttonEl.style.display =\n",
              "          google.colab.kernel.accessAllowed ? 'block' : 'none';\n",
              "\n",
              "        async function convertToInteractive(key) {\n",
              "          const element = document.querySelector('#df-93bcd623-81f4-47fb-ae42-d15272a6914d');\n",
              "          const dataTable =\n",
              "            await google.colab.kernel.invokeFunction('convertToInteractive',\n",
              "                                                     [key], {});\n",
              "          if (!dataTable) return;\n",
              "\n",
              "          const docLinkHtml = 'Like what you see? Visit the ' +\n",
              "            '<a target=\"_blank\" href=https://colab.research.google.com/notebooks/data_table.ipynb>data table notebook</a>'\n",
              "            + ' to learn more about interactive tables.';\n",
              "          element.innerHTML = '';\n",
              "          dataTable['output_type'] = 'display_data';\n",
              "          await google.colab.output.renderOutput(dataTable, element);\n",
              "          const docLink = document.createElement('div');\n",
              "          docLink.innerHTML = docLinkHtml;\n",
              "          element.appendChild(docLink);\n",
              "        }\n",
              "      </script>\n",
              "    </div>\n",
              "  </div>\n",
              "  "
            ]
          },
          "metadata": {},
          "execution_count": 6
        }
      ]
    },
    {
      "cell_type": "code",
      "source": [
        "# показывает наблюдения с начала датасета (можно указать нужное количество выводимых строк)\n",
        "df.head(2)"
      ],
      "metadata": {
        "colab": {
          "base_uri": "https://localhost:8080/",
          "height": 332
        },
        "id": "CeEyIdkEpSh0",
        "outputId": "9b3b9d15-b719-4df7-ac29-9e8bf4f97a92"
      },
      "execution_count": null,
      "outputs": [
        {
          "output_type": "execute_result",
          "data": {
            "text/plain": [
              "   Unnamed: 0   id     bdate                                    city  \\\n",
              "0           0   19  1.1.2005  {'id': 2, 'title': 'Saint-Petersburg'}   \n",
              "1           1  510  1.1.1985                                     NaN   \n",
              "\n",
              "                        country                            last_seen  \\\n",
              "0  {'id': 1, 'title': 'Россия'}  {'platform': 2, 'time': 1662237362}   \n",
              "1  {'id': 1, 'title': 'Россия'}  {'platform': 7, 'time': 1661321803}   \n",
              "\n",
              "   followers_count  common_count  sex  is_closed home_town relation  \\\n",
              "0          39326.0             0    1        0.0       NaN      NaN   \n",
              "1          19698.0             0    2        0.0       NaN      NaN   \n",
              "\n",
              "                                 costs  \\\n",
              "0  {'costs': 25000, 'currency': 'RUR'}   \n",
              "1  {'costs': 50000, 'currency': 'RUR'}   \n",
              "\n",
              "                                               games  \n",
              "0  [{'name': 'Dota 2'}, {'name': 'CS:GO'}, {'name...  \n",
              "1  [{'name': 'League of Legends'}, {'name': 'Valo...  "
            ],
            "text/html": [
              "\n",
              "  <div id=\"df-00944c73-65a4-46f9-8cbe-10f6b331e76d\">\n",
              "    <div class=\"colab-df-container\">\n",
              "      <div>\n",
              "<style scoped>\n",
              "    .dataframe tbody tr th:only-of-type {\n",
              "        vertical-align: middle;\n",
              "    }\n",
              "\n",
              "    .dataframe tbody tr th {\n",
              "        vertical-align: top;\n",
              "    }\n",
              "\n",
              "    .dataframe thead th {\n",
              "        text-align: right;\n",
              "    }\n",
              "</style>\n",
              "<table border=\"1\" class=\"dataframe\">\n",
              "  <thead>\n",
              "    <tr style=\"text-align: right;\">\n",
              "      <th></th>\n",
              "      <th>Unnamed: 0</th>\n",
              "      <th>id</th>\n",
              "      <th>bdate</th>\n",
              "      <th>city</th>\n",
              "      <th>country</th>\n",
              "      <th>last_seen</th>\n",
              "      <th>followers_count</th>\n",
              "      <th>common_count</th>\n",
              "      <th>sex</th>\n",
              "      <th>is_closed</th>\n",
              "      <th>home_town</th>\n",
              "      <th>relation</th>\n",
              "      <th>costs</th>\n",
              "      <th>games</th>\n",
              "    </tr>\n",
              "  </thead>\n",
              "  <tbody>\n",
              "    <tr>\n",
              "      <th>0</th>\n",
              "      <td>0</td>\n",
              "      <td>19</td>\n",
              "      <td>1.1.2005</td>\n",
              "      <td>{'id': 2, 'title': 'Saint-Petersburg'}</td>\n",
              "      <td>{'id': 1, 'title': 'Россия'}</td>\n",
              "      <td>{'platform': 2, 'time': 1662237362}</td>\n",
              "      <td>39326.0</td>\n",
              "      <td>0</td>\n",
              "      <td>1</td>\n",
              "      <td>0.0</td>\n",
              "      <td>NaN</td>\n",
              "      <td>NaN</td>\n",
              "      <td>{'costs': 25000, 'currency': 'RUR'}</td>\n",
              "      <td>[{'name': 'Dota 2'}, {'name': 'CS:GO'}, {'name...</td>\n",
              "    </tr>\n",
              "    <tr>\n",
              "      <th>1</th>\n",
              "      <td>1</td>\n",
              "      <td>510</td>\n",
              "      <td>1.1.1985</td>\n",
              "      <td>NaN</td>\n",
              "      <td>{'id': 1, 'title': 'Россия'}</td>\n",
              "      <td>{'platform': 7, 'time': 1661321803}</td>\n",
              "      <td>19698.0</td>\n",
              "      <td>0</td>\n",
              "      <td>2</td>\n",
              "      <td>0.0</td>\n",
              "      <td>NaN</td>\n",
              "      <td>NaN</td>\n",
              "      <td>{'costs': 50000, 'currency': 'RUR'}</td>\n",
              "      <td>[{'name': 'League of Legends'}, {'name': 'Valo...</td>\n",
              "    </tr>\n",
              "  </tbody>\n",
              "</table>\n",
              "</div>\n",
              "      <button class=\"colab-df-convert\" onclick=\"convertToInteractive('df-00944c73-65a4-46f9-8cbe-10f6b331e76d')\"\n",
              "              title=\"Convert this dataframe to an interactive table.\"\n",
              "              style=\"display:none;\">\n",
              "        \n",
              "  <svg xmlns=\"http://www.w3.org/2000/svg\" height=\"24px\"viewBox=\"0 0 24 24\"\n",
              "       width=\"24px\">\n",
              "    <path d=\"M0 0h24v24H0V0z\" fill=\"none\"/>\n",
              "    <path d=\"M18.56 5.44l.94 2.06.94-2.06 2.06-.94-2.06-.94-.94-2.06-.94 2.06-2.06.94zm-11 1L8.5 8.5l.94-2.06 2.06-.94-2.06-.94L8.5 2.5l-.94 2.06-2.06.94zm10 10l.94 2.06.94-2.06 2.06-.94-2.06-.94-.94-2.06-.94 2.06-2.06.94z\"/><path d=\"M17.41 7.96l-1.37-1.37c-.4-.4-.92-.59-1.43-.59-.52 0-1.04.2-1.43.59L10.3 9.45l-7.72 7.72c-.78.78-.78 2.05 0 2.83L4 21.41c.39.39.9.59 1.41.59.51 0 1.02-.2 1.41-.59l7.78-7.78 2.81-2.81c.8-.78.8-2.07 0-2.86zM5.41 20L4 18.59l7.72-7.72 1.47 1.35L5.41 20z\"/>\n",
              "  </svg>\n",
              "      </button>\n",
              "      \n",
              "  <style>\n",
              "    .colab-df-container {\n",
              "      display:flex;\n",
              "      flex-wrap:wrap;\n",
              "      gap: 12px;\n",
              "    }\n",
              "\n",
              "    .colab-df-convert {\n",
              "      background-color: #E8F0FE;\n",
              "      border: none;\n",
              "      border-radius: 50%;\n",
              "      cursor: pointer;\n",
              "      display: none;\n",
              "      fill: #1967D2;\n",
              "      height: 32px;\n",
              "      padding: 0 0 0 0;\n",
              "      width: 32px;\n",
              "    }\n",
              "\n",
              "    .colab-df-convert:hover {\n",
              "      background-color: #E2EBFA;\n",
              "      box-shadow: 0px 1px 2px rgba(60, 64, 67, 0.3), 0px 1px 3px 1px rgba(60, 64, 67, 0.15);\n",
              "      fill: #174EA6;\n",
              "    }\n",
              "\n",
              "    [theme=dark] .colab-df-convert {\n",
              "      background-color: #3B4455;\n",
              "      fill: #D2E3FC;\n",
              "    }\n",
              "\n",
              "    [theme=dark] .colab-df-convert:hover {\n",
              "      background-color: #434B5C;\n",
              "      box-shadow: 0px 1px 3px 1px rgba(0, 0, 0, 0.15);\n",
              "      filter: drop-shadow(0px 1px 2px rgba(0, 0, 0, 0.3));\n",
              "      fill: #FFFFFF;\n",
              "    }\n",
              "  </style>\n",
              "\n",
              "      <script>\n",
              "        const buttonEl =\n",
              "          document.querySelector('#df-00944c73-65a4-46f9-8cbe-10f6b331e76d button.colab-df-convert');\n",
              "        buttonEl.style.display =\n",
              "          google.colab.kernel.accessAllowed ? 'block' : 'none';\n",
              "\n",
              "        async function convertToInteractive(key) {\n",
              "          const element = document.querySelector('#df-00944c73-65a4-46f9-8cbe-10f6b331e76d');\n",
              "          const dataTable =\n",
              "            await google.colab.kernel.invokeFunction('convertToInteractive',\n",
              "                                                     [key], {});\n",
              "          if (!dataTable) return;\n",
              "\n",
              "          const docLinkHtml = 'Like what you see? Visit the ' +\n",
              "            '<a target=\"_blank\" href=https://colab.research.google.com/notebooks/data_table.ipynb>data table notebook</a>'\n",
              "            + ' to learn more about interactive tables.';\n",
              "          element.innerHTML = '';\n",
              "          dataTable['output_type'] = 'display_data';\n",
              "          await google.colab.output.renderOutput(dataTable, element);\n",
              "          const docLink = document.createElement('div');\n",
              "          docLink.innerHTML = docLinkHtml;\n",
              "          element.appendChild(docLink);\n",
              "        }\n",
              "      </script>\n",
              "    </div>\n",
              "  </div>\n",
              "  "
            ]
          },
          "metadata": {},
          "execution_count": 7
        }
      ]
    },
    {
      "cell_type": "code",
      "source": [
        "# показывает наблюдения с конца датасета (можно указать нужное количество выводимых строк)\n",
        "df.tail(3)"
      ],
      "metadata": {
        "colab": {
          "base_uri": "https://localhost:8080/",
          "height": 398
        },
        "id": "Vkd14Di7pViZ",
        "outputId": "9995a652-da61-4699-e58d-de0f33647af2"
      },
      "execution_count": null,
      "outputs": [
        {
          "output_type": "execute_result",
          "data": {
            "text/plain": [
              "      Unnamed: 0         id       bdate                          city  \\\n",
              "3522        3522  741237784  30.11.2002  {'id': 1, 'title': 'Россия'}   \n",
              "3523        3523  741237785    5.6.2008  {'id': 1, 'title': 'Россия'}   \n",
              "3524        3524  741237786   24.7.1990  {'id': 1, 'title': 'Россия'}   \n",
              "\n",
              "                                  country last_seen  followers_count  \\\n",
              "3522  {'platform': 2, 'time': 1662237422}         0              0.0   \n",
              "3523  {'platform': 4, 'time': 1662232523}         1              0.0   \n",
              "3524  {'platform': 4, 'time': 1661793146}       NaN              0.0   \n",
              "\n",
              "      common_count  sex  is_closed home_town  \\\n",
              "3522             2    0        NaN         0   \n",
              "3523             2    0        NaN       NaN   \n",
              "3524             2    1        NaN       NaN   \n",
              "\n",
              "                                 relation  \\\n",
              "3522  {'costs': 50000, 'currency': 'RUR'}   \n",
              "3523  {'costs': 25000, 'currency': 'RUR'}   \n",
              "3524  {'costs': 25000, 'currency': 'RUR'}   \n",
              "\n",
              "                                                  costs games  \n",
              "3522  [{'name': 'PUBG'}, {'name': 'Hearthstone'}, {'...    no  \n",
              "3523                                 [{'name': 'FIFA'}]    no  \n",
              "3524  [{'name': 'StarCraft 2'}, {'name': 'Warface'},...    no  "
            ],
            "text/html": [
              "\n",
              "  <div id=\"df-574af5ff-c78a-4bba-80d4-864678940bfe\">\n",
              "    <div class=\"colab-df-container\">\n",
              "      <div>\n",
              "<style scoped>\n",
              "    .dataframe tbody tr th:only-of-type {\n",
              "        vertical-align: middle;\n",
              "    }\n",
              "\n",
              "    .dataframe tbody tr th {\n",
              "        vertical-align: top;\n",
              "    }\n",
              "\n",
              "    .dataframe thead th {\n",
              "        text-align: right;\n",
              "    }\n",
              "</style>\n",
              "<table border=\"1\" class=\"dataframe\">\n",
              "  <thead>\n",
              "    <tr style=\"text-align: right;\">\n",
              "      <th></th>\n",
              "      <th>Unnamed: 0</th>\n",
              "      <th>id</th>\n",
              "      <th>bdate</th>\n",
              "      <th>city</th>\n",
              "      <th>country</th>\n",
              "      <th>last_seen</th>\n",
              "      <th>followers_count</th>\n",
              "      <th>common_count</th>\n",
              "      <th>sex</th>\n",
              "      <th>is_closed</th>\n",
              "      <th>home_town</th>\n",
              "      <th>relation</th>\n",
              "      <th>costs</th>\n",
              "      <th>games</th>\n",
              "    </tr>\n",
              "  </thead>\n",
              "  <tbody>\n",
              "    <tr>\n",
              "      <th>3522</th>\n",
              "      <td>3522</td>\n",
              "      <td>741237784</td>\n",
              "      <td>30.11.2002</td>\n",
              "      <td>{'id': 1, 'title': 'Россия'}</td>\n",
              "      <td>{'platform': 2, 'time': 1662237422}</td>\n",
              "      <td>0</td>\n",
              "      <td>0.0</td>\n",
              "      <td>2</td>\n",
              "      <td>0</td>\n",
              "      <td>NaN</td>\n",
              "      <td>0</td>\n",
              "      <td>{'costs': 50000, 'currency': 'RUR'}</td>\n",
              "      <td>[{'name': 'PUBG'}, {'name': 'Hearthstone'}, {'...</td>\n",
              "      <td>no</td>\n",
              "    </tr>\n",
              "    <tr>\n",
              "      <th>3523</th>\n",
              "      <td>3523</td>\n",
              "      <td>741237785</td>\n",
              "      <td>5.6.2008</td>\n",
              "      <td>{'id': 1, 'title': 'Россия'}</td>\n",
              "      <td>{'platform': 4, 'time': 1662232523}</td>\n",
              "      <td>1</td>\n",
              "      <td>0.0</td>\n",
              "      <td>2</td>\n",
              "      <td>0</td>\n",
              "      <td>NaN</td>\n",
              "      <td>NaN</td>\n",
              "      <td>{'costs': 25000, 'currency': 'RUR'}</td>\n",
              "      <td>[{'name': 'FIFA'}]</td>\n",
              "      <td>no</td>\n",
              "    </tr>\n",
              "    <tr>\n",
              "      <th>3524</th>\n",
              "      <td>3524</td>\n",
              "      <td>741237786</td>\n",
              "      <td>24.7.1990</td>\n",
              "      <td>{'id': 1, 'title': 'Россия'}</td>\n",
              "      <td>{'platform': 4, 'time': 1661793146}</td>\n",
              "      <td>NaN</td>\n",
              "      <td>0.0</td>\n",
              "      <td>2</td>\n",
              "      <td>1</td>\n",
              "      <td>NaN</td>\n",
              "      <td>NaN</td>\n",
              "      <td>{'costs': 25000, 'currency': 'RUR'}</td>\n",
              "      <td>[{'name': 'StarCraft 2'}, {'name': 'Warface'},...</td>\n",
              "      <td>no</td>\n",
              "    </tr>\n",
              "  </tbody>\n",
              "</table>\n",
              "</div>\n",
              "      <button class=\"colab-df-convert\" onclick=\"convertToInteractive('df-574af5ff-c78a-4bba-80d4-864678940bfe')\"\n",
              "              title=\"Convert this dataframe to an interactive table.\"\n",
              "              style=\"display:none;\">\n",
              "        \n",
              "  <svg xmlns=\"http://www.w3.org/2000/svg\" height=\"24px\"viewBox=\"0 0 24 24\"\n",
              "       width=\"24px\">\n",
              "    <path d=\"M0 0h24v24H0V0z\" fill=\"none\"/>\n",
              "    <path d=\"M18.56 5.44l.94 2.06.94-2.06 2.06-.94-2.06-.94-.94-2.06-.94 2.06-2.06.94zm-11 1L8.5 8.5l.94-2.06 2.06-.94-2.06-.94L8.5 2.5l-.94 2.06-2.06.94zm10 10l.94 2.06.94-2.06 2.06-.94-2.06-.94-.94-2.06-.94 2.06-2.06.94z\"/><path d=\"M17.41 7.96l-1.37-1.37c-.4-.4-.92-.59-1.43-.59-.52 0-1.04.2-1.43.59L10.3 9.45l-7.72 7.72c-.78.78-.78 2.05 0 2.83L4 21.41c.39.39.9.59 1.41.59.51 0 1.02-.2 1.41-.59l7.78-7.78 2.81-2.81c.8-.78.8-2.07 0-2.86zM5.41 20L4 18.59l7.72-7.72 1.47 1.35L5.41 20z\"/>\n",
              "  </svg>\n",
              "      </button>\n",
              "      \n",
              "  <style>\n",
              "    .colab-df-container {\n",
              "      display:flex;\n",
              "      flex-wrap:wrap;\n",
              "      gap: 12px;\n",
              "    }\n",
              "\n",
              "    .colab-df-convert {\n",
              "      background-color: #E8F0FE;\n",
              "      border: none;\n",
              "      border-radius: 50%;\n",
              "      cursor: pointer;\n",
              "      display: none;\n",
              "      fill: #1967D2;\n",
              "      height: 32px;\n",
              "      padding: 0 0 0 0;\n",
              "      width: 32px;\n",
              "    }\n",
              "\n",
              "    .colab-df-convert:hover {\n",
              "      background-color: #E2EBFA;\n",
              "      box-shadow: 0px 1px 2px rgba(60, 64, 67, 0.3), 0px 1px 3px 1px rgba(60, 64, 67, 0.15);\n",
              "      fill: #174EA6;\n",
              "    }\n",
              "\n",
              "    [theme=dark] .colab-df-convert {\n",
              "      background-color: #3B4455;\n",
              "      fill: #D2E3FC;\n",
              "    }\n",
              "\n",
              "    [theme=dark] .colab-df-convert:hover {\n",
              "      background-color: #434B5C;\n",
              "      box-shadow: 0px 1px 3px 1px rgba(0, 0, 0, 0.15);\n",
              "      filter: drop-shadow(0px 1px 2px rgba(0, 0, 0, 0.3));\n",
              "      fill: #FFFFFF;\n",
              "    }\n",
              "  </style>\n",
              "\n",
              "      <script>\n",
              "        const buttonEl =\n",
              "          document.querySelector('#df-574af5ff-c78a-4bba-80d4-864678940bfe button.colab-df-convert');\n",
              "        buttonEl.style.display =\n",
              "          google.colab.kernel.accessAllowed ? 'block' : 'none';\n",
              "\n",
              "        async function convertToInteractive(key) {\n",
              "          const element = document.querySelector('#df-574af5ff-c78a-4bba-80d4-864678940bfe');\n",
              "          const dataTable =\n",
              "            await google.colab.kernel.invokeFunction('convertToInteractive',\n",
              "                                                     [key], {});\n",
              "          if (!dataTable) return;\n",
              "\n",
              "          const docLinkHtml = 'Like what you see? Visit the ' +\n",
              "            '<a target=\"_blank\" href=https://colab.research.google.com/notebooks/data_table.ipynb>data table notebook</a>'\n",
              "            + ' to learn more about interactive tables.';\n",
              "          element.innerHTML = '';\n",
              "          dataTable['output_type'] = 'display_data';\n",
              "          await google.colab.output.renderOutput(dataTable, element);\n",
              "          const docLink = document.createElement('div');\n",
              "          docLink.innerHTML = docLinkHtml;\n",
              "          element.appendChild(docLink);\n",
              "        }\n",
              "      </script>\n",
              "    </div>\n",
              "  </div>\n",
              "  "
            ]
          },
          "metadata": {},
          "execution_count": 8
        }
      ]
    },
    {
      "cell_type": "code",
      "source": [
        "# показывает случайно выбранные наблюдения (можно указать нужное количество выводимых строк)\n",
        "df.sample(4)"
      ],
      "metadata": {
        "colab": {
          "base_uri": "https://localhost:8080/",
          "height": 482
        },
        "id": "wCda601Npc-Q",
        "outputId": "03d743e0-9be1-4a0e-d0e6-325f60f32a01"
      },
      "execution_count": null,
      "outputs": [
        {
          "output_type": "execute_result",
          "data": {
            "text/plain": [
              "      Unnamed: 0         id       bdate  \\\n",
              "3121        3121      58474    1.1.2002   \n",
              "1531        1531  736607018   25.6.2008   \n",
              "1572        1572  736019525  10.12.2007   \n",
              "3404        3404  741970978   23.6.2000   \n",
              "\n",
              "                                       city                       country  \\\n",
              "3121                                    NaN  {'id': 1, 'title': 'Россия'}   \n",
              "1531                                    NaN  {'id': 1, 'title': 'Россия'}   \n",
              "1572  {'id': 2, 'title': 'санкт-петербург'}  {'id': 1, 'title': 'Россия'}   \n",
              "3404                                    NaN  {'id': 1, 'title': 'Россия'}   \n",
              "\n",
              "                                last_seen  followers_count  common_count  sex  \\\n",
              "3121  {'platform': 7, 'time': 1662237208}            435.0             0    2   \n",
              "1531  {'platform': 4, 'time': 1662190779}              1.0             0    1   \n",
              "1572  {'platform': 7, 'time': 1662235671}              1.0             0    2   \n",
              "3404  {'platform': 4, 'time': 1662237400}              4.0             0    2   \n",
              "\n",
              "      is_closed home_town relation                                costs  \\\n",
              "3121        0.0       NaN        0  {'costs': 25000, 'currency': 'RUR'}   \n",
              "1531        0.0       NaN        0  {'costs': 25000, 'currency': 'RUR'}   \n",
              "1572        0.0       NaN      NaN  {'costs': 25000, 'currency': 'RUR'}   \n",
              "3404        0.0       NaN        0  {'costs': 25000, 'currency': 'RUR'}   \n",
              "\n",
              "                                                  games  \n",
              "3121  [{'name': 'Dota Underlords'}, {'name': 'Quake ...  \n",
              "1531                      [{'name': 'Quake Champions'}]  \n",
              "1572                  [{'name': 'Heroes of the Storm'}]  \n",
              "3404                  [{'name': 'Heroes of the Storm'}]  "
            ],
            "text/html": [
              "\n",
              "  <div id=\"df-924d31a0-2a7a-470e-a2fe-b1d1c844ee0b\">\n",
              "    <div class=\"colab-df-container\">\n",
              "      <div>\n",
              "<style scoped>\n",
              "    .dataframe tbody tr th:only-of-type {\n",
              "        vertical-align: middle;\n",
              "    }\n",
              "\n",
              "    .dataframe tbody tr th {\n",
              "        vertical-align: top;\n",
              "    }\n",
              "\n",
              "    .dataframe thead th {\n",
              "        text-align: right;\n",
              "    }\n",
              "</style>\n",
              "<table border=\"1\" class=\"dataframe\">\n",
              "  <thead>\n",
              "    <tr style=\"text-align: right;\">\n",
              "      <th></th>\n",
              "      <th>Unnamed: 0</th>\n",
              "      <th>id</th>\n",
              "      <th>bdate</th>\n",
              "      <th>city</th>\n",
              "      <th>country</th>\n",
              "      <th>last_seen</th>\n",
              "      <th>followers_count</th>\n",
              "      <th>common_count</th>\n",
              "      <th>sex</th>\n",
              "      <th>is_closed</th>\n",
              "      <th>home_town</th>\n",
              "      <th>relation</th>\n",
              "      <th>costs</th>\n",
              "      <th>games</th>\n",
              "    </tr>\n",
              "  </thead>\n",
              "  <tbody>\n",
              "    <tr>\n",
              "      <th>3121</th>\n",
              "      <td>3121</td>\n",
              "      <td>58474</td>\n",
              "      <td>1.1.2002</td>\n",
              "      <td>NaN</td>\n",
              "      <td>{'id': 1, 'title': 'Россия'}</td>\n",
              "      <td>{'platform': 7, 'time': 1662237208}</td>\n",
              "      <td>435.0</td>\n",
              "      <td>0</td>\n",
              "      <td>2</td>\n",
              "      <td>0.0</td>\n",
              "      <td>NaN</td>\n",
              "      <td>0</td>\n",
              "      <td>{'costs': 25000, 'currency': 'RUR'}</td>\n",
              "      <td>[{'name': 'Dota Underlords'}, {'name': 'Quake ...</td>\n",
              "    </tr>\n",
              "    <tr>\n",
              "      <th>1531</th>\n",
              "      <td>1531</td>\n",
              "      <td>736607018</td>\n",
              "      <td>25.6.2008</td>\n",
              "      <td>NaN</td>\n",
              "      <td>{'id': 1, 'title': 'Россия'}</td>\n",
              "      <td>{'platform': 4, 'time': 1662190779}</td>\n",
              "      <td>1.0</td>\n",
              "      <td>0</td>\n",
              "      <td>1</td>\n",
              "      <td>0.0</td>\n",
              "      <td>NaN</td>\n",
              "      <td>0</td>\n",
              "      <td>{'costs': 25000, 'currency': 'RUR'}</td>\n",
              "      <td>[{'name': 'Quake Champions'}]</td>\n",
              "    </tr>\n",
              "    <tr>\n",
              "      <th>1572</th>\n",
              "      <td>1572</td>\n",
              "      <td>736019525</td>\n",
              "      <td>10.12.2007</td>\n",
              "      <td>{'id': 2, 'title': 'санкт-петербург'}</td>\n",
              "      <td>{'id': 1, 'title': 'Россия'}</td>\n",
              "      <td>{'platform': 7, 'time': 1662235671}</td>\n",
              "      <td>1.0</td>\n",
              "      <td>0</td>\n",
              "      <td>2</td>\n",
              "      <td>0.0</td>\n",
              "      <td>NaN</td>\n",
              "      <td>NaN</td>\n",
              "      <td>{'costs': 25000, 'currency': 'RUR'}</td>\n",
              "      <td>[{'name': 'Heroes of the Storm'}]</td>\n",
              "    </tr>\n",
              "    <tr>\n",
              "      <th>3404</th>\n",
              "      <td>3404</td>\n",
              "      <td>741970978</td>\n",
              "      <td>23.6.2000</td>\n",
              "      <td>NaN</td>\n",
              "      <td>{'id': 1, 'title': 'Россия'}</td>\n",
              "      <td>{'platform': 4, 'time': 1662237400}</td>\n",
              "      <td>4.0</td>\n",
              "      <td>0</td>\n",
              "      <td>2</td>\n",
              "      <td>0.0</td>\n",
              "      <td>NaN</td>\n",
              "      <td>0</td>\n",
              "      <td>{'costs': 25000, 'currency': 'RUR'}</td>\n",
              "      <td>[{'name': 'Heroes of the Storm'}]</td>\n",
              "    </tr>\n",
              "  </tbody>\n",
              "</table>\n",
              "</div>\n",
              "      <button class=\"colab-df-convert\" onclick=\"convertToInteractive('df-924d31a0-2a7a-470e-a2fe-b1d1c844ee0b')\"\n",
              "              title=\"Convert this dataframe to an interactive table.\"\n",
              "              style=\"display:none;\">\n",
              "        \n",
              "  <svg xmlns=\"http://www.w3.org/2000/svg\" height=\"24px\"viewBox=\"0 0 24 24\"\n",
              "       width=\"24px\">\n",
              "    <path d=\"M0 0h24v24H0V0z\" fill=\"none\"/>\n",
              "    <path d=\"M18.56 5.44l.94 2.06.94-2.06 2.06-.94-2.06-.94-.94-2.06-.94 2.06-2.06.94zm-11 1L8.5 8.5l.94-2.06 2.06-.94-2.06-.94L8.5 2.5l-.94 2.06-2.06.94zm10 10l.94 2.06.94-2.06 2.06-.94-2.06-.94-.94-2.06-.94 2.06-2.06.94z\"/><path d=\"M17.41 7.96l-1.37-1.37c-.4-.4-.92-.59-1.43-.59-.52 0-1.04.2-1.43.59L10.3 9.45l-7.72 7.72c-.78.78-.78 2.05 0 2.83L4 21.41c.39.39.9.59 1.41.59.51 0 1.02-.2 1.41-.59l7.78-7.78 2.81-2.81c.8-.78.8-2.07 0-2.86zM5.41 20L4 18.59l7.72-7.72 1.47 1.35L5.41 20z\"/>\n",
              "  </svg>\n",
              "      </button>\n",
              "      \n",
              "  <style>\n",
              "    .colab-df-container {\n",
              "      display:flex;\n",
              "      flex-wrap:wrap;\n",
              "      gap: 12px;\n",
              "    }\n",
              "\n",
              "    .colab-df-convert {\n",
              "      background-color: #E8F0FE;\n",
              "      border: none;\n",
              "      border-radius: 50%;\n",
              "      cursor: pointer;\n",
              "      display: none;\n",
              "      fill: #1967D2;\n",
              "      height: 32px;\n",
              "      padding: 0 0 0 0;\n",
              "      width: 32px;\n",
              "    }\n",
              "\n",
              "    .colab-df-convert:hover {\n",
              "      background-color: #E2EBFA;\n",
              "      box-shadow: 0px 1px 2px rgba(60, 64, 67, 0.3), 0px 1px 3px 1px rgba(60, 64, 67, 0.15);\n",
              "      fill: #174EA6;\n",
              "    }\n",
              "\n",
              "    [theme=dark] .colab-df-convert {\n",
              "      background-color: #3B4455;\n",
              "      fill: #D2E3FC;\n",
              "    }\n",
              "\n",
              "    [theme=dark] .colab-df-convert:hover {\n",
              "      background-color: #434B5C;\n",
              "      box-shadow: 0px 1px 3px 1px rgba(0, 0, 0, 0.15);\n",
              "      filter: drop-shadow(0px 1px 2px rgba(0, 0, 0, 0.3));\n",
              "      fill: #FFFFFF;\n",
              "    }\n",
              "  </style>\n",
              "\n",
              "      <script>\n",
              "        const buttonEl =\n",
              "          document.querySelector('#df-924d31a0-2a7a-470e-a2fe-b1d1c844ee0b button.colab-df-convert');\n",
              "        buttonEl.style.display =\n",
              "          google.colab.kernel.accessAllowed ? 'block' : 'none';\n",
              "\n",
              "        async function convertToInteractive(key) {\n",
              "          const element = document.querySelector('#df-924d31a0-2a7a-470e-a2fe-b1d1c844ee0b');\n",
              "          const dataTable =\n",
              "            await google.colab.kernel.invokeFunction('convertToInteractive',\n",
              "                                                     [key], {});\n",
              "          if (!dataTable) return;\n",
              "\n",
              "          const docLinkHtml = 'Like what you see? Visit the ' +\n",
              "            '<a target=\"_blank\" href=https://colab.research.google.com/notebooks/data_table.ipynb>data table notebook</a>'\n",
              "            + ' to learn more about interactive tables.';\n",
              "          element.innerHTML = '';\n",
              "          dataTable['output_type'] = 'display_data';\n",
              "          await google.colab.output.renderOutput(dataTable, element);\n",
              "          const docLink = document.createElement('div');\n",
              "          docLink.innerHTML = docLinkHtml;\n",
              "          element.appendChild(docLink);\n",
              "        }\n",
              "      </script>\n",
              "    </div>\n",
              "  </div>\n",
              "  "
            ]
          },
          "metadata": {},
          "execution_count": 9
        }
      ]
    },
    {
      "cell_type": "code",
      "source": [
        "# тип объекта\n",
        "type(df)"
      ],
      "metadata": {
        "colab": {
          "base_uri": "https://localhost:8080/"
        },
        "outputId": "1638cab4-ae3c-4780-ad03-f6d89a475ff5",
        "id": "1fQ1OvL5AXuz"
      },
      "execution_count": null,
      "outputs": [
        {
          "output_type": "execute_result",
          "data": {
            "text/plain": [
              "pandas.core.frame.DataFrame"
            ]
          },
          "metadata": {},
          "execution_count": 10
        }
      ]
    },
    {
      "cell_type": "code",
      "source": [
        "type(df['id'])"
      ],
      "metadata": {
        "colab": {
          "base_uri": "https://localhost:8080/"
        },
        "outputId": "30c891c8-4bed-44aa-d36c-40019c1164b1",
        "id": "wSnirm9JAXu0"
      },
      "execution_count": null,
      "outputs": [
        {
          "output_type": "execute_result",
          "data": {
            "text/plain": [
              "pandas.core.series.Series"
            ]
          },
          "metadata": {},
          "execution_count": 11
        }
      ]
    },
    {
      "cell_type": "code",
      "source": [
        "# размеры датасета (количество ячеек: строки Х столбцы)\n",
        "df.size"
      ],
      "metadata": {
        "id": "lGIwpWzppiTj",
        "colab": {
          "base_uri": "https://localhost:8080/"
        },
        "outputId": "f19cbe61-9f5c-45b9-bf46-3d14c247e33b"
      },
      "execution_count": null,
      "outputs": [
        {
          "output_type": "execute_result",
          "data": {
            "text/plain": [
              "49350"
            ]
          },
          "metadata": {},
          "execution_count": 12
        }
      ]
    },
    {
      "cell_type": "code",
      "source": [
        "# длина датасета (количество наблюдений)\n",
        "len(df)"
      ],
      "metadata": {
        "id": "TArP4lXxq5Wz",
        "colab": {
          "base_uri": "https://localhost:8080/"
        },
        "outputId": "9946b933-6b74-4189-ca67-1f5cea750f6a"
      },
      "execution_count": null,
      "outputs": [
        {
          "output_type": "execute_result",
          "data": {
            "text/plain": [
              "3525"
            ]
          },
          "metadata": {},
          "execution_count": 13
        }
      ]
    },
    {
      "cell_type": "code",
      "source": [
        "# количество признаков в датасете (количество столбцов)\n",
        "len(df.axes[1])"
      ],
      "metadata": {
        "id": "6yn34-3srcpU",
        "colab": {
          "base_uri": "https://localhost:8080/"
        },
        "outputId": "765e8abd-fc86-493f-ab90-8c56482538b6"
      },
      "execution_count": null,
      "outputs": [
        {
          "output_type": "execute_result",
          "data": {
            "text/plain": [
              "14"
            ]
          },
          "metadata": {},
          "execution_count": 16
        }
      ]
    },
    {
      "cell_type": "code",
      "source": [
        "# размеры датасета (количество наблюдений и признаков)\n",
        "df.shape"
      ],
      "metadata": {
        "id": "DAb-zJTNrFxt",
        "colab": {
          "base_uri": "https://localhost:8080/"
        },
        "outputId": "09830841-8c8b-4a6d-f5c5-3ebe5ca23311"
      },
      "execution_count": null,
      "outputs": [
        {
          "output_type": "execute_result",
          "data": {
            "text/plain": [
              "(3525, 14)"
            ]
          },
          "metadata": {},
          "execution_count": 17
        }
      ]
    },
    {
      "cell_type": "code",
      "source": [
        "# информация о типах данных\n",
        "df.dtypes"
      ],
      "metadata": {
        "id": "y2_GAntnOfCr",
        "colab": {
          "base_uri": "https://localhost:8080/"
        },
        "outputId": "99f841f1-909f-4f64-abb5-a51c886d61d3"
      },
      "execution_count": null,
      "outputs": [
        {
          "output_type": "execute_result",
          "data": {
            "text/plain": [
              "Unnamed: 0           int64\n",
              "id                   int64\n",
              "bdate               object\n",
              "city                object\n",
              "country             object\n",
              "last_seen           object\n",
              "followers_count    float64\n",
              "common_count         int64\n",
              "sex                  int64\n",
              "is_closed          float64\n",
              "home_town           object\n",
              "relation            object\n",
              "costs               object\n",
              "games               object\n",
              "dtype: object"
            ]
          },
          "metadata": {},
          "execution_count": 18
        }
      ]
    },
    {
      "cell_type": "code",
      "source": [
        "# информация о датасете:\n",
        "# количество записей,\n",
        "# количество столбцов,\n",
        "# наименование признаков,\n",
        "# количество заполненных (не пустых) значений по каждому признаку,\n",
        "# тип данных по каждому признаку,\n",
        "# объем занимаемой памяти\n",
        "df.info()"
      ],
      "metadata": {
        "id": "QG2q-_07sFBj",
        "colab": {
          "base_uri": "https://localhost:8080/"
        },
        "outputId": "a08304f3-d058-42ee-d799-2987f365a0ea"
      },
      "execution_count": null,
      "outputs": [
        {
          "output_type": "stream",
          "name": "stdout",
          "text": [
            "<class 'pandas.core.frame.DataFrame'>\n",
            "RangeIndex: 3525 entries, 0 to 3524\n",
            "Data columns (total 14 columns):\n",
            " #   Column           Non-Null Count  Dtype  \n",
            "---  ------           --------------  -----  \n",
            " 0   Unnamed: 0       3525 non-null   int64  \n",
            " 1   id               3525 non-null   int64  \n",
            " 2   bdate            3525 non-null   object \n",
            " 3   city             1972 non-null   object \n",
            " 4   country          3525 non-null   object \n",
            " 5   last_seen        3499 non-null   object \n",
            " 6   followers_count  2652 non-null   float64\n",
            " 7   common_count     3525 non-null   int64  \n",
            " 8   sex              3525 non-null   int64  \n",
            " 9   is_closed        3521 non-null   float64\n",
            " 10  home_town        558 non-null    object \n",
            " 11  relation         1584 non-null   object \n",
            " 12  costs            3495 non-null   object \n",
            " 13  games            3495 non-null   object \n",
            "dtypes: float64(2), int64(4), object(8)\n",
            "memory usage: 385.7+ KB\n"
          ]
        }
      ]
    },
    {
      "cell_type": "markdown",
      "source": [
        "## Выявление проблем (тема 3)"
      ],
      "metadata": {
        "id": "hHHOc6ZSHB0p"
      }
    },
    {
      "cell_type": "markdown",
      "source": [
        "1. Наличие признаков, не представляющих ценности в рамках кейса ('Unnamed: 0', 'common_count', 'is_closed', 'home_town', 'relation')\n",
        "2. Возможно наличие дубликатов\n",
        "3. Наличие незаполненных значений ('city', 'last_seen', 'followers_count', 'costs', 'games')\n",
        "4. Наличие вложенных значений (словарей по признакам 'city', 'country', 'last_seen', 'costs' и списков словарей по признаку 'games')\n",
        "5. Приведение признаков в необходимый формат (в datetime: 'bdate, 'last_seen', в float: затраты из признака 'costs')\n",
        "6. Необходимость расчета признака 'age' (от признака 'bdate')\n",
        "7. Наличие закодированных значений (по признаку 'sex')\n",
        "8. Возможные другие проблемы, которые могут быть выявлены в процессе предобработки данных"
      ],
      "metadata": {
        "id": "9pPq94_eHOse"
      }
    },
    {
      "cell_type": "markdown",
      "source": [
        "# **Тема 4**"
      ],
      "metadata": {
        "id": "at2orDfXzmQ3"
      }
    },
    {
      "cell_type": "markdown",
      "source": [
        "## Исключение признаков, не представляющих ценности в рамках кейса"
      ],
      "metadata": {
        "id": "riNd8AQ37e8h"
      }
    },
    {
      "cell_type": "markdown",
      "source": [
        "Перед проведением манипуляций рекомендовано создать копию исходного датасета в отдельную переменную, чтобы в случае необходимости или ошибки при обработке без труда вернуться к исходной версии"
      ],
      "metadata": {
        "id": "USeGWuvENC8E"
      }
    },
    {
      "cell_type": "code",
      "source": [
        "df_copy = df.copy()"
      ],
      "metadata": {
        "id": "wRaCOothNgyx"
      },
      "execution_count": null,
      "outputs": []
    },
    {
      "cell_type": "code",
      "source": [
        "# при использовании выражения:\n",
        "# df_copy = df\n",
        "# копия не создастся, а датафрейм просто сохранится также в переменную df_copy,\n",
        "# и при его изменении при обращении к переменной df_copy он также будет изменен в переменной df."
      ],
      "metadata": {
        "id": "Ct3iVFnbNqlp"
      },
      "execution_count": null,
      "outputs": []
    },
    {
      "cell_type": "code",
      "source": [
        "# выводит список колонок датафрейма\n",
        "df_copy.columns"
      ],
      "metadata": {
        "id": "QRpSvHeksM0p",
        "colab": {
          "base_uri": "https://localhost:8080/"
        },
        "outputId": "05e6d341-00cf-44c8-fba1-decac4494c22"
      },
      "execution_count": null,
      "outputs": [
        {
          "output_type": "execute_result",
          "data": {
            "text/plain": [
              "Index(['Unnamed: 0', 'id', 'bdate', 'city', 'country', 'last_seen',\n",
              "       'followers_count', 'common_count', 'sex', 'is_closed', 'home_town',\n",
              "       'relation', 'costs', 'games'],\n",
              "      dtype='object')"
            ]
          },
          "metadata": {},
          "execution_count": 21
        }
      ]
    },
    {
      "cell_type": "code",
      "source": [
        "# создание списка \"ненужных\" колонок\n",
        "columns = ['Unnamed: 0', 'common_count', 'is_closed', 'home_town', 'relation']"
      ],
      "metadata": {
        "id": "OgHAxoEdMQOt"
      },
      "execution_count": null,
      "outputs": []
    },
    {
      "cell_type": "code",
      "source": [
        "# параметр inplace=True позволяет автоматически перезаписать текущий датафрейм\n",
        "# без использования конструкции: df_copy = df_copy.drop(columns=columns)\n",
        "df_copy.drop(columns=columns, inplace=True)"
      ],
      "metadata": {
        "id": "M75Jf3AJM8Hi"
      },
      "execution_count": null,
      "outputs": []
    },
    {
      "cell_type": "code",
      "source": [
        "# также с помощью drop() можно удалять и сами наблюдения (см. тех. документацию)"
      ],
      "metadata": {
        "id": "gxW0ot5KUbiA"
      },
      "execution_count": null,
      "outputs": []
    },
    {
      "cell_type": "code",
      "source": [
        "# проверка списка колонок датафрейма\n",
        "df_copy.columns"
      ],
      "metadata": {
        "id": "GPnjDf--P9tD",
        "colab": {
          "base_uri": "https://localhost:8080/"
        },
        "outputId": "7bd22526-a41f-46aa-d120-278ee255d2c0"
      },
      "execution_count": null,
      "outputs": [
        {
          "output_type": "execute_result",
          "data": {
            "text/plain": [
              "Index(['id', 'bdate', 'city', 'country', 'last_seen', 'followers_count', 'sex',\n",
              "       'costs', 'games'],\n",
              "      dtype='object')"
            ]
          },
          "metadata": {},
          "execution_count": 24
        }
      ]
    },
    {
      "cell_type": "markdown",
      "source": [
        "## Проверка и исключение дубликатов"
      ],
      "metadata": {
        "id": "YC8CIUKNM7cG"
      }
    },
    {
      "cell_type": "markdown",
      "source": [
        "### Проверка на дубликаты"
      ],
      "metadata": {
        "id": "y4xR1zPMS9Zr"
      }
    },
    {
      "cell_type": "code",
      "source": [
        "# проверка на дубликаты: выдает объект Series с булевыми значениями True/False\n",
        "df_copy.duplicated()"
      ],
      "metadata": {
        "id": "Ady1EdI_QKlj",
        "colab": {
          "base_uri": "https://localhost:8080/"
        },
        "outputId": "548819d5-27de-496e-87f5-94a5a8ed0645"
      },
      "execution_count": null,
      "outputs": [
        {
          "output_type": "execute_result",
          "data": {
            "text/plain": [
              "0       False\n",
              "1       False\n",
              "2       False\n",
              "3       False\n",
              "4       False\n",
              "        ...  \n",
              "3520    False\n",
              "3521    False\n",
              "3522    False\n",
              "3523    False\n",
              "3524    False\n",
              "Length: 3525, dtype: bool"
            ]
          },
          "metadata": {},
          "execution_count": 31
        }
      ]
    },
    {
      "cell_type": "code",
      "source": [
        "# нас интересует количество дубликатов\n",
        "# т.к. True = 1, False = 0, то необходимо сложить все значения по данному объекту Series\n",
        "df_copy.duplicated().sum()"
      ],
      "metadata": {
        "id": "6am8tLB9Qk2H",
        "colab": {
          "base_uri": "https://localhost:8080/"
        },
        "outputId": "04cfc79f-3f36-4c21-bc7c-2aa8ecd1f1fa"
      },
      "execution_count": null,
      "outputs": [
        {
          "output_type": "execute_result",
          "data": {
            "text/plain": [
              "158"
            ]
          },
          "metadata": {},
          "execution_count": 32
        }
      ]
    },
    {
      "cell_type": "code",
      "source": [
        "# проверка дубликатов по столбцу id\n",
        "df_copy.duplicated(subset='id').sum()"
      ],
      "metadata": {
        "id": "ONAsB4vVRae7",
        "colab": {
          "base_uri": "https://localhost:8080/"
        },
        "outputId": "8d6d27ff-c5e7-4ebf-8151-991c06af68ec"
      },
      "execution_count": null,
      "outputs": [
        {
          "output_type": "execute_result",
          "data": {
            "text/plain": [
              "158"
            ]
          },
          "metadata": {},
          "execution_count": 33
        }
      ]
    },
    {
      "cell_type": "code",
      "source": [
        "# проверка дубликатов по нескольким столбцам\n",
        "# (например, сколько однополых людей, родившихся в одинаковые дни)\n",
        "# параметр keep=False присваивает значения True всем найденным дубликатам\n",
        "# (по умолчанию keep='first', т.е. присваивает значение False первому из совпадений)\n",
        "df_copy.duplicated(subset=['bdate', 'sex'], keep=False).sum()"
      ],
      "metadata": {
        "id": "IOQdY6P9Rrw2",
        "colab": {
          "base_uri": "https://localhost:8080/"
        },
        "outputId": "9d4ae99c-b41a-4316-e6a5-d88f5afa35f3"
      },
      "execution_count": null,
      "outputs": [
        {
          "output_type": "execute_result",
          "data": {
            "text/plain": [
              "1760"
            ]
          },
          "metadata": {},
          "execution_count": 34
        }
      ]
    },
    {
      "cell_type": "markdown",
      "source": [
        "### Исключение дубликатов"
      ],
      "metadata": {
        "id": "kXZRaduDTCD_"
      }
    },
    {
      "cell_type": "code",
      "source": [
        "# исключение дубликатов по всем признакам датафрейма\n",
        "df_copy.drop_duplicates(inplace=True)"
      ],
      "metadata": {
        "id": "E6IxyCMtTGnV"
      },
      "execution_count": null,
      "outputs": []
    },
    {
      "cell_type": "code",
      "source": [
        "# исключение дубликатов по столбцу\n",
        "# (в нашем случае операция аналогична предыдущей)\n",
        "# df_copy.drop_duplicates(subset='id', inplace=True)"
      ],
      "metadata": {
        "id": "38Vhve9BTgQf"
      },
      "execution_count": null,
      "outputs": []
    },
    {
      "cell_type": "code",
      "source": [
        "# исключение дубликатов по нескольким столбцам\n",
        "# (в нашем случае нет необходимости)\n",
        "# параметр keep=False удаляет все найденные дубликаты\n",
        "# (по умолчанию keep='first', т.е. удаляет все дубликаты, кроме первого)\n",
        "# df_copy.drop_duplicates(subset=['bdate', 'sex'], keep=False, inplace=True)"
      ],
      "metadata": {
        "id": "nHveKBxYUFrY"
      },
      "execution_count": null,
      "outputs": []
    },
    {
      "cell_type": "code",
      "source": [
        "# контроль размеров датафрейма\n",
        "df_copy.shape"
      ],
      "metadata": {
        "id": "LfiofYfUVU18",
        "colab": {
          "base_uri": "https://localhost:8080/"
        },
        "outputId": "58c8c154-ade2-461e-a801-efa01ee0fb99"
      },
      "execution_count": null,
      "outputs": [
        {
          "output_type": "execute_result",
          "data": {
            "text/plain": [
              "(3367, 9)"
            ]
          },
          "metadata": {},
          "execution_count": 143
        }
      ]
    },
    {
      "cell_type": "code",
      "source": [
        "3525-158"
      ],
      "metadata": {
        "id": "atniUuwoVe_B",
        "colab": {
          "base_uri": "https://localhost:8080/"
        },
        "outputId": "f1349677-39f4-4341-b28f-0b98d700d141"
      },
      "execution_count": null,
      "outputs": [
        {
          "output_type": "execute_result",
          "data": {
            "text/plain": [
              "3367"
            ]
          },
          "metadata": {},
          "execution_count": 37
        }
      ]
    },
    {
      "cell_type": "markdown",
      "source": [
        "# **Тема 5. Проверка данных на пропущенные значения, их обработка или исключение**"
      ],
      "metadata": {
        "id": "dvwQGSR1Vywj"
      }
    },
    {
      "cell_type": "markdown",
      "source": [
        "**NaN** и **None**:\n",
        "* **NaN** отвечает за отсутствующее в ячейке число. Его тип данных float, поэтому с NaN можно проводить математические операции.\n",
        "* **None**\n",
        "принадлежит к нечисловому типу NoneType, и математические операции\n",
        "с ним неосуществимы.\n",
        "\n",
        "Строки с этими значениями **не\n",
        "всегда стоит удалять**, иногда их наличие несет ценность для анализа, в некоторых случаях пропуски можно восстановить."
      ],
      "metadata": {
        "id": "wKn-Y_UKc22U"
      }
    },
    {
      "cell_type": "markdown",
      "source": [
        "## Проверка на пропущенные значения"
      ],
      "metadata": {
        "id": "UDSPV9cxXV96"
      }
    },
    {
      "cell_type": "code",
      "source": [
        "# проверка на пропущенные значения: выдает объект DataFrame с булевыми значениями True/False\n",
        "df_copy.isna()"
      ],
      "metadata": {
        "id": "BCTIeEdyVnV9",
        "colab": {
          "base_uri": "https://localhost:8080/",
          "height": 424
        },
        "outputId": "a239e1e9-dd70-455d-f0f0-3b058fd54f88"
      },
      "execution_count": null,
      "outputs": [
        {
          "output_type": "execute_result",
          "data": {
            "text/plain": [
              "         id  bdate   city  country  last_seen  followers_count    sex  costs  \\\n",
              "0     False  False  False    False      False            False  False  False   \n",
              "1     False  False   True    False      False            False  False  False   \n",
              "2     False  False  False    False      False             True  False  False   \n",
              "3     False  False  False    False      False             True  False  False   \n",
              "4     False  False   True    False      False            False  False  False   \n",
              "...     ...    ...    ...      ...        ...              ...    ...    ...   \n",
              "3520  False  False   True    False      False             True  False  False   \n",
              "3521  False  False  False    False       True            False  False  False   \n",
              "3522  False  False  False    False      False            False  False  False   \n",
              "3523  False  False  False    False      False            False  False  False   \n",
              "3524  False  False  False    False       True            False  False  False   \n",
              "\n",
              "      games  \n",
              "0     False  \n",
              "1     False  \n",
              "2     False  \n",
              "3     False  \n",
              "4     False  \n",
              "...     ...  \n",
              "3520  False  \n",
              "3521  False  \n",
              "3522  False  \n",
              "3523  False  \n",
              "3524  False  \n",
              "\n",
              "[3367 rows x 9 columns]"
            ],
            "text/html": [
              "\n",
              "  <div id=\"df-cde37622-3303-40fb-90ff-d8db60edafbf\">\n",
              "    <div class=\"colab-df-container\">\n",
              "      <div>\n",
              "<style scoped>\n",
              "    .dataframe tbody tr th:only-of-type {\n",
              "        vertical-align: middle;\n",
              "    }\n",
              "\n",
              "    .dataframe tbody tr th {\n",
              "        vertical-align: top;\n",
              "    }\n",
              "\n",
              "    .dataframe thead th {\n",
              "        text-align: right;\n",
              "    }\n",
              "</style>\n",
              "<table border=\"1\" class=\"dataframe\">\n",
              "  <thead>\n",
              "    <tr style=\"text-align: right;\">\n",
              "      <th></th>\n",
              "      <th>id</th>\n",
              "      <th>bdate</th>\n",
              "      <th>city</th>\n",
              "      <th>country</th>\n",
              "      <th>last_seen</th>\n",
              "      <th>followers_count</th>\n",
              "      <th>sex</th>\n",
              "      <th>costs</th>\n",
              "      <th>games</th>\n",
              "    </tr>\n",
              "  </thead>\n",
              "  <tbody>\n",
              "    <tr>\n",
              "      <th>0</th>\n",
              "      <td>False</td>\n",
              "      <td>False</td>\n",
              "      <td>False</td>\n",
              "      <td>False</td>\n",
              "      <td>False</td>\n",
              "      <td>False</td>\n",
              "      <td>False</td>\n",
              "      <td>False</td>\n",
              "      <td>False</td>\n",
              "    </tr>\n",
              "    <tr>\n",
              "      <th>1</th>\n",
              "      <td>False</td>\n",
              "      <td>False</td>\n",
              "      <td>True</td>\n",
              "      <td>False</td>\n",
              "      <td>False</td>\n",
              "      <td>False</td>\n",
              "      <td>False</td>\n",
              "      <td>False</td>\n",
              "      <td>False</td>\n",
              "    </tr>\n",
              "    <tr>\n",
              "      <th>2</th>\n",
              "      <td>False</td>\n",
              "      <td>False</td>\n",
              "      <td>False</td>\n",
              "      <td>False</td>\n",
              "      <td>False</td>\n",
              "      <td>True</td>\n",
              "      <td>False</td>\n",
              "      <td>False</td>\n",
              "      <td>False</td>\n",
              "    </tr>\n",
              "    <tr>\n",
              "      <th>3</th>\n",
              "      <td>False</td>\n",
              "      <td>False</td>\n",
              "      <td>False</td>\n",
              "      <td>False</td>\n",
              "      <td>False</td>\n",
              "      <td>True</td>\n",
              "      <td>False</td>\n",
              "      <td>False</td>\n",
              "      <td>False</td>\n",
              "    </tr>\n",
              "    <tr>\n",
              "      <th>4</th>\n",
              "      <td>False</td>\n",
              "      <td>False</td>\n",
              "      <td>True</td>\n",
              "      <td>False</td>\n",
              "      <td>False</td>\n",
              "      <td>False</td>\n",
              "      <td>False</td>\n",
              "      <td>False</td>\n",
              "      <td>False</td>\n",
              "    </tr>\n",
              "    <tr>\n",
              "      <th>...</th>\n",
              "      <td>...</td>\n",
              "      <td>...</td>\n",
              "      <td>...</td>\n",
              "      <td>...</td>\n",
              "      <td>...</td>\n",
              "      <td>...</td>\n",
              "      <td>...</td>\n",
              "      <td>...</td>\n",
              "      <td>...</td>\n",
              "    </tr>\n",
              "    <tr>\n",
              "      <th>3520</th>\n",
              "      <td>False</td>\n",
              "      <td>False</td>\n",
              "      <td>True</td>\n",
              "      <td>False</td>\n",
              "      <td>False</td>\n",
              "      <td>True</td>\n",
              "      <td>False</td>\n",
              "      <td>False</td>\n",
              "      <td>False</td>\n",
              "    </tr>\n",
              "    <tr>\n",
              "      <th>3521</th>\n",
              "      <td>False</td>\n",
              "      <td>False</td>\n",
              "      <td>False</td>\n",
              "      <td>False</td>\n",
              "      <td>True</td>\n",
              "      <td>False</td>\n",
              "      <td>False</td>\n",
              "      <td>False</td>\n",
              "      <td>False</td>\n",
              "    </tr>\n",
              "    <tr>\n",
              "      <th>3522</th>\n",
              "      <td>False</td>\n",
              "      <td>False</td>\n",
              "      <td>False</td>\n",
              "      <td>False</td>\n",
              "      <td>False</td>\n",
              "      <td>False</td>\n",
              "      <td>False</td>\n",
              "      <td>False</td>\n",
              "      <td>False</td>\n",
              "    </tr>\n",
              "    <tr>\n",
              "      <th>3523</th>\n",
              "      <td>False</td>\n",
              "      <td>False</td>\n",
              "      <td>False</td>\n",
              "      <td>False</td>\n",
              "      <td>False</td>\n",
              "      <td>False</td>\n",
              "      <td>False</td>\n",
              "      <td>False</td>\n",
              "      <td>False</td>\n",
              "    </tr>\n",
              "    <tr>\n",
              "      <th>3524</th>\n",
              "      <td>False</td>\n",
              "      <td>False</td>\n",
              "      <td>False</td>\n",
              "      <td>False</td>\n",
              "      <td>True</td>\n",
              "      <td>False</td>\n",
              "      <td>False</td>\n",
              "      <td>False</td>\n",
              "      <td>False</td>\n",
              "    </tr>\n",
              "  </tbody>\n",
              "</table>\n",
              "<p>3367 rows × 9 columns</p>\n",
              "</div>\n",
              "      <button class=\"colab-df-convert\" onclick=\"convertToInteractive('df-cde37622-3303-40fb-90ff-d8db60edafbf')\"\n",
              "              title=\"Convert this dataframe to an interactive table.\"\n",
              "              style=\"display:none;\">\n",
              "        \n",
              "  <svg xmlns=\"http://www.w3.org/2000/svg\" height=\"24px\"viewBox=\"0 0 24 24\"\n",
              "       width=\"24px\">\n",
              "    <path d=\"M0 0h24v24H0V0z\" fill=\"none\"/>\n",
              "    <path d=\"M18.56 5.44l.94 2.06.94-2.06 2.06-.94-2.06-.94-.94-2.06-.94 2.06-2.06.94zm-11 1L8.5 8.5l.94-2.06 2.06-.94-2.06-.94L8.5 2.5l-.94 2.06-2.06.94zm10 10l.94 2.06.94-2.06 2.06-.94-2.06-.94-.94-2.06-.94 2.06-2.06.94z\"/><path d=\"M17.41 7.96l-1.37-1.37c-.4-.4-.92-.59-1.43-.59-.52 0-1.04.2-1.43.59L10.3 9.45l-7.72 7.72c-.78.78-.78 2.05 0 2.83L4 21.41c.39.39.9.59 1.41.59.51 0 1.02-.2 1.41-.59l7.78-7.78 2.81-2.81c.8-.78.8-2.07 0-2.86zM5.41 20L4 18.59l7.72-7.72 1.47 1.35L5.41 20z\"/>\n",
              "  </svg>\n",
              "      </button>\n",
              "      \n",
              "  <style>\n",
              "    .colab-df-container {\n",
              "      display:flex;\n",
              "      flex-wrap:wrap;\n",
              "      gap: 12px;\n",
              "    }\n",
              "\n",
              "    .colab-df-convert {\n",
              "      background-color: #E8F0FE;\n",
              "      border: none;\n",
              "      border-radius: 50%;\n",
              "      cursor: pointer;\n",
              "      display: none;\n",
              "      fill: #1967D2;\n",
              "      height: 32px;\n",
              "      padding: 0 0 0 0;\n",
              "      width: 32px;\n",
              "    }\n",
              "\n",
              "    .colab-df-convert:hover {\n",
              "      background-color: #E2EBFA;\n",
              "      box-shadow: 0px 1px 2px rgba(60, 64, 67, 0.3), 0px 1px 3px 1px rgba(60, 64, 67, 0.15);\n",
              "      fill: #174EA6;\n",
              "    }\n",
              "\n",
              "    [theme=dark] .colab-df-convert {\n",
              "      background-color: #3B4455;\n",
              "      fill: #D2E3FC;\n",
              "    }\n",
              "\n",
              "    [theme=dark] .colab-df-convert:hover {\n",
              "      background-color: #434B5C;\n",
              "      box-shadow: 0px 1px 3px 1px rgba(0, 0, 0, 0.15);\n",
              "      filter: drop-shadow(0px 1px 2px rgba(0, 0, 0, 0.3));\n",
              "      fill: #FFFFFF;\n",
              "    }\n",
              "  </style>\n",
              "\n",
              "      <script>\n",
              "        const buttonEl =\n",
              "          document.querySelector('#df-cde37622-3303-40fb-90ff-d8db60edafbf button.colab-df-convert');\n",
              "        buttonEl.style.display =\n",
              "          google.colab.kernel.accessAllowed ? 'block' : 'none';\n",
              "\n",
              "        async function convertToInteractive(key) {\n",
              "          const element = document.querySelector('#df-cde37622-3303-40fb-90ff-d8db60edafbf');\n",
              "          const dataTable =\n",
              "            await google.colab.kernel.invokeFunction('convertToInteractive',\n",
              "                                                     [key], {});\n",
              "          if (!dataTable) return;\n",
              "\n",
              "          const docLinkHtml = 'Like what you see? Visit the ' +\n",
              "            '<a target=\"_blank\" href=https://colab.research.google.com/notebooks/data_table.ipynb>data table notebook</a>'\n",
              "            + ' to learn more about interactive tables.';\n",
              "          element.innerHTML = '';\n",
              "          dataTable['output_type'] = 'display_data';\n",
              "          await google.colab.output.renderOutput(dataTable, element);\n",
              "          const docLink = document.createElement('div');\n",
              "          docLink.innerHTML = docLinkHtml;\n",
              "          element.appendChild(docLink);\n",
              "        }\n",
              "      </script>\n",
              "    </div>\n",
              "  </div>\n",
              "  "
            ]
          },
          "metadata": {},
          "execution_count": 39
        }
      ]
    },
    {
      "cell_type": "code",
      "source": [
        "# нас интересует, в первую очередь, количество пропущенных значений\n",
        "# т.к. True = 1, False = 0, то необходимо сложить все значения по столбцам данного объекта DataFrame\n",
        "df_copy.isna().sum()"
      ],
      "metadata": {
        "id": "19pEsAM3WrfZ",
        "colab": {
          "base_uri": "https://localhost:8080/"
        },
        "outputId": "199299cc-485a-40a9-d22b-ce15acf54633"
      },
      "execution_count": null,
      "outputs": [
        {
          "output_type": "execute_result",
          "data": {
            "text/plain": [
              "id                    0\n",
              "bdate                 0\n",
              "city               1534\n",
              "country               0\n",
              "last_seen            26\n",
              "followers_count     836\n",
              "sex                   0\n",
              "costs                29\n",
              "games                29\n",
              "dtype: int64"
            ]
          },
          "metadata": {},
          "execution_count": 40
        }
      ]
    },
    {
      "cell_type": "code",
      "source": [
        "# isnull() - альтернативный метод проверки на пустые значения\n",
        "# можно оценить количество пропущенных значений в процентах, применив обычную арифметику\n",
        "df_copy.isnull().mean()*100"
      ],
      "metadata": {
        "id": "KjSFjjr_Zfbx",
        "colab": {
          "base_uri": "https://localhost:8080/"
        },
        "outputId": "ac451d91-ac6e-4b29-8ee6-367da8a3bcce"
      },
      "execution_count": null,
      "outputs": [
        {
          "output_type": "execute_result",
          "data": {
            "text/plain": [
              "id                  0.000000\n",
              "bdate               0.000000\n",
              "city               45.559846\n",
              "country             0.000000\n",
              "last_seen           0.772201\n",
              "followers_count    24.829225\n",
              "sex                 0.000000\n",
              "costs               0.861301\n",
              "games               0.861301\n",
              "dtype: float64"
            ]
          },
          "metadata": {},
          "execution_count": 41
        }
      ]
    },
    {
      "cell_type": "code",
      "source": [
        "# обратные методы: notna() и notnull() - количество заполненных значений\n",
        "df_copy.notna().sum()"
      ],
      "metadata": {
        "id": "4pReFUTolRFA",
        "colab": {
          "base_uri": "https://localhost:8080/"
        },
        "outputId": "9f80a1c4-a587-4b6e-a7ee-31c0b3c5dfa6"
      },
      "execution_count": null,
      "outputs": [
        {
          "output_type": "execute_result",
          "data": {
            "text/plain": [
              "id                 3367\n",
              "bdate              3367\n",
              "city               1833\n",
              "country            3367\n",
              "last_seen          3341\n",
              "followers_count    2531\n",
              "sex                3367\n",
              "costs              3338\n",
              "games              3338\n",
              "dtype: int64"
            ]
          },
          "metadata": {},
          "execution_count": 42
        }
      ]
    },
    {
      "cell_type": "markdown",
      "source": [
        "**Обзор пропущенных значений** по признакам:\n",
        "1. 'city' - пользователи указывают город по желанию (по кейсу нет необходимости в исключении пропущенных значений; восстановить пропуски нет возможности)\n",
        "2. 'last_seen' - должно быть указано значение последнего входа в магазин (скорее всего, ошибка в базе данных, либо при выгрузке данных в файл; по кейсу не указана необходимость в исключении пропущенных значений)\n",
        "3. 'followers_count' - по пользователям с закрытым аккаунтом информация не предоставляется (по кейсу нет необходимости в исключении пропущенных значений; восстановить пропуски нет возможности)\n",
        "4. 'costs' - затраты в магазине (по кейсу требование - исключить пропущенные значения; восстановить пропуски нет возможности)\n",
        "5. 'games' - списки игр, которыми интересуются пользователи (по кейсу требование - исключить пропущенные значения; восстановить пропуски нет возможности)"
      ],
      "metadata": {
        "id": "Jz9xlC0rXqr4"
      }
    },
    {
      "cell_type": "markdown",
      "source": [
        "## Исключение пропусков"
      ],
      "metadata": {
        "id": "IQnZox_XjCwb"
      }
    },
    {
      "cell_type": "code",
      "source": [
        "# необходимо исключить наблюдения с пропусками по признакам 'costs' и 'games'\n",
        "df_copy.dropna(subset=['costs', 'games'], inplace=True)"
      ],
      "metadata": {
        "id": "txLzuUf4W6Br"
      },
      "execution_count": null,
      "outputs": []
    },
    {
      "cell_type": "code",
      "source": [
        "# применение метода dropna() без указания значений параметра subset\n",
        "# df_copy.dropna(inplace=True)\n",
        "# приведет к удалению всех наблюдений датасета, где есть хотя бы одно пустое значение"
      ],
      "metadata": {
        "id": "-p3a4sAljz80"
      },
      "execution_count": null,
      "outputs": []
    },
    {
      "cell_type": "code",
      "source": [
        "# контроль размеров датафрейма\n",
        "df_copy.shape"
      ],
      "metadata": {
        "id": "mp8fR7eqkHYy",
        "colab": {
          "base_uri": "https://localhost:8080/"
        },
        "outputId": "59b0726f-0a29-4bfe-8b30-b97d026f973e"
      },
      "execution_count": null,
      "outputs": [
        {
          "output_type": "execute_result",
          "data": {
            "text/plain": [
              "(3338, 9)"
            ]
          },
          "metadata": {},
          "execution_count": 145
        }
      ]
    },
    {
      "cell_type": "code",
      "source": [
        "3367-3338"
      ],
      "metadata": {
        "id": "x8aZq8J7kQ6e",
        "colab": {
          "base_uri": "https://localhost:8080/"
        },
        "outputId": "fdee2cef-8f22-42fc-a7df-007d37d81006"
      },
      "execution_count": null,
      "outputs": [
        {
          "output_type": "execute_result",
          "data": {
            "text/plain": [
              "29"
            ]
          },
          "metadata": {},
          "execution_count": 47
        }
      ]
    },
    {
      "cell_type": "code",
      "source": [
        "# контроль пропусков\n",
        "df_copy.isna().sum()"
      ],
      "metadata": {
        "id": "NibEWkP9kSIB",
        "colab": {
          "base_uri": "https://localhost:8080/"
        },
        "outputId": "d4a33181-f66b-49df-8ca4-627dee003ef2"
      },
      "execution_count": null,
      "outputs": [
        {
          "output_type": "execute_result",
          "data": {
            "text/plain": [
              "id                    0\n",
              "bdate                 0\n",
              "city               1529\n",
              "country               0\n",
              "last_seen            26\n",
              "followers_count     828\n",
              "sex                   0\n",
              "costs                 0\n",
              "games                 0\n",
              "dtype: int64"
            ]
          },
          "metadata": {},
          "execution_count": 48
        }
      ]
    },
    {
      "cell_type": "code",
      "source": [
        "df_copy.info()"
      ],
      "metadata": {
        "id": "8rxNPvDypOwI",
        "colab": {
          "base_uri": "https://localhost:8080/"
        },
        "outputId": "ff605bd3-416b-4ae0-bdec-94b0c56008ca"
      },
      "execution_count": null,
      "outputs": [
        {
          "output_type": "stream",
          "name": "stdout",
          "text": [
            "<class 'pandas.core.frame.DataFrame'>\n",
            "Int64Index: 3338 entries, 0 to 3524\n",
            "Data columns (total 9 columns):\n",
            " #   Column           Non-Null Count  Dtype  \n",
            "---  ------           --------------  -----  \n",
            " 0   id               3338 non-null   int64  \n",
            " 1   bdate            3338 non-null   object \n",
            " 2   city             1809 non-null   object \n",
            " 3   country          3338 non-null   object \n",
            " 4   last_seen        3312 non-null   object \n",
            " 5   followers_count  2510 non-null   float64\n",
            " 6   sex              3338 non-null   int64  \n",
            " 7   costs            3338 non-null   object \n",
            " 8   games            3338 non-null   object \n",
            "dtypes: float64(1), int64(2), object(6)\n",
            "memory usage: 260.8+ KB\n"
          ]
        }
      ]
    },
    {
      "cell_type": "code",
      "source": [
        "# количество данных изменилось, однако значения индексов остались в диапазоне от 0 до 3520\n",
        "# следует перезаписать индексы по порядку (в нашем случае нет необходимости сохранять исходные индексы),\n",
        "# передав параметр drop=True для автоматического удаления исходного индексного столбца\n",
        "df_copy.reset_index(drop=True, inplace=True)"
      ],
      "metadata": {
        "id": "VrGM8bZmpWEZ"
      },
      "execution_count": null,
      "outputs": []
    },
    {
      "cell_type": "code",
      "source": [
        "# проверка диапазона индексов\n",
        "df_copy.index"
      ],
      "metadata": {
        "id": "LMM35gUCqCkP",
        "colab": {
          "base_uri": "https://localhost:8080/"
        },
        "outputId": "e4c8c7c0-29ec-456e-8110-04558c95568b"
      },
      "execution_count": null,
      "outputs": [
        {
          "output_type": "execute_result",
          "data": {
            "text/plain": [
              "RangeIndex(start=0, stop=3338, step=1)"
            ]
          },
          "metadata": {},
          "execution_count": 51
        }
      ]
    },
    {
      "cell_type": "markdown",
      "source": [
        "## Обработка пропусков"
      ],
      "metadata": {
        "id": "vr6-h0jNkll2"
      }
    },
    {
      "cell_type": "code",
      "source": [
        "# метод для заполнения пропусков - fillna()\n",
        "# (в нашем случае нет необходимости)\n",
        "# df_copy['city'].fillna('Moscow', inplace=True)\n",
        "# df_copy['followers_count'].fillna(0, inplace=True)"
      ],
      "metadata": {
        "id": "cx_vGyZZklD3"
      },
      "execution_count": null,
      "outputs": []
    },
    {
      "cell_type": "markdown",
      "source": [
        "# **Тема 6. Работа с JSON и вложенными структурами данных**"
      ],
      "metadata": {
        "id": "BBdCToL6m2vN"
      }
    },
    {
      "cell_type": "code",
      "source": [
        "df_copy.head(3)"
      ],
      "metadata": {
        "colab": {
          "base_uri": "https://localhost:8080/",
          "height": 274
        },
        "id": "EIX_fgJRG6xf",
        "outputId": "42a898e3-b3f2-4275-e4c9-6974d4a1fa3a"
      },
      "execution_count": null,
      "outputs": [
        {
          "output_type": "execute_result",
          "data": {
            "text/plain": [
              "    id     bdate                                    city  \\\n",
              "0   19  1.1.2005  {'id': 2, 'title': 'Saint-Petersburg'}   \n",
              "1  510  1.1.1985                                     NaN   \n",
              "2  674  1.1.1979      {'id': 99, 'title': 'Новосибирск'}   \n",
              "\n",
              "                        country                            last_seen  \\\n",
              "0  {'id': 1, 'title': 'Россия'}  {'platform': 2, 'time': 1662237362}   \n",
              "1  {'id': 1, 'title': 'Россия'}  {'platform': 7, 'time': 1661321803}   \n",
              "2  {'id': 1, 'title': 'Россия'}  {'platform': 7, 'time': 1662202619}   \n",
              "\n",
              "   followers_count  sex                                costs  \\\n",
              "0          39326.0    1  {'costs': 25000, 'currency': 'RUR'}   \n",
              "1          19698.0    2  {'costs': 50000, 'currency': 'RUR'}   \n",
              "2              NaN    2  {'costs': 75000, 'currency': 'RUR'}   \n",
              "\n",
              "                                               games  \n",
              "0  [{'name': 'Dota 2'}, {'name': 'CS:GO'}, {'name...  \n",
              "1  [{'name': 'League of Legends'}, {'name': 'Valo...  \n",
              "2                             [{'name': 'Fortnite'}]  "
            ],
            "text/html": [
              "\n",
              "  <div id=\"df-21aef945-c6a2-40c5-bdca-7c3c3b5d189e\">\n",
              "    <div class=\"colab-df-container\">\n",
              "      <div>\n",
              "<style scoped>\n",
              "    .dataframe tbody tr th:only-of-type {\n",
              "        vertical-align: middle;\n",
              "    }\n",
              "\n",
              "    .dataframe tbody tr th {\n",
              "        vertical-align: top;\n",
              "    }\n",
              "\n",
              "    .dataframe thead th {\n",
              "        text-align: right;\n",
              "    }\n",
              "</style>\n",
              "<table border=\"1\" class=\"dataframe\">\n",
              "  <thead>\n",
              "    <tr style=\"text-align: right;\">\n",
              "      <th></th>\n",
              "      <th>id</th>\n",
              "      <th>bdate</th>\n",
              "      <th>city</th>\n",
              "      <th>country</th>\n",
              "      <th>last_seen</th>\n",
              "      <th>followers_count</th>\n",
              "      <th>sex</th>\n",
              "      <th>costs</th>\n",
              "      <th>games</th>\n",
              "    </tr>\n",
              "  </thead>\n",
              "  <tbody>\n",
              "    <tr>\n",
              "      <th>0</th>\n",
              "      <td>19</td>\n",
              "      <td>1.1.2005</td>\n",
              "      <td>{'id': 2, 'title': 'Saint-Petersburg'}</td>\n",
              "      <td>{'id': 1, 'title': 'Россия'}</td>\n",
              "      <td>{'platform': 2, 'time': 1662237362}</td>\n",
              "      <td>39326.0</td>\n",
              "      <td>1</td>\n",
              "      <td>{'costs': 25000, 'currency': 'RUR'}</td>\n",
              "      <td>[{'name': 'Dota 2'}, {'name': 'CS:GO'}, {'name...</td>\n",
              "    </tr>\n",
              "    <tr>\n",
              "      <th>1</th>\n",
              "      <td>510</td>\n",
              "      <td>1.1.1985</td>\n",
              "      <td>NaN</td>\n",
              "      <td>{'id': 1, 'title': 'Россия'}</td>\n",
              "      <td>{'platform': 7, 'time': 1661321803}</td>\n",
              "      <td>19698.0</td>\n",
              "      <td>2</td>\n",
              "      <td>{'costs': 50000, 'currency': 'RUR'}</td>\n",
              "      <td>[{'name': 'League of Legends'}, {'name': 'Valo...</td>\n",
              "    </tr>\n",
              "    <tr>\n",
              "      <th>2</th>\n",
              "      <td>674</td>\n",
              "      <td>1.1.1979</td>\n",
              "      <td>{'id': 99, 'title': 'Новосибирск'}</td>\n",
              "      <td>{'id': 1, 'title': 'Россия'}</td>\n",
              "      <td>{'platform': 7, 'time': 1662202619}</td>\n",
              "      <td>NaN</td>\n",
              "      <td>2</td>\n",
              "      <td>{'costs': 75000, 'currency': 'RUR'}</td>\n",
              "      <td>[{'name': 'Fortnite'}]</td>\n",
              "    </tr>\n",
              "  </tbody>\n",
              "</table>\n",
              "</div>\n",
              "      <button class=\"colab-df-convert\" onclick=\"convertToInteractive('df-21aef945-c6a2-40c5-bdca-7c3c3b5d189e')\"\n",
              "              title=\"Convert this dataframe to an interactive table.\"\n",
              "              style=\"display:none;\">\n",
              "        \n",
              "  <svg xmlns=\"http://www.w3.org/2000/svg\" height=\"24px\"viewBox=\"0 0 24 24\"\n",
              "       width=\"24px\">\n",
              "    <path d=\"M0 0h24v24H0V0z\" fill=\"none\"/>\n",
              "    <path d=\"M18.56 5.44l.94 2.06.94-2.06 2.06-.94-2.06-.94-.94-2.06-.94 2.06-2.06.94zm-11 1L8.5 8.5l.94-2.06 2.06-.94-2.06-.94L8.5 2.5l-.94 2.06-2.06.94zm10 10l.94 2.06.94-2.06 2.06-.94-2.06-.94-.94-2.06-.94 2.06-2.06.94z\"/><path d=\"M17.41 7.96l-1.37-1.37c-.4-.4-.92-.59-1.43-.59-.52 0-1.04.2-1.43.59L10.3 9.45l-7.72 7.72c-.78.78-.78 2.05 0 2.83L4 21.41c.39.39.9.59 1.41.59.51 0 1.02-.2 1.41-.59l7.78-7.78 2.81-2.81c.8-.78.8-2.07 0-2.86zM5.41 20L4 18.59l7.72-7.72 1.47 1.35L5.41 20z\"/>\n",
              "  </svg>\n",
              "      </button>\n",
              "      \n",
              "  <style>\n",
              "    .colab-df-container {\n",
              "      display:flex;\n",
              "      flex-wrap:wrap;\n",
              "      gap: 12px;\n",
              "    }\n",
              "\n",
              "    .colab-df-convert {\n",
              "      background-color: #E8F0FE;\n",
              "      border: none;\n",
              "      border-radius: 50%;\n",
              "      cursor: pointer;\n",
              "      display: none;\n",
              "      fill: #1967D2;\n",
              "      height: 32px;\n",
              "      padding: 0 0 0 0;\n",
              "      width: 32px;\n",
              "    }\n",
              "\n",
              "    .colab-df-convert:hover {\n",
              "      background-color: #E2EBFA;\n",
              "      box-shadow: 0px 1px 2px rgba(60, 64, 67, 0.3), 0px 1px 3px 1px rgba(60, 64, 67, 0.15);\n",
              "      fill: #174EA6;\n",
              "    }\n",
              "\n",
              "    [theme=dark] .colab-df-convert {\n",
              "      background-color: #3B4455;\n",
              "      fill: #D2E3FC;\n",
              "    }\n",
              "\n",
              "    [theme=dark] .colab-df-convert:hover {\n",
              "      background-color: #434B5C;\n",
              "      box-shadow: 0px 1px 3px 1px rgba(0, 0, 0, 0.15);\n",
              "      filter: drop-shadow(0px 1px 2px rgba(0, 0, 0, 0.3));\n",
              "      fill: #FFFFFF;\n",
              "    }\n",
              "  </style>\n",
              "\n",
              "      <script>\n",
              "        const buttonEl =\n",
              "          document.querySelector('#df-21aef945-c6a2-40c5-bdca-7c3c3b5d189e button.colab-df-convert');\n",
              "        buttonEl.style.display =\n",
              "          google.colab.kernel.accessAllowed ? 'block' : 'none';\n",
              "\n",
              "        async function convertToInteractive(key) {\n",
              "          const element = document.querySelector('#df-21aef945-c6a2-40c5-bdca-7c3c3b5d189e');\n",
              "          const dataTable =\n",
              "            await google.colab.kernel.invokeFunction('convertToInteractive',\n",
              "                                                     [key], {});\n",
              "          if (!dataTable) return;\n",
              "\n",
              "          const docLinkHtml = 'Like what you see? Visit the ' +\n",
              "            '<a target=\"_blank\" href=https://colab.research.google.com/notebooks/data_table.ipynb>data table notebook</a>'\n",
              "            + ' to learn more about interactive tables.';\n",
              "          element.innerHTML = '';\n",
              "          dataTable['output_type'] = 'display_data';\n",
              "          await google.colab.output.renderOutput(dataTable, element);\n",
              "          const docLink = document.createElement('div');\n",
              "          docLink.innerHTML = docLinkHtml;\n",
              "          element.appendChild(docLink);\n",
              "        }\n",
              "      </script>\n",
              "    </div>\n",
              "  </div>\n",
              "  "
            ]
          },
          "metadata": {},
          "execution_count": 28
        }
      ]
    },
    {
      "cell_type": "markdown",
      "source": [
        "'city', 'country', 'last_seen', 'costs', 'games'"
      ],
      "metadata": {
        "id": "o1OZ_Q-llQ9a"
      }
    },
    {
      "cell_type": "markdown",
      "source": [
        "## 'city'"
      ],
      "metadata": {
        "id": "RvqN8BddnSrX"
      }
    },
    {
      "cell_type": "code",
      "source": [
        "# обзор значения по признаку\n",
        "df_copy['city'][0]"
      ],
      "metadata": {
        "id": "80rWKKZ4lFVs",
        "colab": {
          "base_uri": "https://localhost:8080/",
          "height": 35
        },
        "outputId": "6302ddff-a477-4665-aa8e-7978ff6c0abf"
      },
      "execution_count": null,
      "outputs": [
        {
          "output_type": "execute_result",
          "data": {
            "text/plain": [
              "\"{'id': 2, 'title': 'Saint-Petersburg'}\""
            ],
            "application/vnd.google.colaboratory.intrinsic+json": {
              "type": "string"
            }
          },
          "metadata": {},
          "execution_count": 29
        }
      ]
    },
    {
      "cell_type": "code",
      "source": [
        "# пробуем достать значение с помощью модуля json\n",
        "json.loads(df_copy['city'][0])"
      ],
      "metadata": {
        "colab": {
          "base_uri": "https://localhost:8080/",
          "height": 328
        },
        "id": "UCXmrHsnRUrJ",
        "outputId": "5d2117e6-bb3a-4cd2-8ad3-207ae1efbf45"
      },
      "execution_count": null,
      "outputs": [
        {
          "output_type": "error",
          "ename": "JSONDecodeError",
          "evalue": "ignored",
          "traceback": [
            "\u001b[0;31m---------------------------------------------------------------------------\u001b[0m",
            "\u001b[0;31mJSONDecodeError\u001b[0m                           Traceback (most recent call last)",
            "\u001b[0;32m<ipython-input-30-eed0858cb37e>\u001b[0m in \u001b[0;36m<module>\u001b[0;34m\u001b[0m\n\u001b[1;32m      1\u001b[0m \u001b[0;31m# пробуем достать значение с помощью модуля json\u001b[0m\u001b[0;34m\u001b[0m\u001b[0;34m\u001b[0m\u001b[0;34m\u001b[0m\u001b[0m\n\u001b[0;32m----> 2\u001b[0;31m \u001b[0mjson\u001b[0m\u001b[0;34m.\u001b[0m\u001b[0mloads\u001b[0m\u001b[0;34m(\u001b[0m\u001b[0mdf_copy\u001b[0m\u001b[0;34m[\u001b[0m\u001b[0;34m'city'\u001b[0m\u001b[0;34m]\u001b[0m\u001b[0;34m[\u001b[0m\u001b[0;36m0\u001b[0m\u001b[0;34m]\u001b[0m\u001b[0;34m)\u001b[0m\u001b[0;34m\u001b[0m\u001b[0;34m\u001b[0m\u001b[0m\n\u001b[0m",
            "\u001b[0;32m/usr/lib/python3.8/json/__init__.py\u001b[0m in \u001b[0;36mloads\u001b[0;34m(s, cls, object_hook, parse_float, parse_int, parse_constant, object_pairs_hook, **kw)\u001b[0m\n\u001b[1;32m    355\u001b[0m             \u001b[0mparse_int\u001b[0m \u001b[0;32mis\u001b[0m \u001b[0;32mNone\u001b[0m \u001b[0;32mand\u001b[0m \u001b[0mparse_float\u001b[0m \u001b[0;32mis\u001b[0m \u001b[0;32mNone\u001b[0m \u001b[0;32mand\u001b[0m\u001b[0;34m\u001b[0m\u001b[0;34m\u001b[0m\u001b[0m\n\u001b[1;32m    356\u001b[0m             parse_constant is None and object_pairs_hook is None and not kw):\n\u001b[0;32m--> 357\u001b[0;31m         \u001b[0;32mreturn\u001b[0m \u001b[0m_default_decoder\u001b[0m\u001b[0;34m.\u001b[0m\u001b[0mdecode\u001b[0m\u001b[0;34m(\u001b[0m\u001b[0ms\u001b[0m\u001b[0;34m)\u001b[0m\u001b[0;34m\u001b[0m\u001b[0;34m\u001b[0m\u001b[0m\n\u001b[0m\u001b[1;32m    358\u001b[0m     \u001b[0;32mif\u001b[0m \u001b[0mcls\u001b[0m \u001b[0;32mis\u001b[0m \u001b[0;32mNone\u001b[0m\u001b[0;34m:\u001b[0m\u001b[0;34m\u001b[0m\u001b[0;34m\u001b[0m\u001b[0m\n\u001b[1;32m    359\u001b[0m         \u001b[0mcls\u001b[0m \u001b[0;34m=\u001b[0m \u001b[0mJSONDecoder\u001b[0m\u001b[0;34m\u001b[0m\u001b[0;34m\u001b[0m\u001b[0m\n",
            "\u001b[0;32m/usr/lib/python3.8/json/decoder.py\u001b[0m in \u001b[0;36mdecode\u001b[0;34m(self, s, _w)\u001b[0m\n\u001b[1;32m    335\u001b[0m \u001b[0;34m\u001b[0m\u001b[0m\n\u001b[1;32m    336\u001b[0m         \"\"\"\n\u001b[0;32m--> 337\u001b[0;31m         \u001b[0mobj\u001b[0m\u001b[0;34m,\u001b[0m \u001b[0mend\u001b[0m \u001b[0;34m=\u001b[0m \u001b[0mself\u001b[0m\u001b[0;34m.\u001b[0m\u001b[0mraw_decode\u001b[0m\u001b[0;34m(\u001b[0m\u001b[0ms\u001b[0m\u001b[0;34m,\u001b[0m \u001b[0midx\u001b[0m\u001b[0;34m=\u001b[0m\u001b[0m_w\u001b[0m\u001b[0;34m(\u001b[0m\u001b[0ms\u001b[0m\u001b[0;34m,\u001b[0m \u001b[0;36m0\u001b[0m\u001b[0;34m)\u001b[0m\u001b[0;34m.\u001b[0m\u001b[0mend\u001b[0m\u001b[0;34m(\u001b[0m\u001b[0;34m)\u001b[0m\u001b[0;34m)\u001b[0m\u001b[0;34m\u001b[0m\u001b[0;34m\u001b[0m\u001b[0m\n\u001b[0m\u001b[1;32m    338\u001b[0m         \u001b[0mend\u001b[0m \u001b[0;34m=\u001b[0m \u001b[0m_w\u001b[0m\u001b[0;34m(\u001b[0m\u001b[0ms\u001b[0m\u001b[0;34m,\u001b[0m \u001b[0mend\u001b[0m\u001b[0;34m)\u001b[0m\u001b[0;34m.\u001b[0m\u001b[0mend\u001b[0m\u001b[0;34m(\u001b[0m\u001b[0;34m)\u001b[0m\u001b[0;34m\u001b[0m\u001b[0;34m\u001b[0m\u001b[0m\n\u001b[1;32m    339\u001b[0m         \u001b[0;32mif\u001b[0m \u001b[0mend\u001b[0m \u001b[0;34m!=\u001b[0m \u001b[0mlen\u001b[0m\u001b[0;34m(\u001b[0m\u001b[0ms\u001b[0m\u001b[0;34m)\u001b[0m\u001b[0;34m:\u001b[0m\u001b[0;34m\u001b[0m\u001b[0;34m\u001b[0m\u001b[0m\n",
            "\u001b[0;32m/usr/lib/python3.8/json/decoder.py\u001b[0m in \u001b[0;36mraw_decode\u001b[0;34m(self, s, idx)\u001b[0m\n\u001b[1;32m    351\u001b[0m         \"\"\"\n\u001b[1;32m    352\u001b[0m         \u001b[0;32mtry\u001b[0m\u001b[0;34m:\u001b[0m\u001b[0;34m\u001b[0m\u001b[0;34m\u001b[0m\u001b[0m\n\u001b[0;32m--> 353\u001b[0;31m             \u001b[0mobj\u001b[0m\u001b[0;34m,\u001b[0m \u001b[0mend\u001b[0m \u001b[0;34m=\u001b[0m \u001b[0mself\u001b[0m\u001b[0;34m.\u001b[0m\u001b[0mscan_once\u001b[0m\u001b[0;34m(\u001b[0m\u001b[0ms\u001b[0m\u001b[0;34m,\u001b[0m \u001b[0midx\u001b[0m\u001b[0;34m)\u001b[0m\u001b[0;34m\u001b[0m\u001b[0;34m\u001b[0m\u001b[0m\n\u001b[0m\u001b[1;32m    354\u001b[0m         \u001b[0;32mexcept\u001b[0m \u001b[0mStopIteration\u001b[0m \u001b[0;32mas\u001b[0m \u001b[0merr\u001b[0m\u001b[0;34m:\u001b[0m\u001b[0;34m\u001b[0m\u001b[0;34m\u001b[0m\u001b[0m\n\u001b[1;32m    355\u001b[0m             \u001b[0;32mraise\u001b[0m \u001b[0mJSONDecodeError\u001b[0m\u001b[0;34m(\u001b[0m\u001b[0;34m\"Expecting value\"\u001b[0m\u001b[0;34m,\u001b[0m \u001b[0ms\u001b[0m\u001b[0;34m,\u001b[0m \u001b[0merr\u001b[0m\u001b[0;34m.\u001b[0m\u001b[0mvalue\u001b[0m\u001b[0;34m)\u001b[0m \u001b[0;32mfrom\u001b[0m \u001b[0;32mNone\u001b[0m\u001b[0;34m\u001b[0m\u001b[0;34m\u001b[0m\u001b[0m\n",
            "\u001b[0;31mJSONDecodeError\u001b[0m: Expecting property name enclosed in double quotes: line 1 column 2 (char 1)"
          ]
        }
      ]
    },
    {
      "cell_type": "code",
      "source": [
        "# судя по ошибке не устраивает наличие одинарных кавычек\n",
        "# пробуем заменить на двойные кавычки с помощью метода replace()\n",
        "df_copy['city'][0].replace(\"'\", '\"')"
      ],
      "metadata": {
        "colab": {
          "base_uri": "https://localhost:8080/",
          "height": 35
        },
        "id": "74yKyZNZQv3Y",
        "outputId": "385f4fcf-4fb6-40ea-ad86-0dc1ed93986d"
      },
      "execution_count": null,
      "outputs": [
        {
          "output_type": "execute_result",
          "data": {
            "text/plain": [
              "'{\"id\": 2, \"title\": \"Saint-Petersburg\"}'"
            ],
            "application/vnd.google.colaboratory.intrinsic+json": {
              "type": "string"
            }
          },
          "metadata": {},
          "execution_count": 31
        }
      ]
    },
    {
      "cell_type": "code",
      "source": [
        "json.loads(df_copy['city'][0].replace(\"'\", '\"'))"
      ],
      "metadata": {
        "id": "AJ7V3udfqOrB",
        "colab": {
          "base_uri": "https://localhost:8080/"
        },
        "outputId": "6536b025-3966-4641-9695-61e618d8ea63"
      },
      "execution_count": null,
      "outputs": [
        {
          "output_type": "execute_result",
          "data": {
            "text/plain": [
              "{'id': 2, 'title': 'Saint-Petersburg'}"
            ]
          },
          "metadata": {},
          "execution_count": 32
        }
      ]
    },
    {
      "cell_type": "code",
      "source": [
        "# пробуем достать значение по ключу title\n",
        "json.loads(df_copy['city'][0].replace(\"'\", '\"'))['title']"
      ],
      "metadata": {
        "colab": {
          "base_uri": "https://localhost:8080/",
          "height": 35
        },
        "id": "Lid2Y8LEQ8fV",
        "outputId": "5edac217-5632-4aaa-8a66-36db2a149702"
      },
      "execution_count": null,
      "outputs": [
        {
          "output_type": "execute_result",
          "data": {
            "text/plain": [
              "'Saint-Petersburg'"
            ],
            "application/vnd.google.colaboratory.intrinsic+json": {
              "type": "string"
            }
          },
          "metadata": {},
          "execution_count": 33
        }
      ]
    },
    {
      "cell_type": "code",
      "source": [
        "# код отработал корректно\n",
        "# пишем функцию для последующего применения к столбцу, при этом вычленяя наименование города\n",
        "def text_to_json(text):\n",
        "  result = json.loads(text.replace(\"'\", '\"'))['title']\n",
        "  return result"
      ],
      "metadata": {
        "id": "U-_ab5cYq1fz"
      },
      "execution_count": null,
      "outputs": []
    },
    {
      "cell_type": "code",
      "source": [
        "# применяем функцию к столбцу\n",
        "df_copy['city'] = df_copy['city'].apply(text_to_json)"
      ],
      "metadata": {
        "id": "Np0pGzcOrc5o",
        "colab": {
          "base_uri": "https://localhost:8080/",
          "height": 575
        },
        "outputId": "46e4f832-4f21-4db3-b68c-50c138f37115"
      },
      "execution_count": null,
      "outputs": [
        {
          "output_type": "error",
          "ename": "AttributeError",
          "evalue": "ignored",
          "traceback": [
            "\u001b[0;31m---------------------------------------------------------------------------\u001b[0m",
            "\u001b[0;31mAttributeError\u001b[0m                            Traceback (most recent call last)",
            "\u001b[0;32m<ipython-input-7-e08dcbca7302>\u001b[0m in \u001b[0;36m<cell line: 2>\u001b[0;34m()\u001b[0m\n\u001b[1;32m      1\u001b[0m \u001b[0;31m# применяем функцию к столбцу\u001b[0m\u001b[0;34m\u001b[0m\u001b[0;34m\u001b[0m\u001b[0m\n\u001b[0;32m----> 2\u001b[0;31m \u001b[0mdf_copy\u001b[0m\u001b[0;34m[\u001b[0m\u001b[0;34m'city'\u001b[0m\u001b[0;34m]\u001b[0m \u001b[0;34m=\u001b[0m \u001b[0mdf_copy\u001b[0m\u001b[0;34m[\u001b[0m\u001b[0;34m'city'\u001b[0m\u001b[0;34m]\u001b[0m\u001b[0;34m.\u001b[0m\u001b[0mapply\u001b[0m\u001b[0;34m(\u001b[0m\u001b[0mtext_to_json\u001b[0m\u001b[0;34m)\u001b[0m\u001b[0;34m\u001b[0m\u001b[0;34m\u001b[0m\u001b[0m\n\u001b[0m",
            "\u001b[0;32m/usr/local/lib/python3.9/dist-packages/pandas/core/series.py\u001b[0m in \u001b[0;36mapply\u001b[0;34m(self, func, convert_dtype, args, **kwargs)\u001b[0m\n\u001b[1;32m   4769\u001b[0m         \u001b[0mdtype\u001b[0m\u001b[0;34m:\u001b[0m \u001b[0mfloat64\u001b[0m\u001b[0;34m\u001b[0m\u001b[0;34m\u001b[0m\u001b[0m\n\u001b[1;32m   4770\u001b[0m         \"\"\"\n\u001b[0;32m-> 4771\u001b[0;31m         \u001b[0;32mreturn\u001b[0m \u001b[0mSeriesApply\u001b[0m\u001b[0;34m(\u001b[0m\u001b[0mself\u001b[0m\u001b[0;34m,\u001b[0m \u001b[0mfunc\u001b[0m\u001b[0;34m,\u001b[0m \u001b[0mconvert_dtype\u001b[0m\u001b[0;34m,\u001b[0m \u001b[0margs\u001b[0m\u001b[0;34m,\u001b[0m \u001b[0mkwargs\u001b[0m\u001b[0;34m)\u001b[0m\u001b[0;34m.\u001b[0m\u001b[0mapply\u001b[0m\u001b[0;34m(\u001b[0m\u001b[0;34m)\u001b[0m\u001b[0;34m\u001b[0m\u001b[0;34m\u001b[0m\u001b[0m\n\u001b[0m\u001b[1;32m   4772\u001b[0m \u001b[0;34m\u001b[0m\u001b[0m\n\u001b[1;32m   4773\u001b[0m     def _reduce(\n",
            "\u001b[0;32m/usr/local/lib/python3.9/dist-packages/pandas/core/apply.py\u001b[0m in \u001b[0;36mapply\u001b[0;34m(self)\u001b[0m\n\u001b[1;32m   1121\u001b[0m \u001b[0;34m\u001b[0m\u001b[0m\n\u001b[1;32m   1122\u001b[0m         \u001b[0;31m# self.f is Callable\u001b[0m\u001b[0;34m\u001b[0m\u001b[0;34m\u001b[0m\u001b[0m\n\u001b[0;32m-> 1123\u001b[0;31m         \u001b[0;32mreturn\u001b[0m \u001b[0mself\u001b[0m\u001b[0;34m.\u001b[0m\u001b[0mapply_standard\u001b[0m\u001b[0;34m(\u001b[0m\u001b[0;34m)\u001b[0m\u001b[0;34m\u001b[0m\u001b[0;34m\u001b[0m\u001b[0m\n\u001b[0m\u001b[1;32m   1124\u001b[0m \u001b[0;34m\u001b[0m\u001b[0m\n\u001b[1;32m   1125\u001b[0m     \u001b[0;32mdef\u001b[0m \u001b[0magg\u001b[0m\u001b[0;34m(\u001b[0m\u001b[0mself\u001b[0m\u001b[0;34m)\u001b[0m\u001b[0;34m:\u001b[0m\u001b[0;34m\u001b[0m\u001b[0;34m\u001b[0m\u001b[0m\n",
            "\u001b[0;32m/usr/local/lib/python3.9/dist-packages/pandas/core/apply.py\u001b[0m in \u001b[0;36mapply_standard\u001b[0;34m(self)\u001b[0m\n\u001b[1;32m   1172\u001b[0m             \u001b[0;32melse\u001b[0m\u001b[0;34m:\u001b[0m\u001b[0;34m\u001b[0m\u001b[0;34m\u001b[0m\u001b[0m\n\u001b[1;32m   1173\u001b[0m                 \u001b[0mvalues\u001b[0m \u001b[0;34m=\u001b[0m \u001b[0mobj\u001b[0m\u001b[0;34m.\u001b[0m\u001b[0mastype\u001b[0m\u001b[0;34m(\u001b[0m\u001b[0mobject\u001b[0m\u001b[0;34m)\u001b[0m\u001b[0;34m.\u001b[0m\u001b[0m_values\u001b[0m\u001b[0;34m\u001b[0m\u001b[0;34m\u001b[0m\u001b[0m\n\u001b[0;32m-> 1174\u001b[0;31m                 mapped = lib.map_infer(\n\u001b[0m\u001b[1;32m   1175\u001b[0m                     \u001b[0mvalues\u001b[0m\u001b[0;34m,\u001b[0m\u001b[0;34m\u001b[0m\u001b[0;34m\u001b[0m\u001b[0m\n\u001b[1;32m   1176\u001b[0m                     \u001b[0mf\u001b[0m\u001b[0;34m,\u001b[0m\u001b[0;34m\u001b[0m\u001b[0;34m\u001b[0m\u001b[0m\n",
            "\u001b[0;32m/usr/local/lib/python3.9/dist-packages/pandas/_libs/lib.pyx\u001b[0m in \u001b[0;36mpandas._libs.lib.map_infer\u001b[0;34m()\u001b[0m\n",
            "\u001b[0;32m<ipython-input-4-c65968c64faf>\u001b[0m in \u001b[0;36mtext_to_json\u001b[0;34m(text)\u001b[0m\n\u001b[1;32m      2\u001b[0m \u001b[0;31m# пишем функцию для последующего применения к столбцу, при этом вычленяя наименование города\u001b[0m\u001b[0;34m\u001b[0m\u001b[0;34m\u001b[0m\u001b[0m\n\u001b[1;32m      3\u001b[0m \u001b[0;32mdef\u001b[0m \u001b[0mtext_to_json\u001b[0m\u001b[0;34m(\u001b[0m\u001b[0mtext\u001b[0m\u001b[0;34m)\u001b[0m\u001b[0;34m:\u001b[0m\u001b[0;34m\u001b[0m\u001b[0;34m\u001b[0m\u001b[0m\n\u001b[0;32m----> 4\u001b[0;31m   \u001b[0mresult\u001b[0m \u001b[0;34m=\u001b[0m \u001b[0mjson\u001b[0m\u001b[0;34m.\u001b[0m\u001b[0mloads\u001b[0m\u001b[0;34m(\u001b[0m\u001b[0mtext\u001b[0m\u001b[0;34m.\u001b[0m\u001b[0mreplace\u001b[0m\u001b[0;34m(\u001b[0m\u001b[0;34m\"'\"\u001b[0m\u001b[0;34m,\u001b[0m \u001b[0;34m'\"'\u001b[0m\u001b[0;34m)\u001b[0m\u001b[0;34m)\u001b[0m\u001b[0;34m[\u001b[0m\u001b[0;34m'title'\u001b[0m\u001b[0;34m]\u001b[0m\u001b[0;34m\u001b[0m\u001b[0;34m\u001b[0m\u001b[0m\n\u001b[0m\u001b[1;32m      5\u001b[0m   \u001b[0;32mreturn\u001b[0m \u001b[0mresult\u001b[0m\u001b[0;34m\u001b[0m\u001b[0;34m\u001b[0m\u001b[0m\n",
            "\u001b[0;31mAttributeError\u001b[0m: 'float' object has no attribute 'replace'"
          ]
        }
      ]
    },
    {
      "cell_type": "code",
      "source": [
        "# ошибка, связанная с наличием пропусков по столбцу\n",
        "# добавим в функцию обработку пустых значений (один из вариантов исполнения)\n",
        "def text_to_json(text):\n",
        "  if pd.isna(text):\n",
        "    result = 'Город не указан'\n",
        "  else:\n",
        "    result = json.loads(text.replace(\"'\", '\"'))['title']\n",
        "  return result"
      ],
      "metadata": {
        "id": "5Rpv1Hh5sTxF"
      },
      "execution_count": null,
      "outputs": []
    },
    {
      "cell_type": "code",
      "source": [
        "# применяем функцию к столбцу\n",
        "df_copy['city'] = df_copy['city'].apply(text_to_json)"
      ],
      "metadata": {
        "id": "dFCq7XkEs1TV"
      },
      "execution_count": null,
      "outputs": []
    },
    {
      "cell_type": "code",
      "source": [
        "# контроль результата\n",
        "df_copy.city"
      ],
      "metadata": {
        "id": "IAGjhHdjs-vX",
        "colab": {
          "base_uri": "https://localhost:8080/"
        },
        "outputId": "5518abaf-2363-44d6-d844-16ca43b2ef1e"
      },
      "execution_count": null,
      "outputs": [
        {
          "output_type": "execute_result",
          "data": {
            "text/plain": [
              "0       Saint-Petersburg\n",
              "1        Город не указан\n",
              "2            Новосибирск\n",
              "3       Saint-Petersburg\n",
              "4        Город не указан\n",
              "              ...       \n",
              "3333     Город не указан\n",
              "3334              Россия\n",
              "3335              Россия\n",
              "3336              Россия\n",
              "3337              Россия\n",
              "Name: city, Length: 3338, dtype: object"
            ]
          },
          "metadata": {},
          "execution_count": 149
        }
      ]
    },
    {
      "cell_type": "code",
      "source": [
        "# данные записались корректно,\n",
        "# однако стоит отметить, что они не приведены к единому регистру, языку,\n",
        "# например, различное написание русских городов на разных языках: Saint-Petersburg и Новосибирск,\n",
        "# а также наличие названия страны \"Россия\" в последних наблюдениях.\n",
        "# откорректируем данные несоответствия в одной из следующих тем"
      ],
      "metadata": {
        "id": "bGp3maI_tl9E"
      },
      "execution_count": null,
      "outputs": []
    },
    {
      "cell_type": "markdown",
      "source": [
        "## 'country'"
      ],
      "metadata": {
        "id": "GSbYDIm0nbuC"
      }
    },
    {
      "cell_type": "code",
      "source": [
        "df_copy['country'][0]"
      ],
      "metadata": {
        "colab": {
          "base_uri": "https://localhost:8080/",
          "height": 35
        },
        "id": "V24IbS8aItGZ",
        "outputId": "c52c34c2-d267-4947-e0d1-99925905ac78"
      },
      "execution_count": null,
      "outputs": [
        {
          "output_type": "execute_result",
          "data": {
            "text/plain": [
              "\"{'id': 1, 'title': 'Россия'}\""
            ],
            "application/vnd.google.colaboratory.intrinsic+json": {
              "type": "string"
            }
          },
          "metadata": {},
          "execution_count": 45
        }
      ]
    },
    {
      "cell_type": "code",
      "source": [
        "# альтернативный метод: приведение значений в словарь с помощью функции eval()\n",
        "eval(df_copy['country'][0])"
      ],
      "metadata": {
        "id": "Sr4EZukrneVx",
        "colab": {
          "base_uri": "https://localhost:8080/"
        },
        "outputId": "06857507-d19e-4440-a7fa-6a75cdc2769a"
      },
      "execution_count": null,
      "outputs": [
        {
          "output_type": "execute_result",
          "data": {
            "text/plain": [
              "{'id': 1, 'title': 'Россия'}"
            ]
          },
          "metadata": {},
          "execution_count": 46
        }
      ]
    },
    {
      "cell_type": "code",
      "source": [
        "eval(df_copy['country'][0])['title']"
      ],
      "metadata": {
        "id": "yuJ_yBzsu4rE",
        "colab": {
          "base_uri": "https://localhost:8080/",
          "height": 35
        },
        "outputId": "4eb43b77-415c-41be-814c-de180dd4f7e4"
      },
      "execution_count": null,
      "outputs": [
        {
          "output_type": "execute_result",
          "data": {
            "text/plain": [
              "'Россия'"
            ],
            "application/vnd.google.colaboratory.intrinsic+json": {
              "type": "string"
            }
          },
          "metadata": {},
          "execution_count": 47
        }
      ]
    },
    {
      "cell_type": "code",
      "source": [
        "# применим функцию к столбцу\n",
        "# т.к. по столбцу нет пропусков, то попробуем применить\n",
        "# анонимную lambda-функцию для записи наименования страны\n",
        "df_copy['country'] = df_copy['country'].apply(lambda x: eval(x)['title'])"
      ],
      "metadata": {
        "colab": {
          "base_uri": "https://localhost:8080/",
          "height": 311
        },
        "id": "-oEwCZntTfnb",
        "outputId": "c4ce2acb-e2cf-41e8-eb22-a5c56e68be2e"
      },
      "execution_count": null,
      "outputs": [
        {
          "output_type": "error",
          "ename": "KeyError",
          "evalue": "ignored",
          "traceback": [
            "\u001b[0;31m---------------------------------------------------------------------------\u001b[0m",
            "\u001b[0;31mKeyError\u001b[0m                                  Traceback (most recent call last)",
            "\u001b[0;32m<ipython-input-48-ae809e98c29d>\u001b[0m in \u001b[0;36m<module>\u001b[0;34m\u001b[0m\n\u001b[1;32m      2\u001b[0m \u001b[0;31m# т.к. по столбцу нет пропусков, то попробуем применить\u001b[0m\u001b[0;34m\u001b[0m\u001b[0;34m\u001b[0m\u001b[0;34m\u001b[0m\u001b[0m\n\u001b[1;32m      3\u001b[0m \u001b[0;31m# анонимную lambda-функцию для записи наименования страны\u001b[0m\u001b[0;34m\u001b[0m\u001b[0;34m\u001b[0m\u001b[0;34m\u001b[0m\u001b[0m\n\u001b[0;32m----> 4\u001b[0;31m \u001b[0mdf_copy\u001b[0m\u001b[0;34m[\u001b[0m\u001b[0;34m'country'\u001b[0m\u001b[0;34m]\u001b[0m \u001b[0;34m=\u001b[0m \u001b[0mdf_copy\u001b[0m\u001b[0;34m[\u001b[0m\u001b[0;34m'country'\u001b[0m\u001b[0;34m]\u001b[0m\u001b[0;34m.\u001b[0m\u001b[0mapply\u001b[0m\u001b[0;34m(\u001b[0m\u001b[0;32mlambda\u001b[0m \u001b[0mx\u001b[0m\u001b[0;34m:\u001b[0m \u001b[0meval\u001b[0m\u001b[0;34m(\u001b[0m\u001b[0mx\u001b[0m\u001b[0;34m)\u001b[0m\u001b[0;34m[\u001b[0m\u001b[0;34m'title'\u001b[0m\u001b[0;34m]\u001b[0m\u001b[0;34m)\u001b[0m\u001b[0;34m\u001b[0m\u001b[0;34m\u001b[0m\u001b[0m\n\u001b[0m",
            "\u001b[0;32m/usr/local/lib/python3.8/dist-packages/pandas/core/series.py\u001b[0m in \u001b[0;36mapply\u001b[0;34m(self, func, convert_dtype, args, **kwargs)\u001b[0m\n\u001b[1;32m   4355\u001b[0m         \u001b[0mdtype\u001b[0m\u001b[0;34m:\u001b[0m \u001b[0mfloat64\u001b[0m\u001b[0;34m\u001b[0m\u001b[0;34m\u001b[0m\u001b[0m\n\u001b[1;32m   4356\u001b[0m         \"\"\"\n\u001b[0;32m-> 4357\u001b[0;31m         \u001b[0;32mreturn\u001b[0m \u001b[0mSeriesApply\u001b[0m\u001b[0;34m(\u001b[0m\u001b[0mself\u001b[0m\u001b[0;34m,\u001b[0m \u001b[0mfunc\u001b[0m\u001b[0;34m,\u001b[0m \u001b[0mconvert_dtype\u001b[0m\u001b[0;34m,\u001b[0m \u001b[0margs\u001b[0m\u001b[0;34m,\u001b[0m \u001b[0mkwargs\u001b[0m\u001b[0;34m)\u001b[0m\u001b[0;34m.\u001b[0m\u001b[0mapply\u001b[0m\u001b[0;34m(\u001b[0m\u001b[0;34m)\u001b[0m\u001b[0;34m\u001b[0m\u001b[0;34m\u001b[0m\u001b[0m\n\u001b[0m\u001b[1;32m   4358\u001b[0m \u001b[0;34m\u001b[0m\u001b[0m\n\u001b[1;32m   4359\u001b[0m     def _reduce(\n",
            "\u001b[0;32m/usr/local/lib/python3.8/dist-packages/pandas/core/apply.py\u001b[0m in \u001b[0;36mapply\u001b[0;34m(self)\u001b[0m\n\u001b[1;32m   1041\u001b[0m             \u001b[0;32mreturn\u001b[0m \u001b[0mself\u001b[0m\u001b[0;34m.\u001b[0m\u001b[0mapply_str\u001b[0m\u001b[0;34m(\u001b[0m\u001b[0;34m)\u001b[0m\u001b[0;34m\u001b[0m\u001b[0;34m\u001b[0m\u001b[0m\n\u001b[1;32m   1042\u001b[0m \u001b[0;34m\u001b[0m\u001b[0m\n\u001b[0;32m-> 1043\u001b[0;31m         \u001b[0;32mreturn\u001b[0m \u001b[0mself\u001b[0m\u001b[0;34m.\u001b[0m\u001b[0mapply_standard\u001b[0m\u001b[0;34m(\u001b[0m\u001b[0;34m)\u001b[0m\u001b[0;34m\u001b[0m\u001b[0;34m\u001b[0m\u001b[0m\n\u001b[0m\u001b[1;32m   1044\u001b[0m \u001b[0;34m\u001b[0m\u001b[0m\n\u001b[1;32m   1045\u001b[0m     \u001b[0;32mdef\u001b[0m \u001b[0magg\u001b[0m\u001b[0;34m(\u001b[0m\u001b[0mself\u001b[0m\u001b[0;34m)\u001b[0m\u001b[0;34m:\u001b[0m\u001b[0;34m\u001b[0m\u001b[0;34m\u001b[0m\u001b[0m\n",
            "\u001b[0;32m/usr/local/lib/python3.8/dist-packages/pandas/core/apply.py\u001b[0m in \u001b[0;36mapply_standard\u001b[0;34m(self)\u001b[0m\n\u001b[1;32m   1096\u001b[0m                 \u001b[0;31m# List[Union[Callable[..., Any], str]]]]]\"; expected\u001b[0m\u001b[0;34m\u001b[0m\u001b[0;34m\u001b[0m\u001b[0;34m\u001b[0m\u001b[0m\n\u001b[1;32m   1097\u001b[0m                 \u001b[0;31m# \"Callable[[Any], Any]\"\u001b[0m\u001b[0;34m\u001b[0m\u001b[0;34m\u001b[0m\u001b[0;34m\u001b[0m\u001b[0m\n\u001b[0;32m-> 1098\u001b[0;31m                 mapped = lib.map_infer(\n\u001b[0m\u001b[1;32m   1099\u001b[0m                     \u001b[0mvalues\u001b[0m\u001b[0;34m,\u001b[0m\u001b[0;34m\u001b[0m\u001b[0;34m\u001b[0m\u001b[0m\n\u001b[1;32m   1100\u001b[0m                     \u001b[0mf\u001b[0m\u001b[0;34m,\u001b[0m  \u001b[0;31m# type: ignore[arg-type]\u001b[0m\u001b[0;34m\u001b[0m\u001b[0;34m\u001b[0m\u001b[0m\n",
            "\u001b[0;32m/usr/local/lib/python3.8/dist-packages/pandas/_libs/lib.pyx\u001b[0m in \u001b[0;36mpandas._libs.lib.map_infer\u001b[0;34m()\u001b[0m\n",
            "\u001b[0;32m<ipython-input-48-ae809e98c29d>\u001b[0m in \u001b[0;36m<lambda>\u001b[0;34m(x)\u001b[0m\n\u001b[1;32m      2\u001b[0m \u001b[0;31m# т.к. по столбцу нет пропусков, то попробуем применить\u001b[0m\u001b[0;34m\u001b[0m\u001b[0;34m\u001b[0m\u001b[0;34m\u001b[0m\u001b[0m\n\u001b[1;32m      3\u001b[0m \u001b[0;31m# анонимную lambda-функцию для записи наименования страны\u001b[0m\u001b[0;34m\u001b[0m\u001b[0;34m\u001b[0m\u001b[0;34m\u001b[0m\u001b[0m\n\u001b[0;32m----> 4\u001b[0;31m \u001b[0mdf_copy\u001b[0m\u001b[0;34m[\u001b[0m\u001b[0;34m'country'\u001b[0m\u001b[0;34m]\u001b[0m \u001b[0;34m=\u001b[0m \u001b[0mdf_copy\u001b[0m\u001b[0;34m[\u001b[0m\u001b[0;34m'country'\u001b[0m\u001b[0;34m]\u001b[0m\u001b[0;34m.\u001b[0m\u001b[0mapply\u001b[0m\u001b[0;34m(\u001b[0m\u001b[0;32mlambda\u001b[0m \u001b[0mx\u001b[0m\u001b[0;34m:\u001b[0m \u001b[0meval\u001b[0m\u001b[0;34m(\u001b[0m\u001b[0mx\u001b[0m\u001b[0;34m)\u001b[0m\u001b[0;34m[\u001b[0m\u001b[0;34m'title'\u001b[0m\u001b[0;34m]\u001b[0m\u001b[0;34m)\u001b[0m\u001b[0;34m\u001b[0m\u001b[0;34m\u001b[0m\u001b[0m\n\u001b[0m",
            "\u001b[0;31mKeyError\u001b[0m: 'title'"
          ]
        }
      ]
    },
    {
      "cell_type": "code",
      "source": [
        "# ошибка, связанная с тем, что по каким-то наблюдениям в словаре нет ключа 'title',\n",
        "# но по данному признаку может быть только два ключа - 'id' и 'title'\n",
        "# ищем проблемные значения с помощью конструкции обработки исключений try-except\n",
        "for item in df_copy.country:\n",
        "  try:\n",
        "    eval(item)['title']\n",
        "  except:\n",
        "    print(item)"
      ],
      "metadata": {
        "id": "SxppJ6n44WI7",
        "colab": {
          "base_uri": "https://localhost:8080/"
        },
        "outputId": "98a316ae-fd33-434b-ff95-a0fcaeb12709"
      },
      "execution_count": null,
      "outputs": [
        {
          "output_type": "stream",
          "name": "stdout",
          "text": [
            "{'platform': 4, 'time': 1658820057}\n",
            "{'platform': 2, 'time': 1662237422}\n",
            "{'platform': 4, 'time': 1662232523}\n",
            "{'platform': 4, 'time': 1661793146}\n"
          ]
        }
      ]
    },
    {
      "cell_type": "code",
      "source": [
        "# несоответствия по данному признаку, относящиеся к другому - 'last_seen'\n",
        "# посмотрим на эти наблюдения по всем признакам с помощью метода contains()\n",
        "# (str. производит принудительный перевод в строковое значение)\n",
        "df_copy[df_copy.country.str.contains('platform')]"
      ],
      "metadata": {
        "id": "RR2qnOxd5WX3",
        "colab": {
          "base_uri": "https://localhost:8080/",
          "height": 288
        },
        "outputId": "bb2be900-69ec-4764-ad03-7b9022bc7e0f"
      },
      "execution_count": null,
      "outputs": [
        {
          "output_type": "execute_result",
          "data": {
            "text/plain": [
              "             id       bdate    city                              country  \\\n",
              "3334  741237783    4.8.2005  Россия  {'platform': 4, 'time': 1658820057}   \n",
              "3335  741237784  30.11.2002  Россия  {'platform': 2, 'time': 1662237422}   \n",
              "3336  741237785    5.6.2008  Россия  {'platform': 4, 'time': 1662232523}   \n",
              "3337  741237786   24.7.1990  Россия  {'platform': 4, 'time': 1661793146}   \n",
              "\n",
              "     last_seen  followers_count  sex  \\\n",
              "3334       NaN              0.0    1   \n",
              "3335         0              0.0    0   \n",
              "3336         1              0.0    0   \n",
              "3337       NaN              0.0    1   \n",
              "\n",
              "                                                  costs games  \n",
              "3334                             [{'name': 'Fortnite'}]    no  \n",
              "3335  [{'name': 'PUBG'}, {'name': 'Hearthstone'}, {'...    no  \n",
              "3336                                 [{'name': 'FIFA'}]    no  \n",
              "3337  [{'name': 'StarCraft 2'}, {'name': 'Warface'},...    no  "
            ],
            "text/html": [
              "\n",
              "  <div id=\"df-ff693ede-217d-4d45-a7d1-7b36e40652c5\">\n",
              "    <div class=\"colab-df-container\">\n",
              "      <div>\n",
              "<style scoped>\n",
              "    .dataframe tbody tr th:only-of-type {\n",
              "        vertical-align: middle;\n",
              "    }\n",
              "\n",
              "    .dataframe tbody tr th {\n",
              "        vertical-align: top;\n",
              "    }\n",
              "\n",
              "    .dataframe thead th {\n",
              "        text-align: right;\n",
              "    }\n",
              "</style>\n",
              "<table border=\"1\" class=\"dataframe\">\n",
              "  <thead>\n",
              "    <tr style=\"text-align: right;\">\n",
              "      <th></th>\n",
              "      <th>id</th>\n",
              "      <th>bdate</th>\n",
              "      <th>city</th>\n",
              "      <th>country</th>\n",
              "      <th>last_seen</th>\n",
              "      <th>followers_count</th>\n",
              "      <th>sex</th>\n",
              "      <th>costs</th>\n",
              "      <th>games</th>\n",
              "    </tr>\n",
              "  </thead>\n",
              "  <tbody>\n",
              "    <tr>\n",
              "      <th>3334</th>\n",
              "      <td>741237783</td>\n",
              "      <td>4.8.2005</td>\n",
              "      <td>Россия</td>\n",
              "      <td>{'platform': 4, 'time': 1658820057}</td>\n",
              "      <td>NaN</td>\n",
              "      <td>0.0</td>\n",
              "      <td>1</td>\n",
              "      <td>[{'name': 'Fortnite'}]</td>\n",
              "      <td>no</td>\n",
              "    </tr>\n",
              "    <tr>\n",
              "      <th>3335</th>\n",
              "      <td>741237784</td>\n",
              "      <td>30.11.2002</td>\n",
              "      <td>Россия</td>\n",
              "      <td>{'platform': 2, 'time': 1662237422}</td>\n",
              "      <td>0</td>\n",
              "      <td>0.0</td>\n",
              "      <td>0</td>\n",
              "      <td>[{'name': 'PUBG'}, {'name': 'Hearthstone'}, {'...</td>\n",
              "      <td>no</td>\n",
              "    </tr>\n",
              "    <tr>\n",
              "      <th>3336</th>\n",
              "      <td>741237785</td>\n",
              "      <td>5.6.2008</td>\n",
              "      <td>Россия</td>\n",
              "      <td>{'platform': 4, 'time': 1662232523}</td>\n",
              "      <td>1</td>\n",
              "      <td>0.0</td>\n",
              "      <td>0</td>\n",
              "      <td>[{'name': 'FIFA'}]</td>\n",
              "      <td>no</td>\n",
              "    </tr>\n",
              "    <tr>\n",
              "      <th>3337</th>\n",
              "      <td>741237786</td>\n",
              "      <td>24.7.1990</td>\n",
              "      <td>Россия</td>\n",
              "      <td>{'platform': 4, 'time': 1661793146}</td>\n",
              "      <td>NaN</td>\n",
              "      <td>0.0</td>\n",
              "      <td>1</td>\n",
              "      <td>[{'name': 'StarCraft 2'}, {'name': 'Warface'},...</td>\n",
              "      <td>no</td>\n",
              "    </tr>\n",
              "  </tbody>\n",
              "</table>\n",
              "</div>\n",
              "      <button class=\"colab-df-convert\" onclick=\"convertToInteractive('df-ff693ede-217d-4d45-a7d1-7b36e40652c5')\"\n",
              "              title=\"Convert this dataframe to an interactive table.\"\n",
              "              style=\"display:none;\">\n",
              "        \n",
              "  <svg xmlns=\"http://www.w3.org/2000/svg\" height=\"24px\"viewBox=\"0 0 24 24\"\n",
              "       width=\"24px\">\n",
              "    <path d=\"M0 0h24v24H0V0z\" fill=\"none\"/>\n",
              "    <path d=\"M18.56 5.44l.94 2.06.94-2.06 2.06-.94-2.06-.94-.94-2.06-.94 2.06-2.06.94zm-11 1L8.5 8.5l.94-2.06 2.06-.94-2.06-.94L8.5 2.5l-.94 2.06-2.06.94zm10 10l.94 2.06.94-2.06 2.06-.94-2.06-.94-.94-2.06-.94 2.06-2.06.94z\"/><path d=\"M17.41 7.96l-1.37-1.37c-.4-.4-.92-.59-1.43-.59-.52 0-1.04.2-1.43.59L10.3 9.45l-7.72 7.72c-.78.78-.78 2.05 0 2.83L4 21.41c.39.39.9.59 1.41.59.51 0 1.02-.2 1.41-.59l7.78-7.78 2.81-2.81c.8-.78.8-2.07 0-2.86zM5.41 20L4 18.59l7.72-7.72 1.47 1.35L5.41 20z\"/>\n",
              "  </svg>\n",
              "      </button>\n",
              "      \n",
              "  <style>\n",
              "    .colab-df-container {\n",
              "      display:flex;\n",
              "      flex-wrap:wrap;\n",
              "      gap: 12px;\n",
              "    }\n",
              "\n",
              "    .colab-df-convert {\n",
              "      background-color: #E8F0FE;\n",
              "      border: none;\n",
              "      border-radius: 50%;\n",
              "      cursor: pointer;\n",
              "      display: none;\n",
              "      fill: #1967D2;\n",
              "      height: 32px;\n",
              "      padding: 0 0 0 0;\n",
              "      width: 32px;\n",
              "    }\n",
              "\n",
              "    .colab-df-convert:hover {\n",
              "      background-color: #E2EBFA;\n",
              "      box-shadow: 0px 1px 2px rgba(60, 64, 67, 0.3), 0px 1px 3px 1px rgba(60, 64, 67, 0.15);\n",
              "      fill: #174EA6;\n",
              "    }\n",
              "\n",
              "    [theme=dark] .colab-df-convert {\n",
              "      background-color: #3B4455;\n",
              "      fill: #D2E3FC;\n",
              "    }\n",
              "\n",
              "    [theme=dark] .colab-df-convert:hover {\n",
              "      background-color: #434B5C;\n",
              "      box-shadow: 0px 1px 3px 1px rgba(0, 0, 0, 0.15);\n",
              "      filter: drop-shadow(0px 1px 2px rgba(0, 0, 0, 0.3));\n",
              "      fill: #FFFFFF;\n",
              "    }\n",
              "  </style>\n",
              "\n",
              "      <script>\n",
              "        const buttonEl =\n",
              "          document.querySelector('#df-ff693ede-217d-4d45-a7d1-7b36e40652c5 button.colab-df-convert');\n",
              "        buttonEl.style.display =\n",
              "          google.colab.kernel.accessAllowed ? 'block' : 'none';\n",
              "\n",
              "        async function convertToInteractive(key) {\n",
              "          const element = document.querySelector('#df-ff693ede-217d-4d45-a7d1-7b36e40652c5');\n",
              "          const dataTable =\n",
              "            await google.colab.kernel.invokeFunction('convertToInteractive',\n",
              "                                                     [key], {});\n",
              "          if (!dataTable) return;\n",
              "\n",
              "          const docLinkHtml = 'Like what you see? Visit the ' +\n",
              "            '<a target=\"_blank\" href=https://colab.research.google.com/notebooks/data_table.ipynb>data table notebook</a>'\n",
              "            + ' to learn more about interactive tables.';\n",
              "          element.innerHTML = '';\n",
              "          dataTable['output_type'] = 'display_data';\n",
              "          await google.colab.output.renderOutput(dataTable, element);\n",
              "          const docLink = document.createElement('div');\n",
              "          docLink.innerHTML = docLinkHtml;\n",
              "          element.appendChild(docLink);\n",
              "        }\n",
              "      </script>\n",
              "    </div>\n",
              "  </div>\n",
              "  "
            ]
          },
          "metadata": {},
          "execution_count": 50
        }
      ]
    },
    {
      "cell_type": "code",
      "source": [
        "# видно, что значения сдвинулись по признакам\n",
        "# скорее всего, в какой-то момент произошла ошибка при записи данных\n",
        "# можно было бы попытаться восстановить значения, отдав их обратно специалисту по сбору данных,\n",
        "# однако таких значений всего 4 из общего числа наблюдений,\n",
        "# поэтому в данном случаем можно их исключить из датасета,\n",
        "# но проинформировать причастных об ошибке все же стоит\n",
        "\n",
        "df_copy.drop([3334, 3335, 3336, 3337],inplace=True)"
      ],
      "metadata": {
        "id": "sKVq6-gI57QS"
      },
      "execution_count": null,
      "outputs": []
    },
    {
      "cell_type": "code",
      "source": [
        "# снова применим функцию к столбцу\n",
        "df_copy['country'] = df_copy['country'].apply(lambda x: eval(x)['title'])"
      ],
      "metadata": {
        "id": "JgUs9PV97M7u"
      },
      "execution_count": null,
      "outputs": []
    },
    {
      "cell_type": "code",
      "source": [
        "# контроль результата\n",
        "df_copy.country"
      ],
      "metadata": {
        "id": "wbYn59fFv4eq",
        "colab": {
          "base_uri": "https://localhost:8080/"
        },
        "outputId": "bb80eccc-e62a-4bf7-a135-fa0e532faa39"
      },
      "execution_count": null,
      "outputs": [
        {
          "output_type": "execute_result",
          "data": {
            "text/plain": [
              "0       Россия\n",
              "1       Россия\n",
              "2       Россия\n",
              "3       Россия\n",
              "4       Россия\n",
              "         ...  \n",
              "3329    Россия\n",
              "3330    Россия\n",
              "3331    Россия\n",
              "3332    Россия\n",
              "3333    Россия\n",
              "Name: country, Length: 3334, dtype: object"
            ]
          },
          "metadata": {},
          "execution_count": 152
        }
      ]
    },
    {
      "cell_type": "code",
      "source": [
        "# данные записались корректно,\n",
        "# однако стоит также проверить их на корректность значений"
      ],
      "metadata": {
        "id": "phd2IhojwUlg"
      },
      "execution_count": null,
      "outputs": []
    },
    {
      "cell_type": "markdown",
      "source": [
        "## 'last_seen'"
      ],
      "metadata": {
        "id": "JOiTLL-DnfCr"
      }
    },
    {
      "cell_type": "code",
      "source": [
        "df_copy['last_seen'][0]"
      ],
      "metadata": {
        "colab": {
          "base_uri": "https://localhost:8080/",
          "height": 35
        },
        "id": "3Euzdc9OKEaM",
        "outputId": "c9554142-ac3f-4794-cc6f-bd2ff65dd315"
      },
      "execution_count": null,
      "outputs": [
        {
          "output_type": "execute_result",
          "data": {
            "text/plain": [
              "\"{'platform': 2, 'time': 1662237362}\""
            ],
            "application/vnd.google.colaboratory.intrinsic+json": {
              "type": "string"
            }
          },
          "metadata": {},
          "execution_count": 54
        }
      ]
    },
    {
      "cell_type": "code",
      "source": [
        "# данные содержат пустые значения\n",
        "# перепишем функцию, используемую при обработке признака 'city',\n",
        "# при этом не заменяя пропущенные значения другими\n",
        "def text_to_json_2(text):\n",
        "  if pd.isna(text):\n",
        "    result = np.nan\n",
        "  else:\n",
        "    result = json.loads(text.replace(\"'\", '\"'))['time']\n",
        "  return result"
      ],
      "metadata": {
        "id": "_wQ39BgOnkE-"
      },
      "execution_count": null,
      "outputs": []
    },
    {
      "cell_type": "code",
      "source": [
        "# применяем функцию к столбцу\n",
        "df_copy['last_seen'] = df_copy['last_seen'].apply(text_to_json_2)"
      ],
      "metadata": {
        "id": "7Z4MeTXKxTYf"
      },
      "execution_count": null,
      "outputs": []
    },
    {
      "cell_type": "code",
      "source": [
        "# контроль результата\n",
        "df_copy.last_seen"
      ],
      "metadata": {
        "id": "vusiLojNxjrR",
        "colab": {
          "base_uri": "https://localhost:8080/"
        },
        "outputId": "9666ab88-d649-4f3b-a259-a29363c47484"
      },
      "execution_count": null,
      "outputs": [
        {
          "output_type": "execute_result",
          "data": {
            "text/plain": [
              "0       1.662237e+09\n",
              "1       1.661322e+09\n",
              "2       1.662203e+09\n",
              "3       1.613708e+09\n",
              "4       1.619551e+09\n",
              "            ...     \n",
              "3329    1.662186e+09\n",
              "3330    1.658820e+09\n",
              "3331    1.662237e+09\n",
              "3332    1.662233e+09\n",
              "3333    1.661793e+09\n",
              "Name: last_seen, Length: 3334, dtype: float64"
            ]
          },
          "metadata": {},
          "execution_count": 57
        }
      ]
    },
    {
      "cell_type": "code",
      "source": [
        "# данные в формате float64, при этом большой размерности,\n",
        "# поэтому отображаются неудобно"
      ],
      "metadata": {
        "id": "TQToBBFc7Khs"
      },
      "execution_count": null,
      "outputs": []
    },
    {
      "cell_type": "code",
      "source": [
        "# один из способов форматирования\n",
        "# (число с плавающей точкой отобразим без указания знаков после запятой)\n",
        "# (пример для перевода числа в проценты с двумя знаками после запятой - .apply(\"{0:.2%}\".format))\n",
        "# (если необходимо применить форматирование ко всей таблице, то используется метод .applymap())\n",
        "df_copy.last_seen.apply(\"{0:.0f}\".format)"
      ],
      "metadata": {
        "id": "H65920Ma63_0",
        "colab": {
          "base_uri": "https://localhost:8080/"
        },
        "outputId": "6675111b-676c-4027-81f4-5cd2892fb168"
      },
      "execution_count": null,
      "outputs": [
        {
          "output_type": "execute_result",
          "data": {
            "text/plain": [
              "0       1662237362\n",
              "1       1661321803\n",
              "2       1662202619\n",
              "3       1613708136\n",
              "4       1619550770\n",
              "           ...    \n",
              "3329    1662185768\n",
              "3330    1658820057\n",
              "3331    1662237422\n",
              "3332    1662232523\n",
              "3333    1661793146\n",
              "Name: last_seen, Length: 3334, dtype: object"
            ]
          },
          "metadata": {},
          "execution_count": 58
        }
      ]
    },
    {
      "cell_type": "code",
      "source": [
        "# на самом деле, время указано в формате Unix time\n",
        "# приведем данные в формат даты и времени в одной из следующих тем"
      ],
      "metadata": {
        "id": "CLD_Qbgaxtr7"
      },
      "execution_count": null,
      "outputs": []
    },
    {
      "cell_type": "markdown",
      "source": [
        "## 'costs'"
      ],
      "metadata": {
        "id": "git9dmsrnkmL"
      }
    },
    {
      "cell_type": "code",
      "source": [
        "# обработаем данные альтернативным способом - через обработку текста\n",
        "\n",
        "# необходимо записать данные и о сумме затрат, и о валюте в отдельные столбцы"
      ],
      "metadata": {
        "id": "K5ljZbwO84iM"
      },
      "execution_count": null,
      "outputs": []
    },
    {
      "cell_type": "code",
      "source": [
        "# данные не содержат пустые значения,\n",
        "# поэтому проверку на пропуски можно опустить"
      ],
      "metadata": {
        "id": "-VOA4ZGNnnfi"
      },
      "execution_count": null,
      "outputs": []
    },
    {
      "cell_type": "code",
      "source": [
        "# демонстрация этапов обработки на одном значении\n",
        "costs = df_copy['costs'][0]\n",
        "costs"
      ],
      "metadata": {
        "id": "1uMtefGk9nkP",
        "colab": {
          "base_uri": "https://localhost:8080/",
          "height": 35
        },
        "outputId": "5744c575-357f-4a38-831f-cbe4c5cdc403"
      },
      "execution_count": null,
      "outputs": [
        {
          "output_type": "execute_result",
          "data": {
            "text/plain": [
              "\"{'costs': 25000, 'currency': 'RUR'}\""
            ],
            "application/vnd.google.colaboratory.intrinsic+json": {
              "type": "string"
            }
          },
          "metadata": {},
          "execution_count": 59
        }
      ]
    },
    {
      "cell_type": "code",
      "source": [
        "# удаление лишних символов с помощью метода .replace()\n",
        "costs_1 = costs.replace(\"'\", \"\").replace(\"{\", \"\").replace(\"}\", \"\"). replace(\":\", \"\")\n",
        "costs_1"
      ],
      "metadata": {
        "id": "dBU8km2z-MZX",
        "colab": {
          "base_uri": "https://localhost:8080/",
          "height": 35
        },
        "outputId": "f73c4daa-716e-462b-f853-8a7b029ffe60"
      },
      "execution_count": null,
      "outputs": [
        {
          "output_type": "execute_result",
          "data": {
            "text/plain": [
              "'costs 25000, currency RUR'"
            ],
            "application/vnd.google.colaboratory.intrinsic+json": {
              "type": "string"
            }
          },
          "metadata": {},
          "execution_count": 60
        }
      ]
    },
    {
      "cell_type": "code",
      "source": [
        "# выделение затрат и валюты в отдельные сущности - элементы списка с помощью метода split()\n",
        "# (в качестве разделителя указываем запятую)\n",
        "costs_2 = costs_1.split(\",\")\n",
        "costs_2"
      ],
      "metadata": {
        "id": "90CKWUwt-sWh",
        "colab": {
          "base_uri": "https://localhost:8080/"
        },
        "outputId": "2a3483d7-3b6f-4550-dc85-71f27ee81481"
      },
      "execution_count": null,
      "outputs": [
        {
          "output_type": "execute_result",
          "data": {
            "text/plain": [
              "['costs 25000', ' currency RUR']"
            ]
          },
          "metadata": {},
          "execution_count": 61
        }
      ]
    },
    {
      "cell_type": "code",
      "source": [
        "# теперь можно работать с каждой сущностью отдельно\n",
        "# costs - первый элемент списка costs_2[0]\n",
        "# currency - второй элемент списка costs_2[1]\n",
        "print(costs_2[0])\n",
        "print(costs_2[1])"
      ],
      "metadata": {
        "id": "QRgNULJG_9lC",
        "colab": {
          "base_uri": "https://localhost:8080/"
        },
        "outputId": "2f920649-1199-4289-bef1-364160f85f26"
      },
      "execution_count": null,
      "outputs": [
        {
          "output_type": "stream",
          "name": "stdout",
          "text": [
            "costs 25000\n",
            " currency RUR\n"
          ]
        }
      ]
    },
    {
      "cell_type": "code",
      "source": [
        "# выделим саму цифру затрат также с помощью метода split()\n",
        "# (в качестве разделителя - пробел, его можно не указывать, т.к. это значение по умолчанию)\n",
        "# (необходимый элемент списка - с индексом [1])\n",
        "costs_2[0].split()[1]"
      ],
      "metadata": {
        "id": "CNguUFY_AkeK",
        "colab": {
          "base_uri": "https://localhost:8080/",
          "height": 35
        },
        "outputId": "5ba13790-9842-447f-b1d3-19beefc55b65"
      },
      "execution_count": null,
      "outputs": [
        {
          "output_type": "execute_result",
          "data": {
            "text/plain": [
              "'25000'"
            ],
            "application/vnd.google.colaboratory.intrinsic+json": {
              "type": "string"
            }
          },
          "metadata": {},
          "execution_count": 63
        }
      ]
    },
    {
      "cell_type": "code",
      "source": [
        "# выделим валюту также с помощью метода split()\n",
        "# (в качестве разделителя - пробел, его можно не указывать, т.к. это значение по умолчанию)\n",
        "# (необходимый элемент списка - с индексом [1])\n",
        "costs_2[1].split()[1]"
      ],
      "metadata": {
        "id": "3k7YsivMBMC0",
        "colab": {
          "base_uri": "https://localhost:8080/",
          "height": 35
        },
        "outputId": "8a9272e1-c5ea-4851-e4f3-859a80a091f7"
      },
      "execution_count": null,
      "outputs": [
        {
          "output_type": "execute_result",
          "data": {
            "text/plain": [
              "'RUR'"
            ],
            "application/vnd.google.colaboratory.intrinsic+json": {
              "type": "string"
            }
          },
          "metadata": {},
          "execution_count": 64
        }
      ]
    },
    {
      "cell_type": "code",
      "source": [
        "# часто бывает, что необходимо избавиться от лишних пробелов в начале или в конце строки\n",
        "# для этой задачи применяется метод strip()\n",
        "# например, вычленим слово \"currency\" из примера выше (слева имеется один лишний пробел)\n",
        "costs_2[1].split()[0].strip()"
      ],
      "metadata": {
        "id": "LsI-S8UEBUbq",
        "colab": {
          "base_uri": "https://localhost:8080/",
          "height": 35
        },
        "outputId": "e20bc4ed-a808-4037-e1d7-5679df49794d"
      },
      "execution_count": null,
      "outputs": [
        {
          "output_type": "execute_result",
          "data": {
            "text/plain": [
              "'currency'"
            ],
            "application/vnd.google.colaboratory.intrinsic+json": {
              "type": "string"
            }
          },
          "metadata": {},
          "execution_count": 65
        }
      ]
    },
    {
      "cell_type": "code",
      "source": [
        "# объединение кода в функции для каждой сущности\n",
        "# (следует добавлять в функции проверку на пропуски и их обработку, а также обработку исключений)\n",
        "\n",
        "def costs_func(costs_currency):\n",
        "  costs = (costs_currency.replace(\"'\", \"\").replace(\"{\", \"\").replace(\"}\", \"\"). replace(\":\", \"\")\n",
        "                         .split(\",\")[0]\n",
        "                         .split()[1]\n",
        "                         )\n",
        "  return costs\n",
        "\n",
        "\n",
        "def currency_func(costs_currency):\n",
        "  currency = (costs_currency.replace(\"'\", \"\").replace(\"{\", \"\").replace(\"}\", \"\"). replace(\":\", \"\")\n",
        "                         .split(\",\")[1]\n",
        "                         .split()[1]\n",
        "                         )\n",
        "  return currency"
      ],
      "metadata": {
        "id": "QJ9inB8GB3eL"
      },
      "execution_count": null,
      "outputs": []
    },
    {
      "cell_type": "code",
      "source": [
        "# проверка работоспособности функций на одном значении\n",
        "print(df_copy.costs[10])\n",
        "print(costs_func(df_copy.costs[10]))\n",
        "print(currency_func(df_copy.costs[10]))"
      ],
      "metadata": {
        "id": "YcneaFMrCz4S",
        "colab": {
          "base_uri": "https://localhost:8080/"
        },
        "outputId": "8b6d5204-d9ea-4eb5-eaae-99626231b65e"
      },
      "execution_count": null,
      "outputs": [
        {
          "output_type": "stream",
          "name": "stdout",
          "text": [
            "{'costs': 25000, 'currency': 'RUR'}\n",
            "25000\n",
            "RUR\n"
          ]
        }
      ]
    },
    {
      "cell_type": "code",
      "source": [
        "# применим функции ко всему столбцу, при этом создав для каждого признака отдельный столбец\n",
        "df_copy['costs_sum'] = df_copy['costs'].apply(costs_func)\n",
        "df_copy['currency'] = df_copy['costs'].apply(currency_func)"
      ],
      "metadata": {
        "id": "k1VpMXjX9jCQ"
      },
      "execution_count": null,
      "outputs": []
    },
    {
      "cell_type": "code",
      "source": [
        "# контроль результата\n",
        "df_copy[['costs_sum', 'currency']]"
      ],
      "metadata": {
        "id": "wasIOKKqzazG",
        "colab": {
          "base_uri": "https://localhost:8080/",
          "height": 424
        },
        "outputId": "5ff843bd-4667-4f8d-c256-524c92bee1ec"
      },
      "execution_count": null,
      "outputs": [
        {
          "output_type": "execute_result",
          "data": {
            "text/plain": [
              "     costs_sum currency\n",
              "0        25000      RUR\n",
              "1        50000      RUR\n",
              "2        75000      RUR\n",
              "3       100000      RUR\n",
              "4       100000      RUR\n",
              "...        ...      ...\n",
              "3329     50000      RUR\n",
              "3330     50000      RUR\n",
              "3331     50000      RUR\n",
              "3332     25000      RUR\n",
              "3333     25000      RUR\n",
              "\n",
              "[3334 rows x 2 columns]"
            ],
            "text/html": [
              "\n",
              "  <div id=\"df-92a5ef06-532f-4ec9-a296-958eaa6c560d\">\n",
              "    <div class=\"colab-df-container\">\n",
              "      <div>\n",
              "<style scoped>\n",
              "    .dataframe tbody tr th:only-of-type {\n",
              "        vertical-align: middle;\n",
              "    }\n",
              "\n",
              "    .dataframe tbody tr th {\n",
              "        vertical-align: top;\n",
              "    }\n",
              "\n",
              "    .dataframe thead th {\n",
              "        text-align: right;\n",
              "    }\n",
              "</style>\n",
              "<table border=\"1\" class=\"dataframe\">\n",
              "  <thead>\n",
              "    <tr style=\"text-align: right;\">\n",
              "      <th></th>\n",
              "      <th>costs_sum</th>\n",
              "      <th>currency</th>\n",
              "    </tr>\n",
              "  </thead>\n",
              "  <tbody>\n",
              "    <tr>\n",
              "      <th>0</th>\n",
              "      <td>25000</td>\n",
              "      <td>RUR</td>\n",
              "    </tr>\n",
              "    <tr>\n",
              "      <th>1</th>\n",
              "      <td>50000</td>\n",
              "      <td>RUR</td>\n",
              "    </tr>\n",
              "    <tr>\n",
              "      <th>2</th>\n",
              "      <td>75000</td>\n",
              "      <td>RUR</td>\n",
              "    </tr>\n",
              "    <tr>\n",
              "      <th>3</th>\n",
              "      <td>100000</td>\n",
              "      <td>RUR</td>\n",
              "    </tr>\n",
              "    <tr>\n",
              "      <th>4</th>\n",
              "      <td>100000</td>\n",
              "      <td>RUR</td>\n",
              "    </tr>\n",
              "    <tr>\n",
              "      <th>...</th>\n",
              "      <td>...</td>\n",
              "      <td>...</td>\n",
              "    </tr>\n",
              "    <tr>\n",
              "      <th>3329</th>\n",
              "      <td>50000</td>\n",
              "      <td>RUR</td>\n",
              "    </tr>\n",
              "    <tr>\n",
              "      <th>3330</th>\n",
              "      <td>50000</td>\n",
              "      <td>RUR</td>\n",
              "    </tr>\n",
              "    <tr>\n",
              "      <th>3331</th>\n",
              "      <td>50000</td>\n",
              "      <td>RUR</td>\n",
              "    </tr>\n",
              "    <tr>\n",
              "      <th>3332</th>\n",
              "      <td>25000</td>\n",
              "      <td>RUR</td>\n",
              "    </tr>\n",
              "    <tr>\n",
              "      <th>3333</th>\n",
              "      <td>25000</td>\n",
              "      <td>RUR</td>\n",
              "    </tr>\n",
              "  </tbody>\n",
              "</table>\n",
              "<p>3334 rows × 2 columns</p>\n",
              "</div>\n",
              "      <button class=\"colab-df-convert\" onclick=\"convertToInteractive('df-92a5ef06-532f-4ec9-a296-958eaa6c560d')\"\n",
              "              title=\"Convert this dataframe to an interactive table.\"\n",
              "              style=\"display:none;\">\n",
              "        \n",
              "  <svg xmlns=\"http://www.w3.org/2000/svg\" height=\"24px\"viewBox=\"0 0 24 24\"\n",
              "       width=\"24px\">\n",
              "    <path d=\"M0 0h24v24H0V0z\" fill=\"none\"/>\n",
              "    <path d=\"M18.56 5.44l.94 2.06.94-2.06 2.06-.94-2.06-.94-.94-2.06-.94 2.06-2.06.94zm-11 1L8.5 8.5l.94-2.06 2.06-.94-2.06-.94L8.5 2.5l-.94 2.06-2.06.94zm10 10l.94 2.06.94-2.06 2.06-.94-2.06-.94-.94-2.06-.94 2.06-2.06.94z\"/><path d=\"M17.41 7.96l-1.37-1.37c-.4-.4-.92-.59-1.43-.59-.52 0-1.04.2-1.43.59L10.3 9.45l-7.72 7.72c-.78.78-.78 2.05 0 2.83L4 21.41c.39.39.9.59 1.41.59.51 0 1.02-.2 1.41-.59l7.78-7.78 2.81-2.81c.8-.78.8-2.07 0-2.86zM5.41 20L4 18.59l7.72-7.72 1.47 1.35L5.41 20z\"/>\n",
              "  </svg>\n",
              "      </button>\n",
              "      \n",
              "  <style>\n",
              "    .colab-df-container {\n",
              "      display:flex;\n",
              "      flex-wrap:wrap;\n",
              "      gap: 12px;\n",
              "    }\n",
              "\n",
              "    .colab-df-convert {\n",
              "      background-color: #E8F0FE;\n",
              "      border: none;\n",
              "      border-radius: 50%;\n",
              "      cursor: pointer;\n",
              "      display: none;\n",
              "      fill: #1967D2;\n",
              "      height: 32px;\n",
              "      padding: 0 0 0 0;\n",
              "      width: 32px;\n",
              "    }\n",
              "\n",
              "    .colab-df-convert:hover {\n",
              "      background-color: #E2EBFA;\n",
              "      box-shadow: 0px 1px 2px rgba(60, 64, 67, 0.3), 0px 1px 3px 1px rgba(60, 64, 67, 0.15);\n",
              "      fill: #174EA6;\n",
              "    }\n",
              "\n",
              "    [theme=dark] .colab-df-convert {\n",
              "      background-color: #3B4455;\n",
              "      fill: #D2E3FC;\n",
              "    }\n",
              "\n",
              "    [theme=dark] .colab-df-convert:hover {\n",
              "      background-color: #434B5C;\n",
              "      box-shadow: 0px 1px 3px 1px rgba(0, 0, 0, 0.15);\n",
              "      filter: drop-shadow(0px 1px 2px rgba(0, 0, 0, 0.3));\n",
              "      fill: #FFFFFF;\n",
              "    }\n",
              "  </style>\n",
              "\n",
              "      <script>\n",
              "        const buttonEl =\n",
              "          document.querySelector('#df-92a5ef06-532f-4ec9-a296-958eaa6c560d button.colab-df-convert');\n",
              "        buttonEl.style.display =\n",
              "          google.colab.kernel.accessAllowed ? 'block' : 'none';\n",
              "\n",
              "        async function convertToInteractive(key) {\n",
              "          const element = document.querySelector('#df-92a5ef06-532f-4ec9-a296-958eaa6c560d');\n",
              "          const dataTable =\n",
              "            await google.colab.kernel.invokeFunction('convertToInteractive',\n",
              "                                                     [key], {});\n",
              "          if (!dataTable) return;\n",
              "\n",
              "          const docLinkHtml = 'Like what you see? Visit the ' +\n",
              "            '<a target=\"_blank\" href=https://colab.research.google.com/notebooks/data_table.ipynb>data table notebook</a>'\n",
              "            + ' to learn more about interactive tables.';\n",
              "          element.innerHTML = '';\n",
              "          dataTable['output_type'] = 'display_data';\n",
              "          await google.colab.output.renderOutput(dataTable, element);\n",
              "          const docLink = document.createElement('div');\n",
              "          docLink.innerHTML = docLinkHtml;\n",
              "          element.appendChild(docLink);\n",
              "        }\n",
              "      </script>\n",
              "    </div>\n",
              "  </div>\n",
              "  "
            ]
          },
          "metadata": {},
          "execution_count": 69
        }
      ]
    },
    {
      "cell_type": "code",
      "source": [
        "# исключим исходный столбец costs\n",
        "df_copy.drop(columns='costs', inplace=True)"
      ],
      "metadata": {
        "id": "WS5dQC3Jzx1y"
      },
      "execution_count": null,
      "outputs": []
    },
    {
      "cell_type": "code",
      "source": [
        "# переименуем столбец costs_sum в costs\n",
        "df_copy.rename(columns={'costs_sum': 'costs'}, inplace=True)"
      ],
      "metadata": {
        "id": "7RzlPz1E0Bjv"
      },
      "execution_count": null,
      "outputs": []
    },
    {
      "cell_type": "code",
      "source": [
        "# контроль результата\n",
        "df_copy.columns"
      ],
      "metadata": {
        "id": "gpY-g2Ew0VCM",
        "colab": {
          "base_uri": "https://localhost:8080/"
        },
        "outputId": "54083c0a-f7da-4bd1-8a5e-5a6eaa989c02"
      },
      "execution_count": null,
      "outputs": [
        {
          "output_type": "execute_result",
          "data": {
            "text/plain": [
              "Index(['id', 'bdate', 'city', 'country', 'last_seen', 'followers_count', 'sex',\n",
              "       'games', 'costs', 'currency'],\n",
              "      dtype='object')"
            ]
          },
          "metadata": {},
          "execution_count": 72
        }
      ]
    },
    {
      "cell_type": "code",
      "source": [
        "# контроль результата\n",
        "df_copy[['costs', 'currency']]"
      ],
      "metadata": {
        "id": "Wpi7i3cf0cFe",
        "colab": {
          "base_uri": "https://localhost:8080/",
          "height": 424
        },
        "outputId": "a5734177-ee0e-42d8-a58e-9dd6dfba6474"
      },
      "execution_count": null,
      "outputs": [
        {
          "output_type": "execute_result",
          "data": {
            "text/plain": [
              "       costs currency\n",
              "0      25000      RUR\n",
              "1      50000      RUR\n",
              "2      75000      RUR\n",
              "3     100000      RUR\n",
              "4     100000      RUR\n",
              "...      ...      ...\n",
              "3329   50000      RUR\n",
              "3330   50000      RUR\n",
              "3331   50000      RUR\n",
              "3332   25000      RUR\n",
              "3333   25000      RUR\n",
              "\n",
              "[3334 rows x 2 columns]"
            ],
            "text/html": [
              "\n",
              "  <div id=\"df-9f7faf14-24a0-4531-9749-d8fe1978a07b\">\n",
              "    <div class=\"colab-df-container\">\n",
              "      <div>\n",
              "<style scoped>\n",
              "    .dataframe tbody tr th:only-of-type {\n",
              "        vertical-align: middle;\n",
              "    }\n",
              "\n",
              "    .dataframe tbody tr th {\n",
              "        vertical-align: top;\n",
              "    }\n",
              "\n",
              "    .dataframe thead th {\n",
              "        text-align: right;\n",
              "    }\n",
              "</style>\n",
              "<table border=\"1\" class=\"dataframe\">\n",
              "  <thead>\n",
              "    <tr style=\"text-align: right;\">\n",
              "      <th></th>\n",
              "      <th>costs</th>\n",
              "      <th>currency</th>\n",
              "    </tr>\n",
              "  </thead>\n",
              "  <tbody>\n",
              "    <tr>\n",
              "      <th>0</th>\n",
              "      <td>25000</td>\n",
              "      <td>RUR</td>\n",
              "    </tr>\n",
              "    <tr>\n",
              "      <th>1</th>\n",
              "      <td>50000</td>\n",
              "      <td>RUR</td>\n",
              "    </tr>\n",
              "    <tr>\n",
              "      <th>2</th>\n",
              "      <td>75000</td>\n",
              "      <td>RUR</td>\n",
              "    </tr>\n",
              "    <tr>\n",
              "      <th>3</th>\n",
              "      <td>100000</td>\n",
              "      <td>RUR</td>\n",
              "    </tr>\n",
              "    <tr>\n",
              "      <th>4</th>\n",
              "      <td>100000</td>\n",
              "      <td>RUR</td>\n",
              "    </tr>\n",
              "    <tr>\n",
              "      <th>...</th>\n",
              "      <td>...</td>\n",
              "      <td>...</td>\n",
              "    </tr>\n",
              "    <tr>\n",
              "      <th>3329</th>\n",
              "      <td>50000</td>\n",
              "      <td>RUR</td>\n",
              "    </tr>\n",
              "    <tr>\n",
              "      <th>3330</th>\n",
              "      <td>50000</td>\n",
              "      <td>RUR</td>\n",
              "    </tr>\n",
              "    <tr>\n",
              "      <th>3331</th>\n",
              "      <td>50000</td>\n",
              "      <td>RUR</td>\n",
              "    </tr>\n",
              "    <tr>\n",
              "      <th>3332</th>\n",
              "      <td>25000</td>\n",
              "      <td>RUR</td>\n",
              "    </tr>\n",
              "    <tr>\n",
              "      <th>3333</th>\n",
              "      <td>25000</td>\n",
              "      <td>RUR</td>\n",
              "    </tr>\n",
              "  </tbody>\n",
              "</table>\n",
              "<p>3334 rows × 2 columns</p>\n",
              "</div>\n",
              "      <button class=\"colab-df-convert\" onclick=\"convertToInteractive('df-9f7faf14-24a0-4531-9749-d8fe1978a07b')\"\n",
              "              title=\"Convert this dataframe to an interactive table.\"\n",
              "              style=\"display:none;\">\n",
              "        \n",
              "  <svg xmlns=\"http://www.w3.org/2000/svg\" height=\"24px\"viewBox=\"0 0 24 24\"\n",
              "       width=\"24px\">\n",
              "    <path d=\"M0 0h24v24H0V0z\" fill=\"none\"/>\n",
              "    <path d=\"M18.56 5.44l.94 2.06.94-2.06 2.06-.94-2.06-.94-.94-2.06-.94 2.06-2.06.94zm-11 1L8.5 8.5l.94-2.06 2.06-.94-2.06-.94L8.5 2.5l-.94 2.06-2.06.94zm10 10l.94 2.06.94-2.06 2.06-.94-2.06-.94-.94-2.06-.94 2.06-2.06.94z\"/><path d=\"M17.41 7.96l-1.37-1.37c-.4-.4-.92-.59-1.43-.59-.52 0-1.04.2-1.43.59L10.3 9.45l-7.72 7.72c-.78.78-.78 2.05 0 2.83L4 21.41c.39.39.9.59 1.41.59.51 0 1.02-.2 1.41-.59l7.78-7.78 2.81-2.81c.8-.78.8-2.07 0-2.86zM5.41 20L4 18.59l7.72-7.72 1.47 1.35L5.41 20z\"/>\n",
              "  </svg>\n",
              "      </button>\n",
              "      \n",
              "  <style>\n",
              "    .colab-df-container {\n",
              "      display:flex;\n",
              "      flex-wrap:wrap;\n",
              "      gap: 12px;\n",
              "    }\n",
              "\n",
              "    .colab-df-convert {\n",
              "      background-color: #E8F0FE;\n",
              "      border: none;\n",
              "      border-radius: 50%;\n",
              "      cursor: pointer;\n",
              "      display: none;\n",
              "      fill: #1967D2;\n",
              "      height: 32px;\n",
              "      padding: 0 0 0 0;\n",
              "      width: 32px;\n",
              "    }\n",
              "\n",
              "    .colab-df-convert:hover {\n",
              "      background-color: #E2EBFA;\n",
              "      box-shadow: 0px 1px 2px rgba(60, 64, 67, 0.3), 0px 1px 3px 1px rgba(60, 64, 67, 0.15);\n",
              "      fill: #174EA6;\n",
              "    }\n",
              "\n",
              "    [theme=dark] .colab-df-convert {\n",
              "      background-color: #3B4455;\n",
              "      fill: #D2E3FC;\n",
              "    }\n",
              "\n",
              "    [theme=dark] .colab-df-convert:hover {\n",
              "      background-color: #434B5C;\n",
              "      box-shadow: 0px 1px 3px 1px rgba(0, 0, 0, 0.15);\n",
              "      filter: drop-shadow(0px 1px 2px rgba(0, 0, 0, 0.3));\n",
              "      fill: #FFFFFF;\n",
              "    }\n",
              "  </style>\n",
              "\n",
              "      <script>\n",
              "        const buttonEl =\n",
              "          document.querySelector('#df-9f7faf14-24a0-4531-9749-d8fe1978a07b button.colab-df-convert');\n",
              "        buttonEl.style.display =\n",
              "          google.colab.kernel.accessAllowed ? 'block' : 'none';\n",
              "\n",
              "        async function convertToInteractive(key) {\n",
              "          const element = document.querySelector('#df-9f7faf14-24a0-4531-9749-d8fe1978a07b');\n",
              "          const dataTable =\n",
              "            await google.colab.kernel.invokeFunction('convertToInteractive',\n",
              "                                                     [key], {});\n",
              "          if (!dataTable) return;\n",
              "\n",
              "          const docLinkHtml = 'Like what you see? Visit the ' +\n",
              "            '<a target=\"_blank\" href=https://colab.research.google.com/notebooks/data_table.ipynb>data table notebook</a>'\n",
              "            + ' to learn more about interactive tables.';\n",
              "          element.innerHTML = '';\n",
              "          dataTable['output_type'] = 'display_data';\n",
              "          await google.colab.output.renderOutput(dataTable, element);\n",
              "          const docLink = document.createElement('div');\n",
              "          docLink.innerHTML = docLinkHtml;\n",
              "          element.appendChild(docLink);\n",
              "        }\n",
              "      </script>\n",
              "    </div>\n",
              "  </div>\n",
              "  "
            ]
          },
          "metadata": {},
          "execution_count": 73
        }
      ]
    },
    {
      "cell_type": "code",
      "source": [
        "# данные содержат информацию о валюте,\n",
        "# поэтому стоит проверить столец 'currency' на наличие разных валют\n",
        "# и для соизмеримости добавить дополнительный столбец с приведенными к единой валюте значениями\n",
        "# в одной из следующих тем"
      ],
      "metadata": {
        "id": "AWOHf5qN0kQw"
      },
      "execution_count": null,
      "outputs": []
    },
    {
      "cell_type": "markdown",
      "source": [
        "## 'games'"
      ],
      "metadata": {
        "id": "Xxlidu5snoCx"
      }
    },
    {
      "cell_type": "code",
      "source": [
        "# преобразуем данные столбца games в списки игр\n",
        "df_copy.games"
      ],
      "metadata": {
        "id": "4v-20GoenrVy",
        "colab": {
          "base_uri": "https://localhost:8080/"
        },
        "outputId": "4c63e95d-5174-4d88-a843-396ff2d8fc12"
      },
      "execution_count": null,
      "outputs": [
        {
          "output_type": "execute_result",
          "data": {
            "text/plain": [
              "0       [{'name': 'Dota 2'}, {'name': 'CS:GO'}, {'name...\n",
              "1       [{'name': 'League of Legends'}, {'name': 'Valo...\n",
              "2                                  [{'name': 'Fortnite'}]\n",
              "3       [{'name': 'PUBG'}, {'name': 'Hearthstone'}, {'...\n",
              "4                                      [{'name': 'FIFA'}]\n",
              "                              ...                        \n",
              "3329    [{'name': 'PUBG'}, {'name': 'Hearthstone'}, {'...\n",
              "3330    [{'name': 'PUBG'}, {'name': 'Hearthstone'}, {'...\n",
              "3331                                  [{'name': 'CS:GO'}]\n",
              "3332                                  [{'name': 'CS:GO'}]\n",
              "3333                                  [{'name': 'CS:GO'}]\n",
              "Name: games, Length: 3334, dtype: object"
            ]
          },
          "metadata": {},
          "execution_count": 74
        }
      ]
    },
    {
      "cell_type": "code",
      "source": [
        "# данные не содержат пустые значения,\n",
        "# поэтому проверку на пропуски можно опустить"
      ],
      "metadata": {
        "id": "BGCh2WrZGDhT"
      },
      "execution_count": null,
      "outputs": []
    },
    {
      "cell_type": "code",
      "source": [
        "# демонстрация этапов обработки на одном значении\n",
        "games = df_copy.games[0]\n",
        "games"
      ],
      "metadata": {
        "id": "SRhorqj2GUHe",
        "colab": {
          "base_uri": "https://localhost:8080/",
          "height": 35
        },
        "outputId": "2b000a94-96c8-410e-ff0d-bd6bfac50dc8"
      },
      "execution_count": null,
      "outputs": [
        {
          "output_type": "execute_result",
          "data": {
            "text/plain": [
              "\"[{'name': 'Dota 2'}, {'name': 'CS:GO'}, {'name': 'Warcraft III'}]\""
            ],
            "application/vnd.google.colaboratory.intrinsic+json": {
              "type": "string"
            }
          },
          "metadata": {},
          "execution_count": 75
        }
      ]
    },
    {
      "cell_type": "code",
      "source": [
        "# используем функцию eval(), чтобы преобразовать строковое значение в список\n",
        "games_1 = eval(games)\n",
        "games_1"
      ],
      "metadata": {
        "id": "2be38eGeGYjR",
        "colab": {
          "base_uri": "https://localhost:8080/"
        },
        "outputId": "48c2099b-87a4-4858-868f-477f6d053955"
      },
      "execution_count": null,
      "outputs": [
        {
          "output_type": "execute_result",
          "data": {
            "text/plain": [
              "[{'name': 'Dota 2'}, {'name': 'CS:GO'}, {'name': 'Warcraft III'}]"
            ]
          },
          "metadata": {},
          "execution_count": 76
        }
      ]
    },
    {
      "cell_type": "code",
      "source": [
        "# необходимо создать список, в который будут записаны наименования игр\n",
        "# в цикле for необходимо пройтись по элементам списка, достать значения словарей\n",
        "# и записать их в список с помощью метода append()\n",
        "res = []\n",
        "for game in games_1:\n",
        "  game_clean = game['name']\n",
        "  res.append(game_clean)\n",
        "\n",
        "res"
      ],
      "metadata": {
        "id": "HfY4fbx8HdkK",
        "colab": {
          "base_uri": "https://localhost:8080/"
        },
        "outputId": "11ab9d36-4814-4f47-dd96-a0000b85271f"
      },
      "execution_count": null,
      "outputs": [
        {
          "output_type": "execute_result",
          "data": {
            "text/plain": [
              "['Dota 2', 'CS:GO', 'Warcraft III']"
            ]
          },
          "metadata": {},
          "execution_count": 77
        }
      ]
    },
    {
      "cell_type": "code",
      "source": [
        "# объединение кода в функцию\n",
        "# (следует добавить в функцию проверку на пропуски и их обработку, а также обработку исключений)\n",
        "\n",
        "def games_func(games):\n",
        "  res = []\n",
        "  for game in eval(games):\n",
        "    game_clean = game['name']\n",
        "    res.append(game_clean)\n",
        "\n",
        "  return res"
      ],
      "metadata": {
        "id": "yxdaS1CqLW5P"
      },
      "execution_count": null,
      "outputs": []
    },
    {
      "cell_type": "code",
      "source": [
        "# проверка работоспособности функций на одном значении\n",
        "print(df_copy.games[10])\n",
        "print(games_func(df_copy.games[10]))"
      ],
      "metadata": {
        "id": "W1e7AalgPCFJ",
        "colab": {
          "base_uri": "https://localhost:8080/"
        },
        "outputId": "4ba980db-bd7e-4df8-cc0a-0b16512d2ccc"
      },
      "execution_count": null,
      "outputs": [
        {
          "output_type": "stream",
          "name": "stdout",
          "text": [
            "[{'name': 'League of Legends'}]\n",
            "['League of Legends']\n"
          ]
        }
      ]
    },
    {
      "cell_type": "code",
      "source": [
        "# применим функции ко всему столбцу, при этом создав отдельный столбец\n",
        "df_copy['games_clean'] = df_copy['games'].apply(games_func)"
      ],
      "metadata": {
        "id": "CRlct0ZpUja2"
      },
      "execution_count": null,
      "outputs": []
    },
    {
      "cell_type": "code",
      "source": [
        "# контроль результата\n",
        "df_copy['games_clean']"
      ],
      "metadata": {
        "id": "xV4fduCJU7Lv",
        "colab": {
          "base_uri": "https://localhost:8080/"
        },
        "outputId": "4b7684c0-0f1d-4822-f12d-4456cdbf57a5"
      },
      "execution_count": null,
      "outputs": [
        {
          "output_type": "execute_result",
          "data": {
            "text/plain": [
              "0                     [Dota 2, CS:GO, Warcraft III]\n",
              "1       [League of Legends, Valorant, Apex Legends]\n",
              "2                                        [Fortnite]\n",
              "3                    [PUBG, Hearthstone, Overwatch]\n",
              "4                                            [FIFA]\n",
              "                           ...                     \n",
              "3329                 [PUBG, Hearthstone, Overwatch]\n",
              "3330                 [PUBG, Hearthstone, Overwatch]\n",
              "3331                                        [CS:GO]\n",
              "3332                                        [CS:GO]\n",
              "3333                                        [CS:GO]\n",
              "Name: games_clean, Length: 3334, dtype: object"
            ]
          },
          "metadata": {},
          "execution_count": 81
        }
      ]
    },
    {
      "cell_type": "code",
      "source": [
        "# исключим исходный столбец games\n",
        "df_copy.drop(columns='games', inplace=True)"
      ],
      "metadata": {
        "id": "Tg3NyXN7dIzP"
      },
      "execution_count": null,
      "outputs": []
    },
    {
      "cell_type": "code",
      "source": [
        "# переименуем столбец games_clean в games\n",
        "df_copy.rename(columns={'games_clean': 'games'}, inplace=True)"
      ],
      "metadata": {
        "id": "V-eJbovydIzQ"
      },
      "execution_count": null,
      "outputs": []
    },
    {
      "cell_type": "code",
      "source": [
        "# контроль результата\n",
        "df_copy.columns"
      ],
      "metadata": {
        "id": "EfNtNdsEdIzQ",
        "colab": {
          "base_uri": "https://localhost:8080/"
        },
        "outputId": "8b07fc33-28e1-4271-8e8d-a242efd283dc"
      },
      "execution_count": null,
      "outputs": [
        {
          "output_type": "execute_result",
          "data": {
            "text/plain": [
              "Index(['id', 'bdate', 'city', 'country', 'last_seen', 'followers_count', 'sex',\n",
              "       'costs', 'currency', 'games'],\n",
              "      dtype='object')"
            ]
          },
          "metadata": {},
          "execution_count": 84
        }
      ]
    },
    {
      "cell_type": "code",
      "source": [
        "# контроль результата\n",
        "df_copy['games']"
      ],
      "metadata": {
        "id": "BrEg4V1tdIzR",
        "colab": {
          "base_uri": "https://localhost:8080/"
        },
        "outputId": "a828cb9c-c1a0-4c01-a59d-1de2ddc7e8b5"
      },
      "execution_count": null,
      "outputs": [
        {
          "output_type": "execute_result",
          "data": {
            "text/plain": [
              "0                     [Dota 2, CS:GO, Warcraft III]\n",
              "1       [League of Legends, Valorant, Apex Legends]\n",
              "2                                        [Fortnite]\n",
              "3                    [PUBG, Hearthstone, Overwatch]\n",
              "4                                            [FIFA]\n",
              "                           ...                     \n",
              "3329                 [PUBG, Hearthstone, Overwatch]\n",
              "3330                 [PUBG, Hearthstone, Overwatch]\n",
              "3331                                        [CS:GO]\n",
              "3332                                        [CS:GO]\n",
              "3333                                        [CS:GO]\n",
              "Name: games, Length: 3334, dtype: object"
            ]
          },
          "metadata": {},
          "execution_count": 85
        }
      ]
    },
    {
      "cell_type": "code",
      "source": [
        "# данные представляют собой списки игр,\n",
        "# поэтому стоит дополнительно произвести их \"распаковку\"\n",
        "# и сохранить полученный датасет с целью последующего анализа\n",
        "# в одной из следующих тем"
      ],
      "metadata": {
        "id": "-rNkzJM4dIzR"
      },
      "execution_count": null,
      "outputs": []
    },
    {
      "cell_type": "markdown",
      "source": [
        "# **Тема 7. Преобразование данных в необходимый формат**"
      ],
      "metadata": {
        "id": "t6yBH9GzZmjy"
      }
    },
    {
      "cell_type": "code",
      "source": [
        "# обзор типов данных\n",
        "df_copy.dtypes"
      ],
      "metadata": {
        "id": "-7JdtZM7ceDa",
        "colab": {
          "base_uri": "https://localhost:8080/"
        },
        "outputId": "733a1f30-a6b7-444b-abcb-31b48f65a92f"
      },
      "execution_count": null,
      "outputs": [
        {
          "output_type": "execute_result",
          "data": {
            "text/plain": [
              "id                   int64\n",
              "bdate               object\n",
              "city                object\n",
              "country             object\n",
              "last_seen          float64\n",
              "followers_count    float64\n",
              "sex                  int64\n",
              "costs               object\n",
              "currency            object\n",
              "games               object\n",
              "dtype: object"
            ]
          },
          "metadata": {},
          "execution_count": 89
        }
      ]
    },
    {
      "cell_type": "markdown",
      "source": [
        "**Необходимо преобразовать** следующие признаки:\n",
        "1. 'bdate' - в формат даты и времени datetime\n",
        "2. 'last_seen' - в формат даты и времени datetime\n",
        "3. 'followers_count' - в формат целого числа int\n",
        "4. 'costs' - в формат числа с плавающей точкой float"
      ],
      "metadata": {
        "id": "HJY6ivVphEpB"
      }
    },
    {
      "cell_type": "markdown",
      "source": [
        "## 'bdate'"
      ],
      "metadata": {
        "id": "6xGcmj9nhw8s"
      }
    },
    {
      "cell_type": "code",
      "source": [
        "# для работы с данными формата даты и времени в Python существует специальный модуль - datetime,\n",
        "# однако в рамках текущего кейса вполне достаточно аналогичных методов pandas"
      ],
      "metadata": {
        "id": "J8O1FQ6eogCg"
      },
      "execution_count": null,
      "outputs": []
    },
    {
      "cell_type": "code",
      "source": [
        "df_copy.bdate"
      ],
      "metadata": {
        "id": "113jLbybiElY",
        "colab": {
          "base_uri": "https://localhost:8080/"
        },
        "outputId": "304d48ce-6931-4ce7-f8ce-f7554379aed0"
      },
      "execution_count": null,
      "outputs": [
        {
          "output_type": "execute_result",
          "data": {
            "text/plain": [
              "0        1.1.2005\n",
              "1        1.1.1985\n",
              "2        1.1.1979\n",
              "3        1.1.2002\n",
              "4        1.1.1989\n",
              "          ...    \n",
              "3329     5.6.2008\n",
              "3330    24.7.1990\n",
              "3331    11.5.2006\n",
              "3332     3.4.2001\n",
              "3333    22.2.2000\n",
              "Name: bdate, Length: 3334, dtype: object"
            ]
          },
          "metadata": {},
          "execution_count": 90
        }
      ]
    },
    {
      "cell_type": "code",
      "source": [
        "# установим нужный формат данных с помощью метода to_datetime()\n",
        "# для корректного перевода значений укажем формат в параметре format,\n",
        "# где на первом месте стоит день, а далее месяц и год\n",
        "df_copy.bdate = pd.to_datetime(df_copy.bdate, format=\"%d.%m.%Y\")\n",
        "df_copy.bdate"
      ],
      "metadata": {
        "id": "vfL7g4k7a3cr",
        "colab": {
          "base_uri": "https://localhost:8080/"
        },
        "outputId": "516b5af7-96ca-440a-d701-c6998945a9d8"
      },
      "execution_count": null,
      "outputs": [
        {
          "output_type": "execute_result",
          "data": {
            "text/plain": [
              "0      2005-01-01\n",
              "1      1985-01-01\n",
              "2      1979-01-01\n",
              "3      2002-01-01\n",
              "4      1989-01-01\n",
              "          ...    \n",
              "3329   2008-06-05\n",
              "3330   1990-07-24\n",
              "3331   2006-05-11\n",
              "3332   2001-04-03\n",
              "3333   2000-02-22\n",
              "Name: bdate, Length: 3334, dtype: datetime64[ns]"
            ]
          },
          "metadata": {},
          "execution_count": 163
        }
      ]
    },
    {
      "cell_type": "markdown",
      "source": [
        "## 'last_seen'"
      ],
      "metadata": {
        "id": "EM34Ka0Ii_-r"
      }
    },
    {
      "cell_type": "code",
      "source": [
        "df_copy.last_seen"
      ],
      "metadata": {
        "id": "UMt96jETjAPS",
        "colab": {
          "base_uri": "https://localhost:8080/"
        },
        "outputId": "06cd2621-555c-4008-dfd4-9f003b0d5549"
      },
      "execution_count": null,
      "outputs": [
        {
          "output_type": "execute_result",
          "data": {
            "text/plain": [
              "0       1.662237e+09\n",
              "1       1.661322e+09\n",
              "2       1.662203e+09\n",
              "3       1.613708e+09\n",
              "4       1.619551e+09\n",
              "            ...     \n",
              "3329    1.662186e+09\n",
              "3330    1.658820e+09\n",
              "3331    1.662237e+09\n",
              "3332    1.662233e+09\n",
              "3333    1.661793e+09\n",
              "Name: last_seen, Length: 3334, dtype: float64"
            ]
          },
          "metadata": {},
          "execution_count": 92
        }
      ]
    },
    {
      "cell_type": "code",
      "source": [
        "# рассмотрим первое значение\n",
        "# данные представлены в формате Unix time\n",
        "df_copy.last_seen[0]"
      ],
      "metadata": {
        "id": "RKkWpwYWdR94",
        "colab": {
          "base_uri": "https://localhost:8080/"
        },
        "outputId": "2ba71c24-a222-4344-8e0c-b1dcbf267068"
      },
      "execution_count": null,
      "outputs": [
        {
          "output_type": "execute_result",
          "data": {
            "text/plain": [
              "1662237362.0"
            ]
          },
          "metadata": {},
          "execution_count": 93
        }
      ]
    },
    {
      "cell_type": "code",
      "source": [
        "# переведем значение в формат даты и времени с помощью метода to_datetime(),\n",
        "# указав параметры origin='unix' (система описания моментов во времени) и unit='s' (значение представляет собой секунды)\n",
        "# (параметр origin='unix' можно опустить, т.к. он принимает данное значение по умолчанию)\n",
        "pd.to_datetime(df_copy.last_seen[0], unit='s', origin='unix')"
      ],
      "metadata": {
        "id": "U-gU7hngeay1",
        "colab": {
          "base_uri": "https://localhost:8080/"
        },
        "outputId": "644f7ab4-a772-4b56-d4ee-7bec9f7d7317"
      },
      "execution_count": null,
      "outputs": [
        {
          "output_type": "execute_result",
          "data": {
            "text/plain": [
              "Timestamp('2022-09-03 20:36:02')"
            ]
          },
          "metadata": {},
          "execution_count": 94
        }
      ]
    },
    {
      "cell_type": "code",
      "source": [
        "# альтернативный метод Timestamp.utcfromtimestamp() дает аналогичный результат\n",
        "pd.Timestamp.utcfromtimestamp(df_copy.last_seen[0])"
      ],
      "metadata": {
        "id": "Pjx2YcItjcB4",
        "colab": {
          "base_uri": "https://localhost:8080/"
        },
        "outputId": "812add90-ddaf-4cbe-b0f9-87f0d5789488"
      },
      "execution_count": null,
      "outputs": [
        {
          "output_type": "execute_result",
          "data": {
            "text/plain": [
              "Timestamp('2022-09-03 20:36:02')"
            ]
          },
          "metadata": {},
          "execution_count": 95
        }
      ]
    },
    {
      "cell_type": "code",
      "source": [
        "# применим ко всему столбцу\n",
        "df_copy.last_seen = pd.to_datetime(df_copy.last_seen, unit='s')\n",
        "df_copy.last_seen"
      ],
      "metadata": {
        "id": "ReoR_UKlmnM4",
        "colab": {
          "base_uri": "https://localhost:8080/"
        },
        "outputId": "0e306b78-4c5a-4fa5-bd2c-acff128888ea"
      },
      "execution_count": null,
      "outputs": [
        {
          "output_type": "execute_result",
          "data": {
            "text/plain": [
              "0      2022-09-03 20:36:02\n",
              "1      2022-08-24 06:16:43\n",
              "2      2022-09-03 10:56:59\n",
              "3      2021-02-19 04:15:36\n",
              "4      2021-04-27 19:12:50\n",
              "               ...        \n",
              "3329   2022-09-03 06:16:08\n",
              "3330   2022-07-26 07:20:57\n",
              "3331   2022-09-03 20:37:02\n",
              "3332   2022-09-03 19:15:23\n",
              "3333   2022-08-29 17:12:26\n",
              "Name: last_seen, Length: 3334, dtype: datetime64[ns]"
            ]
          },
          "metadata": {},
          "execution_count": 164
        }
      ]
    },
    {
      "cell_type": "code",
      "source": [
        "# отобразим данный признак в формате \"ДД.ММ.ГГГГ\" с помощью метода dt.strftime()\n",
        "# (если впоследствии необходимо работать со значениями признака как с датой, то преобразование делать не нужно,\n",
        "# т.к. метод переводит значения в строковый формат)\n",
        "df_copy.last_seen = df_copy.last_seen.dt.strftime('%d.%m.%Y')\n",
        "df_copy.last_seen"
      ],
      "metadata": {
        "id": "VTTFTZbt2xsT",
        "colab": {
          "base_uri": "https://localhost:8080/"
        },
        "outputId": "bf719a5e-3f04-4f33-ca9b-6faee84277be"
      },
      "execution_count": null,
      "outputs": [
        {
          "output_type": "execute_result",
          "data": {
            "text/plain": [
              "0       03.09.2022\n",
              "1       24.08.2022\n",
              "2       03.09.2022\n",
              "3       19.02.2021\n",
              "4       27.04.2021\n",
              "           ...    \n",
              "3329    03.09.2022\n",
              "3330    26.07.2022\n",
              "3331    03.09.2022\n",
              "3332    03.09.2022\n",
              "3333    29.08.2022\n",
              "Name: last_seen, Length: 3334, dtype: object"
            ]
          },
          "metadata": {},
          "execution_count": 165
        }
      ]
    },
    {
      "cell_type": "markdown",
      "source": [
        "## 'followers_count'"
      ],
      "metadata": {
        "id": "OnvyZhuIh-oX"
      }
    },
    {
      "cell_type": "code",
      "source": [
        "df_copy.followers_count"
      ],
      "metadata": {
        "id": "RNrVYdGIiFry",
        "colab": {
          "base_uri": "https://localhost:8080/"
        },
        "outputId": "fc12da3f-5e7c-44d3-e643-dad9a303d31a"
      },
      "execution_count": null,
      "outputs": [
        {
          "output_type": "execute_result",
          "data": {
            "text/plain": [
              "0       39326.0\n",
              "1       19698.0\n",
              "2           NaN\n",
              "3           NaN\n",
              "4       31433.0\n",
              "         ...   \n",
              "3329        NaN\n",
              "3330        NaN\n",
              "3331        0.0\n",
              "3332        1.0\n",
              "3333        NaN\n",
              "Name: followers_count, Length: 3334, dtype: float64"
            ]
          },
          "metadata": {},
          "execution_count": 98
        }
      ]
    },
    {
      "cell_type": "code",
      "source": [
        "# переведем значения из float в int с помощью метода astype()\n",
        "df_copy.followers_count = df_copy.followers_count.astype('int')\n",
        "df_copy.followers_count"
      ],
      "metadata": {
        "id": "x7tjQlUApawM",
        "colab": {
          "base_uri": "https://localhost:8080/",
          "height": 345
        },
        "outputId": "18df5f4a-8a7a-41a8-f7b6-fbe753fabb89"
      },
      "execution_count": null,
      "outputs": [
        {
          "output_type": "error",
          "ename": "IntCastingNaNError",
          "evalue": "ignored",
          "traceback": [
            "\u001b[0;31m---------------------------------------------------------------------------\u001b[0m",
            "\u001b[0;31mIntCastingNaNError\u001b[0m                        Traceback (most recent call last)",
            "\u001b[0;32m<ipython-input-99-d93414ae1aa6>\u001b[0m in \u001b[0;36m<module>\u001b[0;34m\u001b[0m\n\u001b[1;32m      1\u001b[0m \u001b[0;31m# переведем значения из float в int с помощью метода astype()\u001b[0m\u001b[0;34m\u001b[0m\u001b[0;34m\u001b[0m\u001b[0;34m\u001b[0m\u001b[0m\n\u001b[0;32m----> 2\u001b[0;31m \u001b[0mdf_copy\u001b[0m\u001b[0;34m.\u001b[0m\u001b[0mfollowers_count\u001b[0m \u001b[0;34m=\u001b[0m \u001b[0mdf_copy\u001b[0m\u001b[0;34m.\u001b[0m\u001b[0mfollowers_count\u001b[0m\u001b[0;34m.\u001b[0m\u001b[0mastype\u001b[0m\u001b[0;34m(\u001b[0m\u001b[0;34m'int'\u001b[0m\u001b[0;34m)\u001b[0m\u001b[0;34m\u001b[0m\u001b[0;34m\u001b[0m\u001b[0m\n\u001b[0m\u001b[1;32m      3\u001b[0m \u001b[0mdf_copy\u001b[0m\u001b[0;34m.\u001b[0m\u001b[0mfollowers_count\u001b[0m\u001b[0;34m\u001b[0m\u001b[0;34m\u001b[0m\u001b[0m\n",
            "\u001b[0;32m/usr/local/lib/python3.8/dist-packages/pandas/core/generic.py\u001b[0m in \u001b[0;36mastype\u001b[0;34m(self, dtype, copy, errors)\u001b[0m\n\u001b[1;32m   5813\u001b[0m         \u001b[0;32melse\u001b[0m\u001b[0;34m:\u001b[0m\u001b[0;34m\u001b[0m\u001b[0;34m\u001b[0m\u001b[0m\n\u001b[1;32m   5814\u001b[0m             \u001b[0;31m# else, only a single dtype is given\u001b[0m\u001b[0;34m\u001b[0m\u001b[0;34m\u001b[0m\u001b[0;34m\u001b[0m\u001b[0m\n\u001b[0;32m-> 5815\u001b[0;31m             \u001b[0mnew_data\u001b[0m \u001b[0;34m=\u001b[0m \u001b[0mself\u001b[0m\u001b[0;34m.\u001b[0m\u001b[0m_mgr\u001b[0m\u001b[0;34m.\u001b[0m\u001b[0mastype\u001b[0m\u001b[0;34m(\u001b[0m\u001b[0mdtype\u001b[0m\u001b[0;34m=\u001b[0m\u001b[0mdtype\u001b[0m\u001b[0;34m,\u001b[0m \u001b[0mcopy\u001b[0m\u001b[0;34m=\u001b[0m\u001b[0mcopy\u001b[0m\u001b[0;34m,\u001b[0m \u001b[0merrors\u001b[0m\u001b[0;34m=\u001b[0m\u001b[0merrors\u001b[0m\u001b[0;34m)\u001b[0m\u001b[0;34m\u001b[0m\u001b[0;34m\u001b[0m\u001b[0m\n\u001b[0m\u001b[1;32m   5816\u001b[0m             \u001b[0;32mreturn\u001b[0m \u001b[0mself\u001b[0m\u001b[0;34m.\u001b[0m\u001b[0m_constructor\u001b[0m\u001b[0;34m(\u001b[0m\u001b[0mnew_data\u001b[0m\u001b[0;34m)\u001b[0m\u001b[0;34m.\u001b[0m\u001b[0m__finalize__\u001b[0m\u001b[0;34m(\u001b[0m\u001b[0mself\u001b[0m\u001b[0;34m,\u001b[0m \u001b[0mmethod\u001b[0m\u001b[0;34m=\u001b[0m\u001b[0;34m\"astype\"\u001b[0m\u001b[0;34m)\u001b[0m\u001b[0;34m\u001b[0m\u001b[0;34m\u001b[0m\u001b[0m\n\u001b[1;32m   5817\u001b[0m \u001b[0;34m\u001b[0m\u001b[0m\n",
            "\u001b[0;32m/usr/local/lib/python3.8/dist-packages/pandas/core/internals/managers.py\u001b[0m in \u001b[0;36mastype\u001b[0;34m(self, dtype, copy, errors)\u001b[0m\n\u001b[1;32m    416\u001b[0m \u001b[0;34m\u001b[0m\u001b[0m\n\u001b[1;32m    417\u001b[0m     \u001b[0;32mdef\u001b[0m \u001b[0mastype\u001b[0m\u001b[0;34m(\u001b[0m\u001b[0mself\u001b[0m\u001b[0;34m:\u001b[0m \u001b[0mT\u001b[0m\u001b[0;34m,\u001b[0m \u001b[0mdtype\u001b[0m\u001b[0;34m,\u001b[0m \u001b[0mcopy\u001b[0m\u001b[0;34m:\u001b[0m \u001b[0mbool\u001b[0m \u001b[0;34m=\u001b[0m \u001b[0;32mFalse\u001b[0m\u001b[0;34m,\u001b[0m \u001b[0merrors\u001b[0m\u001b[0;34m:\u001b[0m \u001b[0mstr\u001b[0m \u001b[0;34m=\u001b[0m \u001b[0;34m\"raise\"\u001b[0m\u001b[0;34m)\u001b[0m \u001b[0;34m->\u001b[0m \u001b[0mT\u001b[0m\u001b[0;34m:\u001b[0m\u001b[0;34m\u001b[0m\u001b[0;34m\u001b[0m\u001b[0m\n\u001b[0;32m--> 418\u001b[0;31m         \u001b[0;32mreturn\u001b[0m \u001b[0mself\u001b[0m\u001b[0;34m.\u001b[0m\u001b[0mapply\u001b[0m\u001b[0;34m(\u001b[0m\u001b[0;34m\"astype\"\u001b[0m\u001b[0;34m,\u001b[0m \u001b[0mdtype\u001b[0m\u001b[0;34m=\u001b[0m\u001b[0mdtype\u001b[0m\u001b[0;34m,\u001b[0m \u001b[0mcopy\u001b[0m\u001b[0;34m=\u001b[0m\u001b[0mcopy\u001b[0m\u001b[0;34m,\u001b[0m \u001b[0merrors\u001b[0m\u001b[0;34m=\u001b[0m\u001b[0merrors\u001b[0m\u001b[0;34m)\u001b[0m\u001b[0;34m\u001b[0m\u001b[0;34m\u001b[0m\u001b[0m\n\u001b[0m\u001b[1;32m    419\u001b[0m \u001b[0;34m\u001b[0m\u001b[0m\n\u001b[1;32m    420\u001b[0m     def convert(\n",
            "\u001b[0;32m/usr/local/lib/python3.8/dist-packages/pandas/core/internals/managers.py\u001b[0m in \u001b[0;36mapply\u001b[0;34m(self, f, align_keys, ignore_failures, **kwargs)\u001b[0m\n\u001b[1;32m    325\u001b[0m                     \u001b[0mapplied\u001b[0m \u001b[0;34m=\u001b[0m \u001b[0mb\u001b[0m\u001b[0;34m.\u001b[0m\u001b[0mapply\u001b[0m\u001b[0;34m(\u001b[0m\u001b[0mf\u001b[0m\u001b[0;34m,\u001b[0m \u001b[0;34m**\u001b[0m\u001b[0mkwargs\u001b[0m\u001b[0;34m)\u001b[0m\u001b[0;34m\u001b[0m\u001b[0;34m\u001b[0m\u001b[0m\n\u001b[1;32m    326\u001b[0m                 \u001b[0;32melse\u001b[0m\u001b[0;34m:\u001b[0m\u001b[0;34m\u001b[0m\u001b[0;34m\u001b[0m\u001b[0m\n\u001b[0;32m--> 327\u001b[0;31m                     \u001b[0mapplied\u001b[0m \u001b[0;34m=\u001b[0m \u001b[0mgetattr\u001b[0m\u001b[0;34m(\u001b[0m\u001b[0mb\u001b[0m\u001b[0;34m,\u001b[0m \u001b[0mf\u001b[0m\u001b[0;34m)\u001b[0m\u001b[0;34m(\u001b[0m\u001b[0;34m**\u001b[0m\u001b[0mkwargs\u001b[0m\u001b[0;34m)\u001b[0m\u001b[0;34m\u001b[0m\u001b[0;34m\u001b[0m\u001b[0m\n\u001b[0m\u001b[1;32m    328\u001b[0m             \u001b[0;32mexcept\u001b[0m \u001b[0;34m(\u001b[0m\u001b[0mTypeError\u001b[0m\u001b[0;34m,\u001b[0m \u001b[0mNotImplementedError\u001b[0m\u001b[0;34m)\u001b[0m\u001b[0;34m:\u001b[0m\u001b[0;34m\u001b[0m\u001b[0;34m\u001b[0m\u001b[0m\n\u001b[1;32m    329\u001b[0m                 \u001b[0;32mif\u001b[0m \u001b[0;32mnot\u001b[0m \u001b[0mignore_failures\u001b[0m\u001b[0;34m:\u001b[0m\u001b[0;34m\u001b[0m\u001b[0;34m\u001b[0m\u001b[0m\n",
            "\u001b[0;32m/usr/local/lib/python3.8/dist-packages/pandas/core/internals/blocks.py\u001b[0m in \u001b[0;36mastype\u001b[0;34m(self, dtype, copy, errors)\u001b[0m\n\u001b[1;32m    589\u001b[0m         \u001b[0mvalues\u001b[0m \u001b[0;34m=\u001b[0m \u001b[0mself\u001b[0m\u001b[0;34m.\u001b[0m\u001b[0mvalues\u001b[0m\u001b[0;34m\u001b[0m\u001b[0;34m\u001b[0m\u001b[0m\n\u001b[1;32m    590\u001b[0m \u001b[0;34m\u001b[0m\u001b[0m\n\u001b[0;32m--> 591\u001b[0;31m         \u001b[0mnew_values\u001b[0m \u001b[0;34m=\u001b[0m \u001b[0mastype_array_safe\u001b[0m\u001b[0;34m(\u001b[0m\u001b[0mvalues\u001b[0m\u001b[0;34m,\u001b[0m \u001b[0mdtype\u001b[0m\u001b[0;34m,\u001b[0m \u001b[0mcopy\u001b[0m\u001b[0;34m=\u001b[0m\u001b[0mcopy\u001b[0m\u001b[0;34m,\u001b[0m \u001b[0merrors\u001b[0m\u001b[0;34m=\u001b[0m\u001b[0merrors\u001b[0m\u001b[0;34m)\u001b[0m\u001b[0;34m\u001b[0m\u001b[0;34m\u001b[0m\u001b[0m\n\u001b[0m\u001b[1;32m    592\u001b[0m \u001b[0;34m\u001b[0m\u001b[0m\n\u001b[1;32m    593\u001b[0m         \u001b[0mnew_values\u001b[0m \u001b[0;34m=\u001b[0m \u001b[0mmaybe_coerce_values\u001b[0m\u001b[0;34m(\u001b[0m\u001b[0mnew_values\u001b[0m\u001b[0;34m)\u001b[0m\u001b[0;34m\u001b[0m\u001b[0;34m\u001b[0m\u001b[0m\n",
            "\u001b[0;32m/usr/local/lib/python3.8/dist-packages/pandas/core/dtypes/cast.py\u001b[0m in \u001b[0;36mastype_array_safe\u001b[0;34m(values, dtype, copy, errors)\u001b[0m\n\u001b[1;32m   1307\u001b[0m \u001b[0;34m\u001b[0m\u001b[0m\n\u001b[1;32m   1308\u001b[0m     \u001b[0;32mtry\u001b[0m\u001b[0;34m:\u001b[0m\u001b[0;34m\u001b[0m\u001b[0;34m\u001b[0m\u001b[0m\n\u001b[0;32m-> 1309\u001b[0;31m         \u001b[0mnew_values\u001b[0m \u001b[0;34m=\u001b[0m \u001b[0mastype_array\u001b[0m\u001b[0;34m(\u001b[0m\u001b[0mvalues\u001b[0m\u001b[0;34m,\u001b[0m \u001b[0mdtype\u001b[0m\u001b[0;34m,\u001b[0m \u001b[0mcopy\u001b[0m\u001b[0;34m=\u001b[0m\u001b[0mcopy\u001b[0m\u001b[0;34m)\u001b[0m\u001b[0;34m\u001b[0m\u001b[0;34m\u001b[0m\u001b[0m\n\u001b[0m\u001b[1;32m   1310\u001b[0m     \u001b[0;32mexcept\u001b[0m \u001b[0;34m(\u001b[0m\u001b[0mValueError\u001b[0m\u001b[0;34m,\u001b[0m \u001b[0mTypeError\u001b[0m\u001b[0;34m)\u001b[0m\u001b[0;34m:\u001b[0m\u001b[0;34m\u001b[0m\u001b[0;34m\u001b[0m\u001b[0m\n\u001b[1;32m   1311\u001b[0m         \u001b[0;31m# e.g. astype_nansafe can fail on object-dtype of strings\u001b[0m\u001b[0;34m\u001b[0m\u001b[0;34m\u001b[0m\u001b[0;34m\u001b[0m\u001b[0m\n",
            "\u001b[0;32m/usr/local/lib/python3.8/dist-packages/pandas/core/dtypes/cast.py\u001b[0m in \u001b[0;36mastype_array\u001b[0;34m(values, dtype, copy)\u001b[0m\n\u001b[1;32m   1255\u001b[0m \u001b[0;34m\u001b[0m\u001b[0m\n\u001b[1;32m   1256\u001b[0m     \u001b[0;32melse\u001b[0m\u001b[0;34m:\u001b[0m\u001b[0;34m\u001b[0m\u001b[0;34m\u001b[0m\u001b[0m\n\u001b[0;32m-> 1257\u001b[0;31m         \u001b[0mvalues\u001b[0m \u001b[0;34m=\u001b[0m \u001b[0mastype_nansafe\u001b[0m\u001b[0;34m(\u001b[0m\u001b[0mvalues\u001b[0m\u001b[0;34m,\u001b[0m \u001b[0mdtype\u001b[0m\u001b[0;34m,\u001b[0m \u001b[0mcopy\u001b[0m\u001b[0;34m=\u001b[0m\u001b[0mcopy\u001b[0m\u001b[0;34m)\u001b[0m\u001b[0;34m\u001b[0m\u001b[0;34m\u001b[0m\u001b[0m\n\u001b[0m\u001b[1;32m   1258\u001b[0m \u001b[0;34m\u001b[0m\u001b[0m\n\u001b[1;32m   1259\u001b[0m     \u001b[0;31m# in pandas we don't store numpy str dtypes, so convert to object\u001b[0m\u001b[0;34m\u001b[0m\u001b[0;34m\u001b[0m\u001b[0;34m\u001b[0m\u001b[0m\n",
            "\u001b[0;32m/usr/local/lib/python3.8/dist-packages/pandas/core/dtypes/cast.py\u001b[0m in \u001b[0;36mastype_nansafe\u001b[0;34m(arr, dtype, copy, skipna)\u001b[0m\n\u001b[1;32m   1166\u001b[0m \u001b[0;34m\u001b[0m\u001b[0m\n\u001b[1;32m   1167\u001b[0m     \u001b[0;32melif\u001b[0m \u001b[0mnp\u001b[0m\u001b[0;34m.\u001b[0m\u001b[0missubdtype\u001b[0m\u001b[0;34m(\u001b[0m\u001b[0marr\u001b[0m\u001b[0;34m.\u001b[0m\u001b[0mdtype\u001b[0m\u001b[0;34m,\u001b[0m \u001b[0mnp\u001b[0m\u001b[0;34m.\u001b[0m\u001b[0mfloating\u001b[0m\u001b[0;34m)\u001b[0m \u001b[0;32mand\u001b[0m \u001b[0mnp\u001b[0m\u001b[0;34m.\u001b[0m\u001b[0missubdtype\u001b[0m\u001b[0;34m(\u001b[0m\u001b[0mdtype\u001b[0m\u001b[0;34m,\u001b[0m \u001b[0mnp\u001b[0m\u001b[0;34m.\u001b[0m\u001b[0minteger\u001b[0m\u001b[0;34m)\u001b[0m\u001b[0;34m:\u001b[0m\u001b[0;34m\u001b[0m\u001b[0;34m\u001b[0m\u001b[0m\n\u001b[0;32m-> 1168\u001b[0;31m         \u001b[0;32mreturn\u001b[0m \u001b[0mastype_float_to_int_nansafe\u001b[0m\u001b[0;34m(\u001b[0m\u001b[0marr\u001b[0m\u001b[0;34m,\u001b[0m \u001b[0mdtype\u001b[0m\u001b[0;34m,\u001b[0m \u001b[0mcopy\u001b[0m\u001b[0;34m)\u001b[0m\u001b[0;34m\u001b[0m\u001b[0;34m\u001b[0m\u001b[0m\n\u001b[0m\u001b[1;32m   1169\u001b[0m \u001b[0;34m\u001b[0m\u001b[0m\n\u001b[1;32m   1170\u001b[0m     \u001b[0;32melif\u001b[0m \u001b[0mis_object_dtype\u001b[0m\u001b[0;34m(\u001b[0m\u001b[0marr\u001b[0m\u001b[0;34m)\u001b[0m\u001b[0;34m:\u001b[0m\u001b[0;34m\u001b[0m\u001b[0;34m\u001b[0m\u001b[0m\n",
            "\u001b[0;32m/usr/local/lib/python3.8/dist-packages/pandas/core/dtypes/cast.py\u001b[0m in \u001b[0;36mastype_float_to_int_nansafe\u001b[0;34m(values, dtype, copy)\u001b[0m\n\u001b[1;32m   1211\u001b[0m     \"\"\"\n\u001b[1;32m   1212\u001b[0m     \u001b[0;32mif\u001b[0m \u001b[0;32mnot\u001b[0m \u001b[0mnp\u001b[0m\u001b[0;34m.\u001b[0m\u001b[0misfinite\u001b[0m\u001b[0;34m(\u001b[0m\u001b[0mvalues\u001b[0m\u001b[0;34m)\u001b[0m\u001b[0;34m.\u001b[0m\u001b[0mall\u001b[0m\u001b[0;34m(\u001b[0m\u001b[0;34m)\u001b[0m\u001b[0;34m:\u001b[0m\u001b[0;34m\u001b[0m\u001b[0;34m\u001b[0m\u001b[0m\n\u001b[0;32m-> 1213\u001b[0;31m         raise IntCastingNaNError(\n\u001b[0m\u001b[1;32m   1214\u001b[0m             \u001b[0;34m\"Cannot convert non-finite values (NA or inf) to integer\"\u001b[0m\u001b[0;34m\u001b[0m\u001b[0;34m\u001b[0m\u001b[0m\n\u001b[1;32m   1215\u001b[0m         )\n",
            "\u001b[0;31mIntCastingNaNError\u001b[0m: Cannot convert non-finite values (NA or inf) to integer"
          ]
        }
      ]
    },
    {
      "cell_type": "code",
      "source": [
        "# ошибка, связанная с наличием пропущенных значений по признаку\n",
        "# вместо классического питоновского типа данных 'int' применим тип данных 'Int64', используемый NumPy и Pandas\n",
        "df_copy.followers_count = df_copy.followers_count.astype('Int64')\n",
        "df_copy.followers_count"
      ],
      "metadata": {
        "id": "N0iDpew1qgSF",
        "colab": {
          "base_uri": "https://localhost:8080/"
        },
        "outputId": "80f8385d-0bdf-46b1-f9b6-07b75c90e953"
      },
      "execution_count": null,
      "outputs": [
        {
          "output_type": "execute_result",
          "data": {
            "text/plain": [
              "0       39326\n",
              "1       19698\n",
              "2        <NA>\n",
              "3        <NA>\n",
              "4       31433\n",
              "        ...  \n",
              "3329     <NA>\n",
              "3330     <NA>\n",
              "3331        0\n",
              "3332        1\n",
              "3333     <NA>\n",
              "Name: followers_count, Length: 3334, dtype: Int64"
            ]
          },
          "metadata": {},
          "execution_count": 166
        }
      ]
    },
    {
      "cell_type": "markdown",
      "source": [
        "## 'costs'"
      ],
      "metadata": {
        "id": "d0NfVOIIiBz1"
      }
    },
    {
      "cell_type": "code",
      "source": [
        "df_copy.costs"
      ],
      "metadata": {
        "id": "ZEkFWucaiGeK",
        "colab": {
          "base_uri": "https://localhost:8080/"
        },
        "outputId": "5e2e323d-aa4f-4e61-fe9c-946b576d20e6"
      },
      "execution_count": null,
      "outputs": [
        {
          "output_type": "execute_result",
          "data": {
            "text/plain": [
              "0        25000\n",
              "1        50000\n",
              "2        75000\n",
              "3       100000\n",
              "4       100000\n",
              "         ...  \n",
              "3329     50000\n",
              "3330     50000\n",
              "3331     50000\n",
              "3332     25000\n",
              "3333     25000\n",
              "Name: costs, Length: 3334, dtype: object"
            ]
          },
          "metadata": {},
          "execution_count": 113
        }
      ]
    },
    {
      "cell_type": "code",
      "source": [
        "# переведем данные в числовой формат с помощью метода to_numeric()\n",
        "# параметр downcast='float' принудительно переводит в тип float\n",
        "df_copy.costs = pd.to_numeric(df_copy.costs, downcast='float')\n",
        "df_copy.costs"
      ],
      "metadata": {
        "id": "4Zz9ZMPUtpAK",
        "colab": {
          "base_uri": "https://localhost:8080/"
        },
        "outputId": "eb62f10d-5a9a-4dad-a866-da153e5fb6cd"
      },
      "execution_count": null,
      "outputs": [
        {
          "output_type": "execute_result",
          "data": {
            "text/plain": [
              "0        25000.0\n",
              "1        50000.0\n",
              "2        75000.0\n",
              "3       100000.0\n",
              "4       100000.0\n",
              "          ...   \n",
              "3329     50000.0\n",
              "3330     50000.0\n",
              "3331     50000.0\n",
              "3332     25000.0\n",
              "3333     25000.0\n",
              "Name: costs, Length: 3334, dtype: float32"
            ]
          },
          "metadata": {},
          "execution_count": 167
        }
      ]
    },
    {
      "cell_type": "markdown",
      "source": [
        "# **Тема 8**"
      ],
      "metadata": {
        "id": "y_B1Dq7DV1P7"
      }
    },
    {
      "cell_type": "markdown",
      "source": [
        "## Расчет дополнительных признаков"
      ],
      "metadata": {
        "id": "SC8a7xaHZ7fi"
      }
    },
    {
      "cell_type": "markdown",
      "source": [
        "### 'age'"
      ],
      "metadata": {
        "id": "Sl8o2IeU5xHz"
      }
    },
    {
      "cell_type": "code",
      "source": [
        "# для расчета необходимо из текущей даты вычесть дату рождения (признак \"bdate\")"
      ],
      "metadata": {
        "id": "lfxIdl2nvD8s"
      },
      "execution_count": null,
      "outputs": []
    },
    {
      "cell_type": "code",
      "source": [
        "# текущую дату можно получить с помощью метода Timestamp.today()\n",
        "current_day = pd.Timestamp.today()\n",
        "current_day"
      ],
      "metadata": {
        "id": "uEyHXssTZ4O0",
        "colab": {
          "base_uri": "https://localhost:8080/"
        },
        "outputId": "b807d7bb-04fd-4524-becd-c3859c3bf416"
      },
      "execution_count": null,
      "outputs": [
        {
          "output_type": "execute_result",
          "data": {
            "text/plain": [
              "Timestamp('2022-12-25 09:30:36.148646')"
            ]
          },
          "metadata": {},
          "execution_count": 168
        }
      ]
    },
    {
      "cell_type": "code",
      "source": [
        "# извлечем значение года из даты с помощью атрибута year\n",
        "current_year = current_day.year\n",
        "current_year"
      ],
      "metadata": {
        "id": "7gnvc1fKxTdH",
        "colab": {
          "base_uri": "https://localhost:8080/"
        },
        "outputId": "1ba86a0d-52db-44f8-bc53-62ff8920faa0"
      },
      "execution_count": null,
      "outputs": [
        {
          "output_type": "execute_result",
          "data": {
            "text/plain": [
              "2022"
            ]
          },
          "metadata": {},
          "execution_count": 169
        }
      ]
    },
    {
      "cell_type": "code",
      "source": [
        "# рассчитаем значения возраста и сохраним полученные значения в признак age\n",
        "# при этом необходимо каждую дату рождения перевести в значение года аналогично через атрибут year\n",
        "# для получения доступа к каждому значению объекта Series \"bdate\" используем метод apply() и lambda-функцию\n",
        "df_copy['age'] = current_year - df_copy.bdate.apply(lambda x: x.year)\n",
        "df_copy.age"
      ],
      "metadata": {
        "id": "JBBAUnpkwYEU",
        "colab": {
          "base_uri": "https://localhost:8080/"
        },
        "outputId": "cc9f98bd-9680-491b-e0f9-b13e06e8621f"
      },
      "execution_count": null,
      "outputs": [
        {
          "output_type": "execute_result",
          "data": {
            "text/plain": [
              "0       17\n",
              "1       37\n",
              "2       43\n",
              "3       20\n",
              "4       33\n",
              "        ..\n",
              "3329    14\n",
              "3330    32\n",
              "3331    16\n",
              "3332    21\n",
              "3333    22\n",
              "Name: age, Length: 3334, dtype: int64"
            ]
          },
          "metadata": {},
          "execution_count": 170
        }
      ]
    },
    {
      "cell_type": "code",
      "source": [
        "# исключим исходный столбец bdate\n",
        "df_copy.drop(columns='bdate', inplace=True)"
      ],
      "metadata": {
        "id": "o6vHAtzYzXXG"
      },
      "execution_count": null,
      "outputs": []
    },
    {
      "cell_type": "code",
      "source": [
        "# контроль результата\n",
        "df_copy.columns"
      ],
      "metadata": {
        "id": "4zIM0uOGzXXI",
        "colab": {
          "base_uri": "https://localhost:8080/"
        },
        "outputId": "fa29916a-782c-429b-d39a-c758e6bc57f0"
      },
      "execution_count": null,
      "outputs": [
        {
          "output_type": "execute_result",
          "data": {
            "text/plain": [
              "Index(['id', 'city', 'country', 'last_seen', 'followers_count', 'sex', 'costs',\n",
              "       'currency', 'games', 'age'],\n",
              "      dtype='object')"
            ]
          },
          "metadata": {},
          "execution_count": 120
        }
      ]
    },
    {
      "cell_type": "markdown",
      "source": [
        "### 'costs_to_rur'"
      ],
      "metadata": {
        "id": "YAKroqA76HBA"
      }
    },
    {
      "cell_type": "code",
      "source": [
        "df_copy[['costs', 'currency']]"
      ],
      "metadata": {
        "colab": {
          "base_uri": "https://localhost:8080/",
          "height": 424
        },
        "id": "b2_XXtyGeJAr",
        "outputId": "c97927d3-5920-4c36-a537-709d777207b4"
      },
      "execution_count": null,
      "outputs": [
        {
          "output_type": "execute_result",
          "data": {
            "text/plain": [
              "         costs currency\n",
              "0      25000.0      RUR\n",
              "1      50000.0      RUR\n",
              "2      75000.0      RUR\n",
              "3     100000.0      RUR\n",
              "4     100000.0      RUR\n",
              "...        ...      ...\n",
              "3329   50000.0      RUR\n",
              "3330   50000.0      RUR\n",
              "3331   50000.0      RUR\n",
              "3332   25000.0      RUR\n",
              "3333   25000.0      RUR\n",
              "\n",
              "[3334 rows x 2 columns]"
            ],
            "text/html": [
              "\n",
              "  <div id=\"df-04a90f70-c0a6-4201-b6dc-4ed99e1e889d\">\n",
              "    <div class=\"colab-df-container\">\n",
              "      <div>\n",
              "<style scoped>\n",
              "    .dataframe tbody tr th:only-of-type {\n",
              "        vertical-align: middle;\n",
              "    }\n",
              "\n",
              "    .dataframe tbody tr th {\n",
              "        vertical-align: top;\n",
              "    }\n",
              "\n",
              "    .dataframe thead th {\n",
              "        text-align: right;\n",
              "    }\n",
              "</style>\n",
              "<table border=\"1\" class=\"dataframe\">\n",
              "  <thead>\n",
              "    <tr style=\"text-align: right;\">\n",
              "      <th></th>\n",
              "      <th>costs</th>\n",
              "      <th>currency</th>\n",
              "    </tr>\n",
              "  </thead>\n",
              "  <tbody>\n",
              "    <tr>\n",
              "      <th>0</th>\n",
              "      <td>25000.0</td>\n",
              "      <td>RUR</td>\n",
              "    </tr>\n",
              "    <tr>\n",
              "      <th>1</th>\n",
              "      <td>50000.0</td>\n",
              "      <td>RUR</td>\n",
              "    </tr>\n",
              "    <tr>\n",
              "      <th>2</th>\n",
              "      <td>75000.0</td>\n",
              "      <td>RUR</td>\n",
              "    </tr>\n",
              "    <tr>\n",
              "      <th>3</th>\n",
              "      <td>100000.0</td>\n",
              "      <td>RUR</td>\n",
              "    </tr>\n",
              "    <tr>\n",
              "      <th>4</th>\n",
              "      <td>100000.0</td>\n",
              "      <td>RUR</td>\n",
              "    </tr>\n",
              "    <tr>\n",
              "      <th>...</th>\n",
              "      <td>...</td>\n",
              "      <td>...</td>\n",
              "    </tr>\n",
              "    <tr>\n",
              "      <th>3329</th>\n",
              "      <td>50000.0</td>\n",
              "      <td>RUR</td>\n",
              "    </tr>\n",
              "    <tr>\n",
              "      <th>3330</th>\n",
              "      <td>50000.0</td>\n",
              "      <td>RUR</td>\n",
              "    </tr>\n",
              "    <tr>\n",
              "      <th>3331</th>\n",
              "      <td>50000.0</td>\n",
              "      <td>RUR</td>\n",
              "    </tr>\n",
              "    <tr>\n",
              "      <th>3332</th>\n",
              "      <td>25000.0</td>\n",
              "      <td>RUR</td>\n",
              "    </tr>\n",
              "    <tr>\n",
              "      <th>3333</th>\n",
              "      <td>25000.0</td>\n",
              "      <td>RUR</td>\n",
              "    </tr>\n",
              "  </tbody>\n",
              "</table>\n",
              "<p>3334 rows × 2 columns</p>\n",
              "</div>\n",
              "      <button class=\"colab-df-convert\" onclick=\"convertToInteractive('df-04a90f70-c0a6-4201-b6dc-4ed99e1e889d')\"\n",
              "              title=\"Convert this dataframe to an interactive table.\"\n",
              "              style=\"display:none;\">\n",
              "        \n",
              "  <svg xmlns=\"http://www.w3.org/2000/svg\" height=\"24px\"viewBox=\"0 0 24 24\"\n",
              "       width=\"24px\">\n",
              "    <path d=\"M0 0h24v24H0V0z\" fill=\"none\"/>\n",
              "    <path d=\"M18.56 5.44l.94 2.06.94-2.06 2.06-.94-2.06-.94-.94-2.06-.94 2.06-2.06.94zm-11 1L8.5 8.5l.94-2.06 2.06-.94-2.06-.94L8.5 2.5l-.94 2.06-2.06.94zm10 10l.94 2.06.94-2.06 2.06-.94-2.06-.94-.94-2.06-.94 2.06-2.06.94z\"/><path d=\"M17.41 7.96l-1.37-1.37c-.4-.4-.92-.59-1.43-.59-.52 0-1.04.2-1.43.59L10.3 9.45l-7.72 7.72c-.78.78-.78 2.05 0 2.83L4 21.41c.39.39.9.59 1.41.59.51 0 1.02-.2 1.41-.59l7.78-7.78 2.81-2.81c.8-.78.8-2.07 0-2.86zM5.41 20L4 18.59l7.72-7.72 1.47 1.35L5.41 20z\"/>\n",
              "  </svg>\n",
              "      </button>\n",
              "      \n",
              "  <style>\n",
              "    .colab-df-container {\n",
              "      display:flex;\n",
              "      flex-wrap:wrap;\n",
              "      gap: 12px;\n",
              "    }\n",
              "\n",
              "    .colab-df-convert {\n",
              "      background-color: #E8F0FE;\n",
              "      border: none;\n",
              "      border-radius: 50%;\n",
              "      cursor: pointer;\n",
              "      display: none;\n",
              "      fill: #1967D2;\n",
              "      height: 32px;\n",
              "      padding: 0 0 0 0;\n",
              "      width: 32px;\n",
              "    }\n",
              "\n",
              "    .colab-df-convert:hover {\n",
              "      background-color: #E2EBFA;\n",
              "      box-shadow: 0px 1px 2px rgba(60, 64, 67, 0.3), 0px 1px 3px 1px rgba(60, 64, 67, 0.15);\n",
              "      fill: #174EA6;\n",
              "    }\n",
              "\n",
              "    [theme=dark] .colab-df-convert {\n",
              "      background-color: #3B4455;\n",
              "      fill: #D2E3FC;\n",
              "    }\n",
              "\n",
              "    [theme=dark] .colab-df-convert:hover {\n",
              "      background-color: #434B5C;\n",
              "      box-shadow: 0px 1px 3px 1px rgba(0, 0, 0, 0.15);\n",
              "      filter: drop-shadow(0px 1px 2px rgba(0, 0, 0, 0.3));\n",
              "      fill: #FFFFFF;\n",
              "    }\n",
              "  </style>\n",
              "\n",
              "      <script>\n",
              "        const buttonEl =\n",
              "          document.querySelector('#df-04a90f70-c0a6-4201-b6dc-4ed99e1e889d button.colab-df-convert');\n",
              "        buttonEl.style.display =\n",
              "          google.colab.kernel.accessAllowed ? 'block' : 'none';\n",
              "\n",
              "        async function convertToInteractive(key) {\n",
              "          const element = document.querySelector('#df-04a90f70-c0a6-4201-b6dc-4ed99e1e889d');\n",
              "          const dataTable =\n",
              "            await google.colab.kernel.invokeFunction('convertToInteractive',\n",
              "                                                     [key], {});\n",
              "          if (!dataTable) return;\n",
              "\n",
              "          const docLinkHtml = 'Like what you see? Visit the ' +\n",
              "            '<a target=\"_blank\" href=https://colab.research.google.com/notebooks/data_table.ipynb>data table notebook</a>'\n",
              "            + ' to learn more about interactive tables.';\n",
              "          element.innerHTML = '';\n",
              "          dataTable['output_type'] = 'display_data';\n",
              "          await google.colab.output.renderOutput(dataTable, element);\n",
              "          const docLink = document.createElement('div');\n",
              "          docLink.innerHTML = docLinkHtml;\n",
              "          element.appendChild(docLink);\n",
              "        }\n",
              "      </script>\n",
              "    </div>\n",
              "  </div>\n",
              "  "
            ]
          },
          "metadata": {},
          "execution_count": 121
        }
      ]
    },
    {
      "cell_type": "code",
      "source": [
        "# проверим список уникальных значений с помощью метода unique()\n",
        "df_copy['currency'].unique()"
      ],
      "metadata": {
        "id": "Jgcokd4mThhm",
        "colab": {
          "base_uri": "https://localhost:8080/"
        },
        "outputId": "287133c5-5192-4296-c677-70ec80fbe21e"
      },
      "execution_count": null,
      "outputs": [
        {
          "output_type": "execute_result",
          "data": {
            "text/plain": [
              "array(['RUR', 'USD', 'KZT', 'EUR'], dtype=object)"
            ]
          },
          "metadata": {},
          "execution_count": 122
        }
      ]
    },
    {
      "cell_type": "code",
      "source": [
        "# необходимо привести значения к единой валюте - рублям\n",
        "# создадим словарь значений (курс валют выберем на текущую дату обработки данных)\n",
        "rates = dict(RUR=1, USD=60.51, EUR=62.42, KZT=0.13)"
      ],
      "metadata": {
        "id": "6gclLI3_Tz7L"
      },
      "execution_count": null,
      "outputs": []
    },
    {
      "cell_type": "code",
      "source": [
        "# рассчитаем столбец costs_to_rur по формуле (rates * costs),\n",
        "# при этом применяя курс в зависимости от указанной валюты\n",
        "# посредством замены значений из словаря rates с помощью метода map()\n",
        "df_copy['costs_to_rur'] = df_copy['currency'].map(rates) * df_copy['costs']\n",
        "df_copy['costs_to_rur']"
      ],
      "metadata": {
        "id": "maZYrLTp6Zji",
        "colab": {
          "base_uri": "https://localhost:8080/"
        },
        "outputId": "fe58939a-71d7-4101-ab2d-1f7df16674a1"
      },
      "execution_count": null,
      "outputs": [
        {
          "output_type": "execute_result",
          "data": {
            "text/plain": [
              "0        25000.0\n",
              "1        50000.0\n",
              "2        75000.0\n",
              "3       100000.0\n",
              "4       100000.0\n",
              "          ...   \n",
              "3329     50000.0\n",
              "3330     50000.0\n",
              "3331     50000.0\n",
              "3332     25000.0\n",
              "3333     25000.0\n",
              "Name: costs_to_rur, Length: 3334, dtype: float64"
            ]
          },
          "metadata": {},
          "execution_count": 173
        }
      ]
    },
    {
      "cell_type": "code",
      "source": [
        "# исключим столбцы costs и currency\n",
        "df_copy.drop(columns=['costs', 'currency'], inplace=True)"
      ],
      "metadata": {
        "id": "tpT7MUEyVx00"
      },
      "execution_count": null,
      "outputs": []
    },
    {
      "cell_type": "code",
      "source": [
        "# контроль результата\n",
        "df_copy.columns"
      ],
      "metadata": {
        "id": "bcmypaSlW02C",
        "colab": {
          "base_uri": "https://localhost:8080/"
        },
        "outputId": "38191dae-c4f0-4e44-b80d-fbdab9f22242"
      },
      "execution_count": null,
      "outputs": [
        {
          "output_type": "execute_result",
          "data": {
            "text/plain": [
              "Index(['id', 'city', 'country', 'last_seen', 'followers_count', 'sex', 'games',\n",
              "       'age', 'costs_to_rur'],\n",
              "      dtype='object')"
            ]
          },
          "metadata": {},
          "execution_count": 126
        }
      ]
    },
    {
      "cell_type": "markdown",
      "source": [
        "## Декодирование значений"
      ],
      "metadata": {
        "id": "Zk1aN9FUgMRZ"
      }
    },
    {
      "cell_type": "markdown",
      "source": [
        "### 'sex'"
      ],
      "metadata": {
        "id": "skM3ibNpjM9i"
      }
    },
    {
      "cell_type": "code",
      "source": [
        "# по тех документации ВКонтакте:\n",
        "# 1 - женский пол,\n",
        "# 2 - мужской пол,\n",
        "# 0 - пол не указан"
      ],
      "metadata": {
        "id": "7C9wD9pDgRGf"
      },
      "execution_count": null,
      "outputs": []
    },
    {
      "cell_type": "code",
      "source": [
        "# проверим список уникальных значений с помощью метода unique()\n",
        "df_copy.sex.unique()"
      ],
      "metadata": {
        "id": "DMt9Ia-D4v6j",
        "colab": {
          "base_uri": "https://localhost:8080/",
          "height": 183
        },
        "outputId": "e36d3476-0841-4e44-89ec-74c87fc0c13b"
      },
      "execution_count": null,
      "outputs": [
        {
          "output_type": "error",
          "ename": "NameError",
          "evalue": "ignored",
          "traceback": [
            "\u001b[0;31m---------------------------------------------------------------------------\u001b[0m",
            "\u001b[0;31mNameError\u001b[0m                                 Traceback (most recent call last)",
            "\u001b[0;32m<ipython-input-2-f4489ebac90f>\u001b[0m in \u001b[0;36m<cell line: 2>\u001b[0;34m()\u001b[0m\n\u001b[1;32m      1\u001b[0m \u001b[0;31m# проверим список уникальных значений с помощью метода unique()\u001b[0m\u001b[0;34m\u001b[0m\u001b[0;34m\u001b[0m\u001b[0m\n\u001b[0;32m----> 2\u001b[0;31m \u001b[0mdf_copy\u001b[0m\u001b[0;34m.\u001b[0m\u001b[0msex\u001b[0m\u001b[0;34m.\u001b[0m\u001b[0munique\u001b[0m\u001b[0;34m(\u001b[0m\u001b[0;34m)\u001b[0m\u001b[0;34m\u001b[0m\u001b[0;34m\u001b[0m\u001b[0m\n\u001b[0m",
            "\u001b[0;31mNameError\u001b[0m: name 'df_copy' is not defined"
          ]
        }
      ]
    },
    {
      "cell_type": "code",
      "source": [
        "# создадим словарь значений в соответствии с тех документацией ВКонтакте\n",
        "sex_dict = {1: \"женский\", 2: \"мужской\", 0: \"не указан\"}"
      ],
      "metadata": {
        "id": "MChM-ZDsjPwU"
      },
      "execution_count": null,
      "outputs": []
    },
    {
      "cell_type": "code",
      "source": [
        "# декодируем значения\n",
        "# (для получения доступа к каждому значению объекта Series \"sex\" используем метод apply() и lambda-функцию)\n",
        "df_copy.sex = df_copy.sex.apply(lambda x: sex_dict[x])"
      ],
      "metadata": {
        "id": "gAJcpkze6h8u"
      },
      "execution_count": null,
      "outputs": []
    },
    {
      "cell_type": "code",
      "source": [
        "# контроль результата\n",
        "df_copy.sex.unique()"
      ],
      "metadata": {
        "id": "T1aykCAlRkz_"
      },
      "execution_count": null,
      "outputs": []
    },
    {
      "cell_type": "markdown",
      "source": [
        "# **Тема 9**"
      ],
      "metadata": {
        "id": "eZTOSJthyIjY"
      }
    },
    {
      "cell_type": "markdown",
      "source": [
        "## Форматирование текстовых данных"
      ],
      "metadata": {
        "id": "3FJQHXfPgTzK"
      }
    },
    {
      "cell_type": "markdown",
      "source": [
        "**Необходимо проверить и отформатировать** следующие признаки:\n",
        "1. 'city'\n",
        "2. 'country'"
      ],
      "metadata": {
        "id": "fUTKuzoijd0J"
      }
    },
    {
      "cell_type": "markdown",
      "source": [
        "### 'city'"
      ],
      "metadata": {
        "id": "BvMUT3_zjeeI"
      }
    },
    {
      "cell_type": "code",
      "source": [
        "# проверим список уникальных значений с помощью метода unique()\n",
        "# при этом сначала выведем количество уникальных значений, используя функцию len(),\n",
        "# а сам список отсортируем по алфавиту с помощью функции sorted() для удобства проверки\n",
        "print(len(df_copy.city.unique()))\n",
        "sorted(df_copy.city.unique())"
      ],
      "metadata": {
        "id": "nIH3U1uHgjpX",
        "colab": {
          "base_uri": "https://localhost:8080/"
        },
        "outputId": "e326bf86-bb91-4f53-a570-28dc4a05ecf8"
      },
      "execution_count": null,
      "outputs": [
        {
          "output_type": "stream",
          "name": "stdout",
          "text": [
            "287\n"
          ]
        },
        {
          "output_type": "execute_result",
          "data": {
            "text/plain": [
              "['Abu Dhabi',\n",
              " 'Amsterdam',\n",
              " 'Bangkok',\n",
              " 'Beograd',\n",
              " 'Boston',\n",
              " 'Bruxelles',\n",
              " 'Budva',\n",
              " 'Chicago',\n",
              " 'Detroit',\n",
              " 'Drammen',\n",
              " 'Durrës',\n",
              " 'Düsseldorf',\n",
              " 'Edinburgh',\n",
              " 'Essen',\n",
              " 'Foster City',\n",
              " 'Frankfurt am Main',\n",
              " 'Gaborone',\n",
              " 'Gdańsk',\n",
              " 'Hamburg',\n",
              " 'Helsinki',\n",
              " 'Leipzig',\n",
              " 'Limassol',\n",
              " 'Liverpool',\n",
              " 'London',\n",
              " 'Los Angeles',\n",
              " 'Madrid',\n",
              " 'Mardān',\n",
              " 'Medellín',\n",
              " 'Milano',\n",
              " 'Monaco',\n",
              " 'Moscow',\n",
              " 'München',\n",
              " 'New York City',\n",
              " 'Old Fort',\n",
              " 'Paphos',\n",
              " 'Pattaya',\n",
              " 'Phuket',\n",
              " 'Praha',\n",
              " 'Saint-Petersburg',\n",
              " 'Sofia',\n",
              " 'Stockholm',\n",
              " 'Stuttgart',\n",
              " 'São Paulo',\n",
              " 'Toronto',\n",
              " 'Warszawa',\n",
              " 'Washington, D.C.',\n",
              " 'Абакан',\n",
              " 'Абинск',\n",
              " 'Алейск',\n",
              " 'Алматы',\n",
              " 'Альметьевск',\n",
              " 'Амирово',\n",
              " 'Анапа',\n",
              " 'Апатиты',\n",
              " 'Архангельск',\n",
              " 'Астрахань',\n",
              " 'Атырау',\n",
              " 'Бабаево',\n",
              " 'Баку',\n",
              " 'Балаково',\n",
              " 'Барнаул',\n",
              " 'Белгород',\n",
              " 'Бердянск',\n",
              " 'Бийск',\n",
              " 'Бишкек',\n",
              " 'Благовещенск',\n",
              " 'Боготол',\n",
              " 'Борисов',\n",
              " 'Братск',\n",
              " 'Брест',\n",
              " 'Брянск',\n",
              " 'Великий Новгород',\n",
              " 'Великий Устюг',\n",
              " 'Вильнюс',\n",
              " 'Владивосток',\n",
              " 'Владикавказ',\n",
              " 'Владимир',\n",
              " 'Волгоград',\n",
              " 'Волжск',\n",
              " 'Волжский',\n",
              " 'Вологда',\n",
              " 'Воронеж',\n",
              " 'Всеволожск',\n",
              " 'Выборг',\n",
              " 'Выкса',\n",
              " 'Вязьма',\n",
              " 'Гатчина',\n",
              " 'Геленджик',\n",
              " 'Гомель',\n",
              " 'Горловка',\n",
              " 'Горно-Алтайск',\n",
              " 'Город не указан',\n",
              " 'Гродно',\n",
              " 'Грозный',\n",
              " 'Гусиноозерск',\n",
              " 'Дедовичи',\n",
              " 'Дмитров',\n",
              " 'Днепр (Днепропетровск)',\n",
              " 'Домодедово',\n",
              " 'Донецк',\n",
              " 'Дубна',\n",
              " 'Дюртюли',\n",
              " 'Ейск',\n",
              " 'Екатеринбург',\n",
              " 'Елабуга',\n",
              " 'Емельяново',\n",
              " 'Ессентуки',\n",
              " 'Жуковский',\n",
              " 'Запорожье',\n",
              " 'Звенигород',\n",
              " 'Зеленоград',\n",
              " 'Златоуст',\n",
              " 'Ивано-Франковск',\n",
              " 'Иерусалим',\n",
              " 'Ижевск',\n",
              " 'Иннополис',\n",
              " 'Иркутск',\n",
              " 'Иткулово',\n",
              " 'Йошкар-Ола',\n",
              " 'Казань',\n",
              " 'Калининград',\n",
              " 'Калуга',\n",
              " 'Караганда',\n",
              " 'Кашира',\n",
              " 'Кемерово',\n",
              " 'Киев',\n",
              " 'Кингисепп',\n",
              " 'Кириши',\n",
              " 'Киров',\n",
              " 'Кировск',\n",
              " 'Киселевск',\n",
              " 'Кишинев',\n",
              " 'Клин',\n",
              " 'Ковров',\n",
              " 'Коломна',\n",
              " 'Колпино',\n",
              " 'Комсомольск-на-Амуре',\n",
              " 'Королёв',\n",
              " 'Кострома',\n",
              " 'Котлас',\n",
              " 'Краснодар',\n",
              " 'Краснодарский',\n",
              " 'Краснознаменск',\n",
              " 'Красноярск',\n",
              " 'Красный Кут',\n",
              " 'Кропоткин',\n",
              " 'Кубинка',\n",
              " 'Кудрово',\n",
              " 'Курган',\n",
              " 'Курск',\n",
              " 'Кызыл',\n",
              " 'Ленинск-Кузнецкий',\n",
              " 'Ленск',\n",
              " 'Лида',\n",
              " 'Липецк',\n",
              " 'Лобня',\n",
              " 'Лоев',\n",
              " 'Ломоносов',\n",
              " 'Лох',\n",
              " 'Львов',\n",
              " 'Магнитогорск',\n",
              " 'Майкоп',\n",
              " 'Махачкала',\n",
              " 'Мелитополь',\n",
              " 'Минск',\n",
              " 'Мончегорск',\n",
              " 'Москва',\n",
              " 'Мурманск',\n",
              " 'Муром',\n",
              " 'Мытищи',\n",
              " 'Набережные Челны',\n",
              " 'Надым',\n",
              " 'Нефтеюганск',\n",
              " 'Нижневартовск',\n",
              " 'Нижний Новгород',\n",
              " 'Нижний Тагил',\n",
              " 'Нижняя Язьва',\n",
              " 'Новоаганск',\n",
              " 'Нововоронеж',\n",
              " 'Новокузнецк',\n",
              " 'Новосибирск',\n",
              " 'Новочеркасск',\n",
              " 'Ногинск',\n",
              " 'Норильск',\n",
              " 'Нур-Султан / Астана',\n",
              " 'Обнинск',\n",
              " 'Одесса',\n",
              " 'Одинцово',\n",
              " 'Октябрьский',\n",
              " 'Омск',\n",
              " 'Оренбург',\n",
              " 'Орехово-Зуево',\n",
              " 'Орск',\n",
              " 'Орёл',\n",
              " 'Павловский Посад',\n",
              " 'Партенит',\n",
              " 'Пенза',\n",
              " 'Пермь',\n",
              " 'Петрозаводск',\n",
              " 'Петропавловск-Камчатский',\n",
              " 'Питкяранта',\n",
              " 'Подольск',\n",
              " 'Припять',\n",
              " 'Псков',\n",
              " 'Пушкино',\n",
              " 'Пятигорск',\n",
              " 'Ростов-на-Дону',\n",
              " 'Рязань',\n",
              " 'Салават',\n",
              " 'Салехард',\n",
              " 'Самара',\n",
              " 'Санкт-Петербург',\n",
              " 'Саранск',\n",
              " 'Саратов',\n",
              " 'Саянск',\n",
              " 'Севастополь',\n",
              " 'Северодвинск',\n",
              " 'Североморск',\n",
              " 'Сергиев Посад',\n",
              " 'Сестрорецк',\n",
              " 'Симферополь',\n",
              " 'Смоленск',\n",
              " 'Снежинск',\n",
              " 'Советск',\n",
              " 'Солнечногорск',\n",
              " 'Сосновый Бор',\n",
              " 'Сочи',\n",
              " 'Ставрополь',\n",
              " 'Старая Русса',\n",
              " 'Старица',\n",
              " 'Сургут',\n",
              " 'Сыктывкар',\n",
              " 'Таганрог',\n",
              " 'Таллин',\n",
              " 'Татарка',\n",
              " 'Татарск',\n",
              " 'Ташкент',\n",
              " 'Тверь',\n",
              " 'Тель-Авив',\n",
              " 'Тикси',\n",
              " 'Тихвин',\n",
              " 'Тобольск',\n",
              " 'Тогучин',\n",
              " 'Токмок',\n",
              " 'Тольятти',\n",
              " 'Томск',\n",
              " 'Торжок',\n",
              " 'Тосно',\n",
              " 'Троицк',\n",
              " 'Туапсе',\n",
              " 'Тула',\n",
              " 'Тюмень',\n",
              " 'Улан-Удэ',\n",
              " 'Ульяновск',\n",
              " 'Уральск',\n",
              " 'Усинск',\n",
              " 'Усолье-Сибирское',\n",
              " 'Уссурийск',\n",
              " 'Уфа',\n",
              " 'Феодосия',\n",
              " 'Фрязино',\n",
              " 'Хабаровск',\n",
              " 'Ханты-Мансийск',\n",
              " 'Харьков',\n",
              " 'Хотьково',\n",
              " 'Хохлята',\n",
              " 'Чаплыгин',\n",
              " 'Чебаркуль',\n",
              " 'Чебоксары',\n",
              " 'Челябинск',\n",
              " 'Череповец',\n",
              " 'Черкесск',\n",
              " 'Черновцы',\n",
              " 'Чехов',\n",
              " 'Чита',\n",
              " 'Шадринск',\n",
              " 'Шелехов',\n",
              " 'Электросталь',\n",
              " 'Элиста',\n",
              " 'Энгельс',\n",
              " 'Южно-Сахалинск',\n",
              " 'Южноуральск',\n",
              " 'Юрюзань',\n",
              " 'Якутск',\n",
              " 'Ярославль',\n",
              " 'москва',\n",
              " 'санкт-петербург']"
            ]
          },
          "metadata": {},
          "execution_count": 180
        }
      ]
    },
    {
      "cell_type": "markdown",
      "source": [
        "В датасете 287 уникальных значений по признаку city.\n",
        "Изучив значения, можно выделить следующие проблемы:\n",
        "1. часть названий на иностранном языке, часть на русском (в данном случае иностранные города оставим на иностранном языке, осуществим замену только по городам - 'Moscow' и 'Saint-Petersburg'.\n",
        "2. большинство названий - с заглавной буквы, но встречаются начинающиеся со строчной - 'москва', 'санкт-петербург' (целесообразно привести все буквы к единому регистру)"
      ],
      "metadata": {
        "id": "PoLw8CFZicsS"
      }
    },
    {
      "cell_type": "code",
      "source": [
        "# приведем значения к единому регистру (строчным буквам) с помощью метода str.lower()\n",
        "# (к заглавным буквам можно привести с помощью метода str.upper())\n",
        "df_copy.city = df_copy.city.str.lower()\n",
        "df_copy.city"
      ],
      "metadata": {
        "id": "qwUrITXwXo4U",
        "colab": {
          "base_uri": "https://localhost:8080/"
        },
        "outputId": "9f6eebcf-924a-40ee-8fb6-b83ae60d611a"
      },
      "execution_count": null,
      "outputs": [
        {
          "output_type": "execute_result",
          "data": {
            "text/plain": [
              "0       saint-petersburg\n",
              "1        город не указан\n",
              "2            новосибирск\n",
              "3       saint-petersburg\n",
              "4        город не указан\n",
              "              ...       \n",
              "3329     санкт-петербург\n",
              "3330     город не указан\n",
              "3331     город не указан\n",
              "3332     город не указан\n",
              "3333     город не указан\n",
              "Name: city, Length: 3334, dtype: object"
            ]
          },
          "metadata": {},
          "execution_count": 181
        }
      ]
    },
    {
      "cell_type": "code",
      "source": [
        "# заменим значение 'moscow' на 'москва',\n",
        "# используя конструкцию df.loc[df[\"column_name\"] == \"some_value\", \"column_name\"] = \"значение\"\n",
        "# и указав точное значение 'moscow' в условии фильтра\n",
        "df_copy.loc[df_copy.city == 'moscow', 'city'] = 'москва'"
      ],
      "metadata": {
        "id": "jrc6XAmrlc7W"
      },
      "execution_count": null,
      "outputs": []
    },
    {
      "cell_type": "code",
      "source": [
        "# заменим значение 'saint-petersburg' на 'санкт-петербург',\n",
        "# используя конструкцию df.loc[df[\"column_name\"] == \"some_value\", \"column_name\"] = \"значение\"\n",
        "# и указав часть подстроки 'petersburg' в методе str.contains() в качестве фильтра\n",
        "df_copy.loc[df_copy.city.str.contains('petersburg'), 'city'] = 'санкт-петербург'"
      ],
      "metadata": {
        "id": "xmN8ZmHAosCU"
      },
      "execution_count": null,
      "outputs": []
    },
    {
      "cell_type": "code",
      "source": [
        "# контроль результата\n",
        "print(f'Кол-во уникальных значений признака city: {len(df_copy.city.unique())}')\n",
        "print()\n",
        "print(f'Проверка на наличие значения \"moscow\" в \"city\": {df_copy[df_copy.city == \"moscow\"]}')\n",
        "print()\n",
        "df_copy.city"
      ],
      "metadata": {
        "id": "UKBdkXjXpx_n",
        "colab": {
          "base_uri": "https://localhost:8080/"
        },
        "outputId": "79b1e94f-e141-4e98-ba9d-2a5dda8faaba"
      },
      "execution_count": null,
      "outputs": [
        {
          "output_type": "stream",
          "name": "stdout",
          "text": [
            "Кол-во уникальных значений признака city: 283\n",
            "\n",
            "Проверка на наличие значения \"moscow\" в \"city\": Empty DataFrame\n",
            "Columns: [id, city, country, last_seen, followers_count, sex, games, age, costs_to_rur]\n",
            "Index: []\n",
            "\n"
          ]
        },
        {
          "output_type": "execute_result",
          "data": {
            "text/plain": [
              "0       санкт-петербург\n",
              "1       город не указан\n",
              "2           новосибирск\n",
              "3       санкт-петербург\n",
              "4       город не указан\n",
              "             ...       \n",
              "3329    санкт-петербург\n",
              "3330    город не указан\n",
              "3331    город не указан\n",
              "3332    город не указан\n",
              "3333    город не указан\n",
              "Name: city, Length: 3334, dtype: object"
            ]
          },
          "metadata": {},
          "execution_count": 184
        }
      ]
    },
    {
      "cell_type": "markdown",
      "source": [
        "### 'country'"
      ],
      "metadata": {
        "id": "jzSd6KBRjxxp"
      }
    },
    {
      "cell_type": "code",
      "source": [
        "# проверим список уникальных значений с помощью метода unique()\n",
        "# при этом сначала выведем количество уникальных значений, используя функцию len(),\n",
        "# а сам список отсортируем по алфавиту с помощью функции sorted() для удобства проверки\n",
        "print(len(df_copy.country.unique()))\n",
        "sorted(df_copy.country.unique())"
      ],
      "metadata": {
        "id": "1VbfyyCOjx_W",
        "colab": {
          "base_uri": "https://localhost:8080/"
        },
        "outputId": "d58a0eee-20bb-4c8d-83df-1cf8f39a35db"
      },
      "execution_count": null,
      "outputs": [
        {
          "output_type": "stream",
          "name": "stdout",
          "text": [
            "40\n"
          ]
        },
        {
          "output_type": "execute_result",
          "data": {
            "text/plain": [
              "['Азербайджан',\n",
              " 'Албания',\n",
              " 'Антигуа и Барбуда',\n",
              " 'Беларусь',\n",
              " 'Бельгия',\n",
              " 'Болгария',\n",
              " 'Ботсвана',\n",
              " 'Бразилия',\n",
              " 'Великобритания',\n",
              " 'Германия',\n",
              " 'Джерси',\n",
              " 'Израиль',\n",
              " 'Испания',\n",
              " 'Италия',\n",
              " 'Казахстан',\n",
              " 'Канада',\n",
              " 'Кипр',\n",
              " 'Колумбия',\n",
              " 'Кыргызстан',\n",
              " 'Литва',\n",
              " 'Мальта',\n",
              " 'Молдова',\n",
              " 'Монако',\n",
              " 'Нидерланды',\n",
              " 'Норвегия',\n",
              " 'Объединенные Арабские Эмираты',\n",
              " 'Пакистан',\n",
              " 'Польша',\n",
              " 'Россия',\n",
              " 'США',\n",
              " 'Сербия',\n",
              " 'Таиланд',\n",
              " 'Узбекистан',\n",
              " 'Украина',\n",
              " 'Финляндия',\n",
              " 'Черногория',\n",
              " 'Чехия',\n",
              " 'Швеция',\n",
              " 'Эстония',\n",
              " 'Южно-Африканская Республика']"
            ]
          },
          "metadata": {},
          "execution_count": 185
        }
      ]
    },
    {
      "cell_type": "code",
      "source": [
        "# 40 уникальных значений по признаку 'country'\n",
        "# все значения на русском языке и нет повторяющихся, но написанных в разных регистрах\n",
        "# однако для удобства дальнейшего анализа также переведем значения в единый регистр букв\n",
        "df_copy.country = df_copy.country.str.lower()\n",
        "df_copy.country"
      ],
      "metadata": {
        "id": "RVa5o9iasDxD",
        "colab": {
          "base_uri": "https://localhost:8080/"
        },
        "outputId": "acf34a4f-137b-4ac2-fb3a-5d1edb66f58a"
      },
      "execution_count": null,
      "outputs": [
        {
          "output_type": "execute_result",
          "data": {
            "text/plain": [
              "0       россия\n",
              "1       россия\n",
              "2       россия\n",
              "3       россия\n",
              "4       россия\n",
              "         ...  \n",
              "3329    россия\n",
              "3330    россия\n",
              "3331    россия\n",
              "3332    россия\n",
              "3333    россия\n",
              "Name: country, Length: 3334, dtype: object"
            ]
          },
          "metadata": {},
          "execution_count": 186
        }
      ]
    },
    {
      "cell_type": "markdown",
      "source": [
        "## Проверка и сохранение датасета"
      ],
      "metadata": {
        "id": "WG2AYwlJglrt"
      }
    },
    {
      "cell_type": "markdown",
      "source": [
        "### Общий датасет"
      ],
      "metadata": {
        "id": "__D5jyp5kCSa"
      }
    },
    {
      "cell_type": "code",
      "source": [
        "# обзор размеров датафрейма\n",
        "df_copy.shape"
      ],
      "metadata": {
        "id": "2pRZISQAtIn9",
        "colab": {
          "base_uri": "https://localhost:8080/"
        },
        "outputId": "6892135c-3989-48cb-f4a7-cf1631923d89"
      },
      "execution_count": null,
      "outputs": [
        {
          "output_type": "execute_result",
          "data": {
            "text/plain": [
              "(3334, 9)"
            ]
          },
          "metadata": {},
          "execution_count": 187
        }
      ]
    },
    {
      "cell_type": "code",
      "source": [
        "# обзор типов данных, пропущенных значений, диапазона индексов\n",
        "df_copy.info()"
      ],
      "metadata": {
        "id": "LIVcoF1ft1CK",
        "colab": {
          "base_uri": "https://localhost:8080/"
        },
        "outputId": "9b7f339f-dcb8-4050-bb1e-886c6c7afe96"
      },
      "execution_count": null,
      "outputs": [
        {
          "output_type": "stream",
          "name": "stdout",
          "text": [
            "<class 'pandas.core.frame.DataFrame'>\n",
            "Int64Index: 3334 entries, 0 to 3333\n",
            "Data columns (total 9 columns):\n",
            " #   Column           Non-Null Count  Dtype  \n",
            "---  ------           --------------  -----  \n",
            " 0   id               3334 non-null   int64  \n",
            " 1   city             3334 non-null   object \n",
            " 2   country          3334 non-null   object \n",
            " 3   last_seen        3310 non-null   object \n",
            " 4   followers_count  2506 non-null   Int64  \n",
            " 5   sex              3334 non-null   object \n",
            " 6   games            3334 non-null   object \n",
            " 7   age              3334 non-null   int64  \n",
            " 8   costs_to_rur     3334 non-null   float64\n",
            "dtypes: Int64(1), float64(1), int64(2), object(5)\n",
            "memory usage: 263.7+ KB\n"
          ]
        }
      ]
    },
    {
      "cell_type": "code",
      "source": [
        "# обзор содержания датасета\n",
        "df_copy.head()"
      ],
      "metadata": {
        "id": "UP_ClAw1tYSj",
        "colab": {
          "base_uri": "https://localhost:8080/",
          "height": 250
        },
        "outputId": "d84c77ae-ec5d-40d2-df77-bce5ade525dd"
      },
      "execution_count": null,
      "outputs": [
        {
          "output_type": "execute_result",
          "data": {
            "text/plain": [
              "     id             city country   last_seen  followers_count      sex  \\\n",
              "0    19  санкт-петербург  россия  03.09.2022            39326  женский   \n",
              "1   510  город не указан  россия  24.08.2022            19698  мужской   \n",
              "2   674      новосибирск  россия  03.09.2022             <NA>  мужской   \n",
              "3  1018  санкт-петербург  россия  19.02.2021             <NA>  мужской   \n",
              "4  1586  город не указан  россия  27.04.2021            31433  мужской   \n",
              "\n",
              "                                         games  age  costs_to_rur  \n",
              "0                [Dota 2, CS:GO, Warcraft III]   17       25000.0  \n",
              "1  [League of Legends, Valorant, Apex Legends]   37       50000.0  \n",
              "2                                   [Fortnite]   43       75000.0  \n",
              "3               [PUBG, Hearthstone, Overwatch]   20      100000.0  \n",
              "4                                       [FIFA]   33      100000.0  "
            ],
            "text/html": [
              "\n",
              "  <div id=\"df-c47c7860-19f9-4eab-80b2-175ac2b615f7\">\n",
              "    <div class=\"colab-df-container\">\n",
              "      <div>\n",
              "<style scoped>\n",
              "    .dataframe tbody tr th:only-of-type {\n",
              "        vertical-align: middle;\n",
              "    }\n",
              "\n",
              "    .dataframe tbody tr th {\n",
              "        vertical-align: top;\n",
              "    }\n",
              "\n",
              "    .dataframe thead th {\n",
              "        text-align: right;\n",
              "    }\n",
              "</style>\n",
              "<table border=\"1\" class=\"dataframe\">\n",
              "  <thead>\n",
              "    <tr style=\"text-align: right;\">\n",
              "      <th></th>\n",
              "      <th>id</th>\n",
              "      <th>city</th>\n",
              "      <th>country</th>\n",
              "      <th>last_seen</th>\n",
              "      <th>followers_count</th>\n",
              "      <th>sex</th>\n",
              "      <th>games</th>\n",
              "      <th>age</th>\n",
              "      <th>costs_to_rur</th>\n",
              "    </tr>\n",
              "  </thead>\n",
              "  <tbody>\n",
              "    <tr>\n",
              "      <th>0</th>\n",
              "      <td>19</td>\n",
              "      <td>санкт-петербург</td>\n",
              "      <td>россия</td>\n",
              "      <td>03.09.2022</td>\n",
              "      <td>39326</td>\n",
              "      <td>женский</td>\n",
              "      <td>[Dota 2, CS:GO, Warcraft III]</td>\n",
              "      <td>17</td>\n",
              "      <td>25000.0</td>\n",
              "    </tr>\n",
              "    <tr>\n",
              "      <th>1</th>\n",
              "      <td>510</td>\n",
              "      <td>город не указан</td>\n",
              "      <td>россия</td>\n",
              "      <td>24.08.2022</td>\n",
              "      <td>19698</td>\n",
              "      <td>мужской</td>\n",
              "      <td>[League of Legends, Valorant, Apex Legends]</td>\n",
              "      <td>37</td>\n",
              "      <td>50000.0</td>\n",
              "    </tr>\n",
              "    <tr>\n",
              "      <th>2</th>\n",
              "      <td>674</td>\n",
              "      <td>новосибирск</td>\n",
              "      <td>россия</td>\n",
              "      <td>03.09.2022</td>\n",
              "      <td>&lt;NA&gt;</td>\n",
              "      <td>мужской</td>\n",
              "      <td>[Fortnite]</td>\n",
              "      <td>43</td>\n",
              "      <td>75000.0</td>\n",
              "    </tr>\n",
              "    <tr>\n",
              "      <th>3</th>\n",
              "      <td>1018</td>\n",
              "      <td>санкт-петербург</td>\n",
              "      <td>россия</td>\n",
              "      <td>19.02.2021</td>\n",
              "      <td>&lt;NA&gt;</td>\n",
              "      <td>мужской</td>\n",
              "      <td>[PUBG, Hearthstone, Overwatch]</td>\n",
              "      <td>20</td>\n",
              "      <td>100000.0</td>\n",
              "    </tr>\n",
              "    <tr>\n",
              "      <th>4</th>\n",
              "      <td>1586</td>\n",
              "      <td>город не указан</td>\n",
              "      <td>россия</td>\n",
              "      <td>27.04.2021</td>\n",
              "      <td>31433</td>\n",
              "      <td>мужской</td>\n",
              "      <td>[FIFA]</td>\n",
              "      <td>33</td>\n",
              "      <td>100000.0</td>\n",
              "    </tr>\n",
              "  </tbody>\n",
              "</table>\n",
              "</div>\n",
              "      <button class=\"colab-df-convert\" onclick=\"convertToInteractive('df-c47c7860-19f9-4eab-80b2-175ac2b615f7')\"\n",
              "              title=\"Convert this dataframe to an interactive table.\"\n",
              "              style=\"display:none;\">\n",
              "        \n",
              "  <svg xmlns=\"http://www.w3.org/2000/svg\" height=\"24px\"viewBox=\"0 0 24 24\"\n",
              "       width=\"24px\">\n",
              "    <path d=\"M0 0h24v24H0V0z\" fill=\"none\"/>\n",
              "    <path d=\"M18.56 5.44l.94 2.06.94-2.06 2.06-.94-2.06-.94-.94-2.06-.94 2.06-2.06.94zm-11 1L8.5 8.5l.94-2.06 2.06-.94-2.06-.94L8.5 2.5l-.94 2.06-2.06.94zm10 10l.94 2.06.94-2.06 2.06-.94-2.06-.94-.94-2.06-.94 2.06-2.06.94z\"/><path d=\"M17.41 7.96l-1.37-1.37c-.4-.4-.92-.59-1.43-.59-.52 0-1.04.2-1.43.59L10.3 9.45l-7.72 7.72c-.78.78-.78 2.05 0 2.83L4 21.41c.39.39.9.59 1.41.59.51 0 1.02-.2 1.41-.59l7.78-7.78 2.81-2.81c.8-.78.8-2.07 0-2.86zM5.41 20L4 18.59l7.72-7.72 1.47 1.35L5.41 20z\"/>\n",
              "  </svg>\n",
              "      </button>\n",
              "      \n",
              "  <style>\n",
              "    .colab-df-container {\n",
              "      display:flex;\n",
              "      flex-wrap:wrap;\n",
              "      gap: 12px;\n",
              "    }\n",
              "\n",
              "    .colab-df-convert {\n",
              "      background-color: #E8F0FE;\n",
              "      border: none;\n",
              "      border-radius: 50%;\n",
              "      cursor: pointer;\n",
              "      display: none;\n",
              "      fill: #1967D2;\n",
              "      height: 32px;\n",
              "      padding: 0 0 0 0;\n",
              "      width: 32px;\n",
              "    }\n",
              "\n",
              "    .colab-df-convert:hover {\n",
              "      background-color: #E2EBFA;\n",
              "      box-shadow: 0px 1px 2px rgba(60, 64, 67, 0.3), 0px 1px 3px 1px rgba(60, 64, 67, 0.15);\n",
              "      fill: #174EA6;\n",
              "    }\n",
              "\n",
              "    [theme=dark] .colab-df-convert {\n",
              "      background-color: #3B4455;\n",
              "      fill: #D2E3FC;\n",
              "    }\n",
              "\n",
              "    [theme=dark] .colab-df-convert:hover {\n",
              "      background-color: #434B5C;\n",
              "      box-shadow: 0px 1px 3px 1px rgba(0, 0, 0, 0.15);\n",
              "      filter: drop-shadow(0px 1px 2px rgba(0, 0, 0, 0.3));\n",
              "      fill: #FFFFFF;\n",
              "    }\n",
              "  </style>\n",
              "\n",
              "      <script>\n",
              "        const buttonEl =\n",
              "          document.querySelector('#df-c47c7860-19f9-4eab-80b2-175ac2b615f7 button.colab-df-convert');\n",
              "        buttonEl.style.display =\n",
              "          google.colab.kernel.accessAllowed ? 'block' : 'none';\n",
              "\n",
              "        async function convertToInteractive(key) {\n",
              "          const element = document.querySelector('#df-c47c7860-19f9-4eab-80b2-175ac2b615f7');\n",
              "          const dataTable =\n",
              "            await google.colab.kernel.invokeFunction('convertToInteractive',\n",
              "                                                     [key], {});\n",
              "          if (!dataTable) return;\n",
              "\n",
              "          const docLinkHtml = 'Like what you see? Visit the ' +\n",
              "            '<a target=\"_blank\" href=https://colab.research.google.com/notebooks/data_table.ipynb>data table notebook</a>'\n",
              "            + ' to learn more about interactive tables.';\n",
              "          element.innerHTML = '';\n",
              "          dataTable['output_type'] = 'display_data';\n",
              "          await google.colab.output.renderOutput(dataTable, element);\n",
              "          const docLink = document.createElement('div');\n",
              "          docLink.innerHTML = docLinkHtml;\n",
              "          element.appendChild(docLink);\n",
              "        }\n",
              "      </script>\n",
              "    </div>\n",
              "  </div>\n",
              "  "
            ]
          },
          "metadata": {},
          "execution_count": 189
        }
      ]
    },
    {
      "cell_type": "code",
      "source": [
        "# данные удовлетворяют условиям задания\n",
        "# последний штрих: расположим столбцы в порядке, указанном в условии задания\n",
        "columns = ['id', 'age', 'sex', 'city', 'country', 'followers_count', 'last_seen', 'costs_to_rur', 'games']\n",
        "df_copy = df_copy[columns]"
      ],
      "metadata": {
        "id": "F0BhyxakvHTJ"
      },
      "execution_count": null,
      "outputs": []
    },
    {
      "cell_type": "code",
      "source": [
        "# контроль результата\n",
        "df_copy.head(1)"
      ],
      "metadata": {
        "id": "X7vL6Rsjxl8W",
        "colab": {
          "base_uri": "https://localhost:8080/",
          "height": 81
        },
        "outputId": "96614d7e-585f-4a2f-91f2-89aef29a2006"
      },
      "execution_count": null,
      "outputs": [
        {
          "output_type": "execute_result",
          "data": {
            "text/plain": [
              "   id  age      sex             city country  followers_count   last_seen  \\\n",
              "0  19   17  женский  санкт-петербург  россия            39326  03.09.2022   \n",
              "\n",
              "   costs_to_rur                          games  \n",
              "0       25000.0  [Dota 2, CS:GO, Warcraft III]  "
            ],
            "text/html": [
              "\n",
              "  <div id=\"df-c462cac5-209a-4ef4-aef0-414331b031c2\">\n",
              "    <div class=\"colab-df-container\">\n",
              "      <div>\n",
              "<style scoped>\n",
              "    .dataframe tbody tr th:only-of-type {\n",
              "        vertical-align: middle;\n",
              "    }\n",
              "\n",
              "    .dataframe tbody tr th {\n",
              "        vertical-align: top;\n",
              "    }\n",
              "\n",
              "    .dataframe thead th {\n",
              "        text-align: right;\n",
              "    }\n",
              "</style>\n",
              "<table border=\"1\" class=\"dataframe\">\n",
              "  <thead>\n",
              "    <tr style=\"text-align: right;\">\n",
              "      <th></th>\n",
              "      <th>id</th>\n",
              "      <th>age</th>\n",
              "      <th>sex</th>\n",
              "      <th>city</th>\n",
              "      <th>country</th>\n",
              "      <th>followers_count</th>\n",
              "      <th>last_seen</th>\n",
              "      <th>costs_to_rur</th>\n",
              "      <th>games</th>\n",
              "    </tr>\n",
              "  </thead>\n",
              "  <tbody>\n",
              "    <tr>\n",
              "      <th>0</th>\n",
              "      <td>19</td>\n",
              "      <td>17</td>\n",
              "      <td>женский</td>\n",
              "      <td>санкт-петербург</td>\n",
              "      <td>россия</td>\n",
              "      <td>39326</td>\n",
              "      <td>03.09.2022</td>\n",
              "      <td>25000.0</td>\n",
              "      <td>[Dota 2, CS:GO, Warcraft III]</td>\n",
              "    </tr>\n",
              "  </tbody>\n",
              "</table>\n",
              "</div>\n",
              "      <button class=\"colab-df-convert\" onclick=\"convertToInteractive('df-c462cac5-209a-4ef4-aef0-414331b031c2')\"\n",
              "              title=\"Convert this dataframe to an interactive table.\"\n",
              "              style=\"display:none;\">\n",
              "        \n",
              "  <svg xmlns=\"http://www.w3.org/2000/svg\" height=\"24px\"viewBox=\"0 0 24 24\"\n",
              "       width=\"24px\">\n",
              "    <path d=\"M0 0h24v24H0V0z\" fill=\"none\"/>\n",
              "    <path d=\"M18.56 5.44l.94 2.06.94-2.06 2.06-.94-2.06-.94-.94-2.06-.94 2.06-2.06.94zm-11 1L8.5 8.5l.94-2.06 2.06-.94-2.06-.94L8.5 2.5l-.94 2.06-2.06.94zm10 10l.94 2.06.94-2.06 2.06-.94-2.06-.94-.94-2.06-.94 2.06-2.06.94z\"/><path d=\"M17.41 7.96l-1.37-1.37c-.4-.4-.92-.59-1.43-.59-.52 0-1.04.2-1.43.59L10.3 9.45l-7.72 7.72c-.78.78-.78 2.05 0 2.83L4 21.41c.39.39.9.59 1.41.59.51 0 1.02-.2 1.41-.59l7.78-7.78 2.81-2.81c.8-.78.8-2.07 0-2.86zM5.41 20L4 18.59l7.72-7.72 1.47 1.35L5.41 20z\"/>\n",
              "  </svg>\n",
              "      </button>\n",
              "      \n",
              "  <style>\n",
              "    .colab-df-container {\n",
              "      display:flex;\n",
              "      flex-wrap:wrap;\n",
              "      gap: 12px;\n",
              "    }\n",
              "\n",
              "    .colab-df-convert {\n",
              "      background-color: #E8F0FE;\n",
              "      border: none;\n",
              "      border-radius: 50%;\n",
              "      cursor: pointer;\n",
              "      display: none;\n",
              "      fill: #1967D2;\n",
              "      height: 32px;\n",
              "      padding: 0 0 0 0;\n",
              "      width: 32px;\n",
              "    }\n",
              "\n",
              "    .colab-df-convert:hover {\n",
              "      background-color: #E2EBFA;\n",
              "      box-shadow: 0px 1px 2px rgba(60, 64, 67, 0.3), 0px 1px 3px 1px rgba(60, 64, 67, 0.15);\n",
              "      fill: #174EA6;\n",
              "    }\n",
              "\n",
              "    [theme=dark] .colab-df-convert {\n",
              "      background-color: #3B4455;\n",
              "      fill: #D2E3FC;\n",
              "    }\n",
              "\n",
              "    [theme=dark] .colab-df-convert:hover {\n",
              "      background-color: #434B5C;\n",
              "      box-shadow: 0px 1px 3px 1px rgba(0, 0, 0, 0.15);\n",
              "      filter: drop-shadow(0px 1px 2px rgba(0, 0, 0, 0.3));\n",
              "      fill: #FFFFFF;\n",
              "    }\n",
              "  </style>\n",
              "\n",
              "      <script>\n",
              "        const buttonEl =\n",
              "          document.querySelector('#df-c462cac5-209a-4ef4-aef0-414331b031c2 button.colab-df-convert');\n",
              "        buttonEl.style.display =\n",
              "          google.colab.kernel.accessAllowed ? 'block' : 'none';\n",
              "\n",
              "        async function convertToInteractive(key) {\n",
              "          const element = document.querySelector('#df-c462cac5-209a-4ef4-aef0-414331b031c2');\n",
              "          const dataTable =\n",
              "            await google.colab.kernel.invokeFunction('convertToInteractive',\n",
              "                                                     [key], {});\n",
              "          if (!dataTable) return;\n",
              "\n",
              "          const docLinkHtml = 'Like what you see? Visit the ' +\n",
              "            '<a target=\"_blank\" href=https://colab.research.google.com/notebooks/data_table.ipynb>data table notebook</a>'\n",
              "            + ' to learn more about interactive tables.';\n",
              "          element.innerHTML = '';\n",
              "          dataTable['output_type'] = 'display_data';\n",
              "          await google.colab.output.renderOutput(dataTable, element);\n",
              "          const docLink = document.createElement('div');\n",
              "          docLink.innerHTML = docLinkHtml;\n",
              "          element.appendChild(docLink);\n",
              "        }\n",
              "      </script>\n",
              "    </div>\n",
              "  </div>\n",
              "  "
            ]
          },
          "metadata": {},
          "execution_count": 191
        }
      ]
    },
    {
      "cell_type": "code",
      "source": [
        "# сохраним результаты в файл в формате xlsx,\n",
        "# при этом не записывая столбец с индексами, указав параметр index=False\n",
        "df_copy.to_excel('shop_users_clean.xlsx', index=False)"
      ],
      "metadata": {
        "id": "LaPFO9wsg16H"
      },
      "execution_count": null,
      "outputs": []
    },
    {
      "cell_type": "markdown",
      "source": [
        "### Датасет с \"распакованными\" играми"
      ],
      "metadata": {
        "id": "xdUMmB2ckApB"
      }
    },
    {
      "cell_type": "code",
      "source": [
        "# дополнительно \"распакуем\" датасет по спискам игр признака 'games' с помощью метода explode()\n",
        "df_games = df_copy.explode('games')\n",
        "df_games"
      ],
      "metadata": {
        "id": "ILiLvqsXypC8",
        "colab": {
          "base_uri": "https://localhost:8080/",
          "height": 424
        },
        "outputId": "9572ca86-3125-4cc3-88f0-82bf5f9a999e"
      },
      "execution_count": null,
      "outputs": [
        {
          "output_type": "execute_result",
          "data": {
            "text/plain": [
              "             id  age      sex             city country  followers_count  \\\n",
              "0            19   17  женский  санкт-петербург  россия            39326   \n",
              "0            19   17  женский  санкт-петербург  россия            39326   \n",
              "0            19   17  женский  санкт-петербург  россия            39326   \n",
              "1           510   37  мужской  город не указан  россия            19698   \n",
              "1           510   37  мужской  город не указан  россия            19698   \n",
              "...         ...  ...      ...              ...     ...              ...   \n",
              "3330  741278238   32  мужской  город не указан  россия             <NA>   \n",
              "3330  741278238   32  мужской  город не указан  россия             <NA>   \n",
              "3331  741268233   16  мужской  город не указан  россия                0   \n",
              "3332  741254343   21  мужской  город не указан  россия                1   \n",
              "3333  741237782   22  мужской  город не указан  россия             <NA>   \n",
              "\n",
              "       last_seen  costs_to_rur              games  \n",
              "0     03.09.2022       25000.0             Dota 2  \n",
              "0     03.09.2022       25000.0              CS:GO  \n",
              "0     03.09.2022       25000.0       Warcraft III  \n",
              "1     24.08.2022       50000.0  League of Legends  \n",
              "1     24.08.2022       50000.0           Valorant  \n",
              "...          ...           ...                ...  \n",
              "3330  26.07.2022       50000.0        Hearthstone  \n",
              "3330  26.07.2022       50000.0          Overwatch  \n",
              "3331  03.09.2022       50000.0              CS:GO  \n",
              "3332  03.09.2022       25000.0              CS:GO  \n",
              "3333  29.08.2022       25000.0              CS:GO  \n",
              "\n",
              "[4608 rows x 9 columns]"
            ],
            "text/html": [
              "\n",
              "  <div id=\"df-c51165b7-b565-4ba9-9cbc-5172f177f69c\">\n",
              "    <div class=\"colab-df-container\">\n",
              "      <div>\n",
              "<style scoped>\n",
              "    .dataframe tbody tr th:only-of-type {\n",
              "        vertical-align: middle;\n",
              "    }\n",
              "\n",
              "    .dataframe tbody tr th {\n",
              "        vertical-align: top;\n",
              "    }\n",
              "\n",
              "    .dataframe thead th {\n",
              "        text-align: right;\n",
              "    }\n",
              "</style>\n",
              "<table border=\"1\" class=\"dataframe\">\n",
              "  <thead>\n",
              "    <tr style=\"text-align: right;\">\n",
              "      <th></th>\n",
              "      <th>id</th>\n",
              "      <th>age</th>\n",
              "      <th>sex</th>\n",
              "      <th>city</th>\n",
              "      <th>country</th>\n",
              "      <th>followers_count</th>\n",
              "      <th>last_seen</th>\n",
              "      <th>costs_to_rur</th>\n",
              "      <th>games</th>\n",
              "    </tr>\n",
              "  </thead>\n",
              "  <tbody>\n",
              "    <tr>\n",
              "      <th>0</th>\n",
              "      <td>19</td>\n",
              "      <td>17</td>\n",
              "      <td>женский</td>\n",
              "      <td>санкт-петербург</td>\n",
              "      <td>россия</td>\n",
              "      <td>39326</td>\n",
              "      <td>03.09.2022</td>\n",
              "      <td>25000.0</td>\n",
              "      <td>Dota 2</td>\n",
              "    </tr>\n",
              "    <tr>\n",
              "      <th>0</th>\n",
              "      <td>19</td>\n",
              "      <td>17</td>\n",
              "      <td>женский</td>\n",
              "      <td>санкт-петербург</td>\n",
              "      <td>россия</td>\n",
              "      <td>39326</td>\n",
              "      <td>03.09.2022</td>\n",
              "      <td>25000.0</td>\n",
              "      <td>CS:GO</td>\n",
              "    </tr>\n",
              "    <tr>\n",
              "      <th>0</th>\n",
              "      <td>19</td>\n",
              "      <td>17</td>\n",
              "      <td>женский</td>\n",
              "      <td>санкт-петербург</td>\n",
              "      <td>россия</td>\n",
              "      <td>39326</td>\n",
              "      <td>03.09.2022</td>\n",
              "      <td>25000.0</td>\n",
              "      <td>Warcraft III</td>\n",
              "    </tr>\n",
              "    <tr>\n",
              "      <th>1</th>\n",
              "      <td>510</td>\n",
              "      <td>37</td>\n",
              "      <td>мужской</td>\n",
              "      <td>город не указан</td>\n",
              "      <td>россия</td>\n",
              "      <td>19698</td>\n",
              "      <td>24.08.2022</td>\n",
              "      <td>50000.0</td>\n",
              "      <td>League of Legends</td>\n",
              "    </tr>\n",
              "    <tr>\n",
              "      <th>1</th>\n",
              "      <td>510</td>\n",
              "      <td>37</td>\n",
              "      <td>мужской</td>\n",
              "      <td>город не указан</td>\n",
              "      <td>россия</td>\n",
              "      <td>19698</td>\n",
              "      <td>24.08.2022</td>\n",
              "      <td>50000.0</td>\n",
              "      <td>Valorant</td>\n",
              "    </tr>\n",
              "    <tr>\n",
              "      <th>...</th>\n",
              "      <td>...</td>\n",
              "      <td>...</td>\n",
              "      <td>...</td>\n",
              "      <td>...</td>\n",
              "      <td>...</td>\n",
              "      <td>...</td>\n",
              "      <td>...</td>\n",
              "      <td>...</td>\n",
              "      <td>...</td>\n",
              "    </tr>\n",
              "    <tr>\n",
              "      <th>3330</th>\n",
              "      <td>741278238</td>\n",
              "      <td>32</td>\n",
              "      <td>мужской</td>\n",
              "      <td>город не указан</td>\n",
              "      <td>россия</td>\n",
              "      <td>&lt;NA&gt;</td>\n",
              "      <td>26.07.2022</td>\n",
              "      <td>50000.0</td>\n",
              "      <td>Hearthstone</td>\n",
              "    </tr>\n",
              "    <tr>\n",
              "      <th>3330</th>\n",
              "      <td>741278238</td>\n",
              "      <td>32</td>\n",
              "      <td>мужской</td>\n",
              "      <td>город не указан</td>\n",
              "      <td>россия</td>\n",
              "      <td>&lt;NA&gt;</td>\n",
              "      <td>26.07.2022</td>\n",
              "      <td>50000.0</td>\n",
              "      <td>Overwatch</td>\n",
              "    </tr>\n",
              "    <tr>\n",
              "      <th>3331</th>\n",
              "      <td>741268233</td>\n",
              "      <td>16</td>\n",
              "      <td>мужской</td>\n",
              "      <td>город не указан</td>\n",
              "      <td>россия</td>\n",
              "      <td>0</td>\n",
              "      <td>03.09.2022</td>\n",
              "      <td>50000.0</td>\n",
              "      <td>CS:GO</td>\n",
              "    </tr>\n",
              "    <tr>\n",
              "      <th>3332</th>\n",
              "      <td>741254343</td>\n",
              "      <td>21</td>\n",
              "      <td>мужской</td>\n",
              "      <td>город не указан</td>\n",
              "      <td>россия</td>\n",
              "      <td>1</td>\n",
              "      <td>03.09.2022</td>\n",
              "      <td>25000.0</td>\n",
              "      <td>CS:GO</td>\n",
              "    </tr>\n",
              "    <tr>\n",
              "      <th>3333</th>\n",
              "      <td>741237782</td>\n",
              "      <td>22</td>\n",
              "      <td>мужской</td>\n",
              "      <td>город не указан</td>\n",
              "      <td>россия</td>\n",
              "      <td>&lt;NA&gt;</td>\n",
              "      <td>29.08.2022</td>\n",
              "      <td>25000.0</td>\n",
              "      <td>CS:GO</td>\n",
              "    </tr>\n",
              "  </tbody>\n",
              "</table>\n",
              "<p>4608 rows × 9 columns</p>\n",
              "</div>\n",
              "      <button class=\"colab-df-convert\" onclick=\"convertToInteractive('df-c51165b7-b565-4ba9-9cbc-5172f177f69c')\"\n",
              "              title=\"Convert this dataframe to an interactive table.\"\n",
              "              style=\"display:none;\">\n",
              "        \n",
              "  <svg xmlns=\"http://www.w3.org/2000/svg\" height=\"24px\"viewBox=\"0 0 24 24\"\n",
              "       width=\"24px\">\n",
              "    <path d=\"M0 0h24v24H0V0z\" fill=\"none\"/>\n",
              "    <path d=\"M18.56 5.44l.94 2.06.94-2.06 2.06-.94-2.06-.94-.94-2.06-.94 2.06-2.06.94zm-11 1L8.5 8.5l.94-2.06 2.06-.94-2.06-.94L8.5 2.5l-.94 2.06-2.06.94zm10 10l.94 2.06.94-2.06 2.06-.94-2.06-.94-.94-2.06-.94 2.06-2.06.94z\"/><path d=\"M17.41 7.96l-1.37-1.37c-.4-.4-.92-.59-1.43-.59-.52 0-1.04.2-1.43.59L10.3 9.45l-7.72 7.72c-.78.78-.78 2.05 0 2.83L4 21.41c.39.39.9.59 1.41.59.51 0 1.02-.2 1.41-.59l7.78-7.78 2.81-2.81c.8-.78.8-2.07 0-2.86zM5.41 20L4 18.59l7.72-7.72 1.47 1.35L5.41 20z\"/>\n",
              "  </svg>\n",
              "      </button>\n",
              "      \n",
              "  <style>\n",
              "    .colab-df-container {\n",
              "      display:flex;\n",
              "      flex-wrap:wrap;\n",
              "      gap: 12px;\n",
              "    }\n",
              "\n",
              "    .colab-df-convert {\n",
              "      background-color: #E8F0FE;\n",
              "      border: none;\n",
              "      border-radius: 50%;\n",
              "      cursor: pointer;\n",
              "      display: none;\n",
              "      fill: #1967D2;\n",
              "      height: 32px;\n",
              "      padding: 0 0 0 0;\n",
              "      width: 32px;\n",
              "    }\n",
              "\n",
              "    .colab-df-convert:hover {\n",
              "      background-color: #E2EBFA;\n",
              "      box-shadow: 0px 1px 2px rgba(60, 64, 67, 0.3), 0px 1px 3px 1px rgba(60, 64, 67, 0.15);\n",
              "      fill: #174EA6;\n",
              "    }\n",
              "\n",
              "    [theme=dark] .colab-df-convert {\n",
              "      background-color: #3B4455;\n",
              "      fill: #D2E3FC;\n",
              "    }\n",
              "\n",
              "    [theme=dark] .colab-df-convert:hover {\n",
              "      background-color: #434B5C;\n",
              "      box-shadow: 0px 1px 3px 1px rgba(0, 0, 0, 0.15);\n",
              "      filter: drop-shadow(0px 1px 2px rgba(0, 0, 0, 0.3));\n",
              "      fill: #FFFFFF;\n",
              "    }\n",
              "  </style>\n",
              "\n",
              "      <script>\n",
              "        const buttonEl =\n",
              "          document.querySelector('#df-c51165b7-b565-4ba9-9cbc-5172f177f69c button.colab-df-convert');\n",
              "        buttonEl.style.display =\n",
              "          google.colab.kernel.accessAllowed ? 'block' : 'none';\n",
              "\n",
              "        async function convertToInteractive(key) {\n",
              "          const element = document.querySelector('#df-c51165b7-b565-4ba9-9cbc-5172f177f69c');\n",
              "          const dataTable =\n",
              "            await google.colab.kernel.invokeFunction('convertToInteractive',\n",
              "                                                     [key], {});\n",
              "          if (!dataTable) return;\n",
              "\n",
              "          const docLinkHtml = 'Like what you see? Visit the ' +\n",
              "            '<a target=\"_blank\" href=https://colab.research.google.com/notebooks/data_table.ipynb>data table notebook</a>'\n",
              "            + ' to learn more about interactive tables.';\n",
              "          element.innerHTML = '';\n",
              "          dataTable['output_type'] = 'display_data';\n",
              "          await google.colab.output.renderOutput(dataTable, element);\n",
              "          const docLink = document.createElement('div');\n",
              "          docLink.innerHTML = docLinkHtml;\n",
              "          element.appendChild(docLink);\n",
              "        }\n",
              "      </script>\n",
              "    </div>\n",
              "  </div>\n",
              "  "
            ]
          },
          "metadata": {},
          "execution_count": 193
        }
      ]
    },
    {
      "cell_type": "code",
      "source": [
        "# для каждого значения из списков игр была скопирована вся информация о пользователях\n",
        "# например, для пользователя с id=19 - три значения с индексом 0"
      ],
      "metadata": {
        "id": "p1HDi4C-z44a"
      },
      "execution_count": null,
      "outputs": []
    },
    {
      "cell_type": "code",
      "source": [
        "# следует перезаписать индексы по порядку (в нашем случае нет необходимости сохранять исходные индексы)\n",
        "# либо использовать метод reset_index(), используемый ранее,\n",
        "# либо передать параметр ignore_index=True в метод explode()\n",
        "df_games = df_copy.explode('games', ignore_index=True)\n",
        "df_games"
      ],
      "metadata": {
        "id": "3EVfcSoV0ko7",
        "colab": {
          "base_uri": "https://localhost:8080/",
          "height": 424
        },
        "outputId": "83977c7f-aceb-43b1-cc11-5b99c74ddc9f"
      },
      "execution_count": null,
      "outputs": [
        {
          "output_type": "execute_result",
          "data": {
            "text/plain": [
              "             id  age      sex             city country  followers_count  \\\n",
              "0            19   17  женский  санкт-петербург  россия            39326   \n",
              "1            19   17  женский  санкт-петербург  россия            39326   \n",
              "2            19   17  женский  санкт-петербург  россия            39326   \n",
              "3           510   37  мужской  город не указан  россия            19698   \n",
              "4           510   37  мужской  город не указан  россия            19698   \n",
              "...         ...  ...      ...              ...     ...              ...   \n",
              "4603  741278238   32  мужской  город не указан  россия             <NA>   \n",
              "4604  741278238   32  мужской  город не указан  россия             <NA>   \n",
              "4605  741268233   16  мужской  город не указан  россия                0   \n",
              "4606  741254343   21  мужской  город не указан  россия                1   \n",
              "4607  741237782   22  мужской  город не указан  россия             <NA>   \n",
              "\n",
              "       last_seen  costs_to_rur              games  \n",
              "0     03.09.2022       25000.0             Dota 2  \n",
              "1     03.09.2022       25000.0              CS:GO  \n",
              "2     03.09.2022       25000.0       Warcraft III  \n",
              "3     24.08.2022       50000.0  League of Legends  \n",
              "4     24.08.2022       50000.0           Valorant  \n",
              "...          ...           ...                ...  \n",
              "4603  26.07.2022       50000.0        Hearthstone  \n",
              "4604  26.07.2022       50000.0          Overwatch  \n",
              "4605  03.09.2022       50000.0              CS:GO  \n",
              "4606  03.09.2022       25000.0              CS:GO  \n",
              "4607  29.08.2022       25000.0              CS:GO  \n",
              "\n",
              "[4608 rows x 9 columns]"
            ],
            "text/html": [
              "\n",
              "  <div id=\"df-c2f8d828-84ec-4c2a-b6a7-129659644d7a\">\n",
              "    <div class=\"colab-df-container\">\n",
              "      <div>\n",
              "<style scoped>\n",
              "    .dataframe tbody tr th:only-of-type {\n",
              "        vertical-align: middle;\n",
              "    }\n",
              "\n",
              "    .dataframe tbody tr th {\n",
              "        vertical-align: top;\n",
              "    }\n",
              "\n",
              "    .dataframe thead th {\n",
              "        text-align: right;\n",
              "    }\n",
              "</style>\n",
              "<table border=\"1\" class=\"dataframe\">\n",
              "  <thead>\n",
              "    <tr style=\"text-align: right;\">\n",
              "      <th></th>\n",
              "      <th>id</th>\n",
              "      <th>age</th>\n",
              "      <th>sex</th>\n",
              "      <th>city</th>\n",
              "      <th>country</th>\n",
              "      <th>followers_count</th>\n",
              "      <th>last_seen</th>\n",
              "      <th>costs_to_rur</th>\n",
              "      <th>games</th>\n",
              "    </tr>\n",
              "  </thead>\n",
              "  <tbody>\n",
              "    <tr>\n",
              "      <th>0</th>\n",
              "      <td>19</td>\n",
              "      <td>17</td>\n",
              "      <td>женский</td>\n",
              "      <td>санкт-петербург</td>\n",
              "      <td>россия</td>\n",
              "      <td>39326</td>\n",
              "      <td>03.09.2022</td>\n",
              "      <td>25000.0</td>\n",
              "      <td>Dota 2</td>\n",
              "    </tr>\n",
              "    <tr>\n",
              "      <th>1</th>\n",
              "      <td>19</td>\n",
              "      <td>17</td>\n",
              "      <td>женский</td>\n",
              "      <td>санкт-петербург</td>\n",
              "      <td>россия</td>\n",
              "      <td>39326</td>\n",
              "      <td>03.09.2022</td>\n",
              "      <td>25000.0</td>\n",
              "      <td>CS:GO</td>\n",
              "    </tr>\n",
              "    <tr>\n",
              "      <th>2</th>\n",
              "      <td>19</td>\n",
              "      <td>17</td>\n",
              "      <td>женский</td>\n",
              "      <td>санкт-петербург</td>\n",
              "      <td>россия</td>\n",
              "      <td>39326</td>\n",
              "      <td>03.09.2022</td>\n",
              "      <td>25000.0</td>\n",
              "      <td>Warcraft III</td>\n",
              "    </tr>\n",
              "    <tr>\n",
              "      <th>3</th>\n",
              "      <td>510</td>\n",
              "      <td>37</td>\n",
              "      <td>мужской</td>\n",
              "      <td>город не указан</td>\n",
              "      <td>россия</td>\n",
              "      <td>19698</td>\n",
              "      <td>24.08.2022</td>\n",
              "      <td>50000.0</td>\n",
              "      <td>League of Legends</td>\n",
              "    </tr>\n",
              "    <tr>\n",
              "      <th>4</th>\n",
              "      <td>510</td>\n",
              "      <td>37</td>\n",
              "      <td>мужской</td>\n",
              "      <td>город не указан</td>\n",
              "      <td>россия</td>\n",
              "      <td>19698</td>\n",
              "      <td>24.08.2022</td>\n",
              "      <td>50000.0</td>\n",
              "      <td>Valorant</td>\n",
              "    </tr>\n",
              "    <tr>\n",
              "      <th>...</th>\n",
              "      <td>...</td>\n",
              "      <td>...</td>\n",
              "      <td>...</td>\n",
              "      <td>...</td>\n",
              "      <td>...</td>\n",
              "      <td>...</td>\n",
              "      <td>...</td>\n",
              "      <td>...</td>\n",
              "      <td>...</td>\n",
              "    </tr>\n",
              "    <tr>\n",
              "      <th>4603</th>\n",
              "      <td>741278238</td>\n",
              "      <td>32</td>\n",
              "      <td>мужской</td>\n",
              "      <td>город не указан</td>\n",
              "      <td>россия</td>\n",
              "      <td>&lt;NA&gt;</td>\n",
              "      <td>26.07.2022</td>\n",
              "      <td>50000.0</td>\n",
              "      <td>Hearthstone</td>\n",
              "    </tr>\n",
              "    <tr>\n",
              "      <th>4604</th>\n",
              "      <td>741278238</td>\n",
              "      <td>32</td>\n",
              "      <td>мужской</td>\n",
              "      <td>город не указан</td>\n",
              "      <td>россия</td>\n",
              "      <td>&lt;NA&gt;</td>\n",
              "      <td>26.07.2022</td>\n",
              "      <td>50000.0</td>\n",
              "      <td>Overwatch</td>\n",
              "    </tr>\n",
              "    <tr>\n",
              "      <th>4605</th>\n",
              "      <td>741268233</td>\n",
              "      <td>16</td>\n",
              "      <td>мужской</td>\n",
              "      <td>город не указан</td>\n",
              "      <td>россия</td>\n",
              "      <td>0</td>\n",
              "      <td>03.09.2022</td>\n",
              "      <td>50000.0</td>\n",
              "      <td>CS:GO</td>\n",
              "    </tr>\n",
              "    <tr>\n",
              "      <th>4606</th>\n",
              "      <td>741254343</td>\n",
              "      <td>21</td>\n",
              "      <td>мужской</td>\n",
              "      <td>город не указан</td>\n",
              "      <td>россия</td>\n",
              "      <td>1</td>\n",
              "      <td>03.09.2022</td>\n",
              "      <td>25000.0</td>\n",
              "      <td>CS:GO</td>\n",
              "    </tr>\n",
              "    <tr>\n",
              "      <th>4607</th>\n",
              "      <td>741237782</td>\n",
              "      <td>22</td>\n",
              "      <td>мужской</td>\n",
              "      <td>город не указан</td>\n",
              "      <td>россия</td>\n",
              "      <td>&lt;NA&gt;</td>\n",
              "      <td>29.08.2022</td>\n",
              "      <td>25000.0</td>\n",
              "      <td>CS:GO</td>\n",
              "    </tr>\n",
              "  </tbody>\n",
              "</table>\n",
              "<p>4608 rows × 9 columns</p>\n",
              "</div>\n",
              "      <button class=\"colab-df-convert\" onclick=\"convertToInteractive('df-c2f8d828-84ec-4c2a-b6a7-129659644d7a')\"\n",
              "              title=\"Convert this dataframe to an interactive table.\"\n",
              "              style=\"display:none;\">\n",
              "        \n",
              "  <svg xmlns=\"http://www.w3.org/2000/svg\" height=\"24px\"viewBox=\"0 0 24 24\"\n",
              "       width=\"24px\">\n",
              "    <path d=\"M0 0h24v24H0V0z\" fill=\"none\"/>\n",
              "    <path d=\"M18.56 5.44l.94 2.06.94-2.06 2.06-.94-2.06-.94-.94-2.06-.94 2.06-2.06.94zm-11 1L8.5 8.5l.94-2.06 2.06-.94-2.06-.94L8.5 2.5l-.94 2.06-2.06.94zm10 10l.94 2.06.94-2.06 2.06-.94-2.06-.94-.94-2.06-.94 2.06-2.06.94z\"/><path d=\"M17.41 7.96l-1.37-1.37c-.4-.4-.92-.59-1.43-.59-.52 0-1.04.2-1.43.59L10.3 9.45l-7.72 7.72c-.78.78-.78 2.05 0 2.83L4 21.41c.39.39.9.59 1.41.59.51 0 1.02-.2 1.41-.59l7.78-7.78 2.81-2.81c.8-.78.8-2.07 0-2.86zM5.41 20L4 18.59l7.72-7.72 1.47 1.35L5.41 20z\"/>\n",
              "  </svg>\n",
              "      </button>\n",
              "      \n",
              "  <style>\n",
              "    .colab-df-container {\n",
              "      display:flex;\n",
              "      flex-wrap:wrap;\n",
              "      gap: 12px;\n",
              "    }\n",
              "\n",
              "    .colab-df-convert {\n",
              "      background-color: #E8F0FE;\n",
              "      border: none;\n",
              "      border-radius: 50%;\n",
              "      cursor: pointer;\n",
              "      display: none;\n",
              "      fill: #1967D2;\n",
              "      height: 32px;\n",
              "      padding: 0 0 0 0;\n",
              "      width: 32px;\n",
              "    }\n",
              "\n",
              "    .colab-df-convert:hover {\n",
              "      background-color: #E2EBFA;\n",
              "      box-shadow: 0px 1px 2px rgba(60, 64, 67, 0.3), 0px 1px 3px 1px rgba(60, 64, 67, 0.15);\n",
              "      fill: #174EA6;\n",
              "    }\n",
              "\n",
              "    [theme=dark] .colab-df-convert {\n",
              "      background-color: #3B4455;\n",
              "      fill: #D2E3FC;\n",
              "    }\n",
              "\n",
              "    [theme=dark] .colab-df-convert:hover {\n",
              "      background-color: #434B5C;\n",
              "      box-shadow: 0px 1px 3px 1px rgba(0, 0, 0, 0.15);\n",
              "      filter: drop-shadow(0px 1px 2px rgba(0, 0, 0, 0.3));\n",
              "      fill: #FFFFFF;\n",
              "    }\n",
              "  </style>\n",
              "\n",
              "      <script>\n",
              "        const buttonEl =\n",
              "          document.querySelector('#df-c2f8d828-84ec-4c2a-b6a7-129659644d7a button.colab-df-convert');\n",
              "        buttonEl.style.display =\n",
              "          google.colab.kernel.accessAllowed ? 'block' : 'none';\n",
              "\n",
              "        async function convertToInteractive(key) {\n",
              "          const element = document.querySelector('#df-c2f8d828-84ec-4c2a-b6a7-129659644d7a');\n",
              "          const dataTable =\n",
              "            await google.colab.kernel.invokeFunction('convertToInteractive',\n",
              "                                                     [key], {});\n",
              "          if (!dataTable) return;\n",
              "\n",
              "          const docLinkHtml = 'Like what you see? Visit the ' +\n",
              "            '<a target=\"_blank\" href=https://colab.research.google.com/notebooks/data_table.ipynb>data table notebook</a>'\n",
              "            + ' to learn more about interactive tables.';\n",
              "          element.innerHTML = '';\n",
              "          dataTable['output_type'] = 'display_data';\n",
              "          await google.colab.output.renderOutput(dataTable, element);\n",
              "          const docLink = document.createElement('div');\n",
              "          docLink.innerHTML = docLinkHtml;\n",
              "          element.appendChild(docLink);\n",
              "        }\n",
              "      </script>\n",
              "    </div>\n",
              "  </div>\n",
              "  "
            ]
          },
          "metadata": {},
          "execution_count": 194
        }
      ]
    },
    {
      "cell_type": "code",
      "source": [
        "# проверим список уникальных значений с помощью метода unique()\n",
        "# при этом сначала выведем количество уникальных значений, используя функцию len()\n",
        "print(len(df_games.games.unique()))\n",
        "df_games.games.unique()"
      ],
      "metadata": {
        "id": "WZRqv_tr1fF2",
        "colab": {
          "base_uri": "https://localhost:8080/"
        },
        "outputId": "ace1fd57-d3e9-4e97-8df0-58f772e87848"
      },
      "execution_count": null,
      "outputs": [
        {
          "output_type": "stream",
          "name": "stdout",
          "text": [
            "17\n"
          ]
        },
        {
          "output_type": "execute_result",
          "data": {
            "text/plain": [
              "array(['Dota 2', 'CS:GO', 'Warcraft III', 'League of Legends', 'Valorant',\n",
              "       'Apex Legends', 'Fortnite', 'PUBG', 'Hearthstone', 'Overwatch',\n",
              "       'FIFA', 'StarCraft 2', 'Warface', 'Free Fire', 'Dota Underlords',\n",
              "       'Quake Champions', 'Heroes of the Storm'], dtype=object)"
            ]
          },
          "metadata": {},
          "execution_count": 196
        }
      ]
    },
    {
      "cell_type": "code",
      "source": [
        "# 17 уникальных значений по признаку 'games'\n",
        "# все значения на английском языке и нет повторяющихся, но написанных в разных регистрах\n",
        "# в данном случае не будем переводить игры в единый регистр букв"
      ],
      "metadata": {
        "id": "rY07k1362AZ0"
      },
      "execution_count": null,
      "outputs": []
    },
    {
      "cell_type": "code",
      "source": [
        "# сохраним результаты в файл в формате csv\n",
        "df_games.to_csv('df_games.csv')"
      ],
      "metadata": {
        "id": "W5aJuBvTkKDr"
      },
      "execution_count": null,
      "outputs": []
    },
    {
      "cell_type": "markdown",
      "source": [
        "<font size=5>**Коллега может приступить к анализу! <br>Большое спасибо за внимание! И удачи на курсе!<br>**</font>\n",
        "![](https://img.freepik.com/free-vector/businessman-holding-pencil-at-big-complete-checklist-with-tick-marks_1150-35019.jpg?w=740&t=st=1667295906~exp=1667296506~hmac=693ecc50efa7dd3d4563cc5c57f4f9f3b9ceac3c5038167bf0c8c4afbbe2d420)\n",
        "<font color=\"grey\" size=\"1\"><a href=\"https://ru.freepik.com/free-vector/businessman-holding-pencil-at-big-complete-checklist-with-tick-marks_11879344.htm#query=businessman-holding-pencil-at-big-complete&position=0&from_view=search&track=sph\">Изображение от jcomp</a> на Freepik</font>"
      ],
      "metadata": {
        "id": "4hrh4uCMk9SR"
      }
    }
  ]
}